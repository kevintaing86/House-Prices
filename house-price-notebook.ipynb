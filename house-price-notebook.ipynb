{
 "cells": [
  {
   "cell_type": "markdown",
   "metadata": {},
   "source": [
    "# House Price"
   ]
  },
  {
   "cell_type": "code",
   "execution_count": 1,
   "metadata": {},
   "outputs": [
    {
     "name": "stderr",
     "output_type": "stream",
     "text": [
      "C:\\Users\\kevin\\Anaconda3\\lib\\site-packages\\sklearn\\cross_validation.py:41: DeprecationWarning: This module was deprecated in version 0.18 in favor of the model_selection module into which all the refactored classes and functions are moved. Also note that the interface of the new CV iterators are different from that of this module. This module will be removed in 0.20.\n",
      "  \"This module will be removed in 0.20.\", DeprecationWarning)\n"
     ]
    }
   ],
   "source": [
    "# import libraries\n",
    "import pandas as pd\n",
    "import numpy as np\n",
    "import matplotlib\n",
    "import matplotlib.pyplot as plt\n",
    "from sklearn.linear_model import LinearRegression\n",
    "from sklearn.preprocessing import LabelEncoder, OneHotEncoder\n",
    "from sklearn.cross_validation import train_test_split\n",
    "from scipy.stats import skew\n",
    "%matplotlib inline"
   ]
  },
  {
   "cell_type": "code",
   "execution_count": 2,
   "metadata": {
    "collapsed": true
   },
   "outputs": [],
   "source": [
    "# reading in data\n",
    "train_data = pd.read_csv('train.csv')\n",
    "test_data = pd.read_csv('test.csv')"
   ]
  },
  {
   "cell_type": "markdown",
   "metadata": {},
   "source": [
    "### Column names"
   ]
  },
  {
   "cell_type": "code",
   "execution_count": 3,
   "metadata": {
    "scrolled": false
   },
   "outputs": [
    {
     "data": {
      "text/plain": [
       "Index(['Id', 'MSSubClass', 'MSZoning', 'LotFrontage', 'LotArea', 'Street',\n",
       "       'Alley', 'LotShape', 'LandContour', 'Utilities', 'LotConfig',\n",
       "       'LandSlope', 'Neighborhood', 'Condition1', 'Condition2', 'BldgType',\n",
       "       'HouseStyle', 'OverallQual', 'OverallCond', 'YearBuilt', 'YearRemodAdd',\n",
       "       'RoofStyle', 'RoofMatl', 'Exterior1st', 'Exterior2nd', 'MasVnrType',\n",
       "       'MasVnrArea', 'ExterQual', 'ExterCond', 'Foundation', 'BsmtQual',\n",
       "       'BsmtCond', 'BsmtExposure', 'BsmtFinType1', 'BsmtFinSF1',\n",
       "       'BsmtFinType2', 'BsmtFinSF2', 'BsmtUnfSF', 'TotalBsmtSF', 'Heating',\n",
       "       'HeatingQC', 'CentralAir', 'Electrical', '1stFlrSF', '2ndFlrSF',\n",
       "       'LowQualFinSF', 'GrLivArea', 'BsmtFullBath', 'BsmtHalfBath', 'FullBath',\n",
       "       'HalfBath', 'BedroomAbvGr', 'KitchenAbvGr', 'KitchenQual',\n",
       "       'TotRmsAbvGrd', 'Functional', 'Fireplaces', 'FireplaceQu', 'GarageType',\n",
       "       'GarageYrBlt', 'GarageFinish', 'GarageCars', 'GarageArea', 'GarageQual',\n",
       "       'GarageCond', 'PavedDrive', 'WoodDeckSF', 'OpenPorchSF',\n",
       "       'EnclosedPorch', '3SsnPorch', 'ScreenPorch', 'PoolArea', 'PoolQC',\n",
       "       'Fence', 'MiscFeature', 'MiscVal', 'MoSold', 'YrSold', 'SaleType',\n",
       "       'SaleCondition', 'SalePrice'],\n",
       "      dtype='object')"
      ]
     },
     "execution_count": 3,
     "metadata": {},
     "output_type": "execute_result"
    }
   ],
   "source": [
    "train_data.columns"
   ]
  },
  {
   "cell_type": "markdown",
   "metadata": {},
   "source": [
    "# Linear regression on sales price and Lotarea"
   ]
  },
  {
   "cell_type": "code",
   "execution_count": 4,
   "metadata": {
    "collapsed": true
   },
   "outputs": [],
   "source": [
    "lotArea = train_data.iloc[:, [0,4]] # this will be our independent variable\n",
    "salePrice = train_data.iloc[:, [0, -1]] # this will be our dependent variable"
   ]
  },
  {
   "cell_type": "code",
   "execution_count": 5,
   "metadata": {
    "scrolled": true
   },
   "outputs": [
    {
     "data": {
      "text/plain": [
       "LinearRegression(copy_X=True, fit_intercept=True, n_jobs=1, normalize=False)"
      ]
     },
     "execution_count": 5,
     "metadata": {},
     "output_type": "execute_result"
    }
   ],
   "source": [
    "# linear regression\n",
    "regressor = LinearRegression()\n",
    "regressor.fit(lotArea, salePrice)"
   ]
  },
  {
   "cell_type": "code",
   "execution_count": 6,
   "metadata": {},
   "outputs": [
    {
     "data": {
      "image/png": "[encoded data removed]",
      "text/plain": [
       "<matplotlib.figure.Figure at 0x225e7d44b38>"
      ]
     },
     "metadata": {},
     "output_type": "display_data"
    }
   ],
   "source": [
    "# visualize\n",
    "plt.scatter(lotArea, salePrice, color='red') # plot all the points\n",
    "plt.plot(lotArea, regressor.predict(lotArea), color='blue') # plot the regression line\n",
    "plt.title('Sales Price vs Lot Area')\n",
    "plt.xlabel('Lot Area')\n",
    "plt.ylabel('Sale Price')\n",
    "plt.show()"
   ]
  },
  {
   "cell_type": "markdown",
   "metadata": {},
   "source": [
    "# Year built vs Sales prices"
   ]
  },
  {
   "cell_type": "code",
   "execution_count": 7,
   "metadata": {
    "collapsed": true
   },
   "outputs": [],
   "source": [
    "yearBuilt = train_data.iloc[:, [0,19]]\n",
    "salePrice = train_data.iloc[:, [0, -1]]"
   ]
  },
  {
   "cell_type": "code",
   "execution_count": 8,
   "metadata": {
    "collapsed": true,
    "scrolled": false
   },
   "outputs": [],
   "source": [
    "# will determine how old house is by currentYear(2017) - yearBuilt\n",
    "houseAge = []\n",
    "yearBuiltMatrix = yearBuilt.as_matrix()\n",
    "for row in range(len(yearBuiltMatrix)):\n",
    "    houseAge.append([yearBuiltMatrix[row,0],2017 - yearBuiltMatrix[row,1]])"
   ]
  },
  {
   "cell_type": "code",
   "execution_count": 9,
   "metadata": {
    "scrolled": true
   },
   "outputs": [
    {
     "data": {
      "image/png": "[encoded data removed]",
      "text/plain": [
       "<matplotlib.figure.Figure at 0x225e7946c50>"
      ]
     },
     "metadata": {},
     "output_type": "display_data"
    }
   ],
   "source": [
    "# visualize\n",
    "plt.scatter(houseAge, salePrice, color='red')\n",
    "plt.title('Age of house vs Sale Price')\n",
    "plt.xlabel('Age')\n",
    "plt.ylabel('Sale Price')\n",
    "plt.xlim([0, 165])\n",
    "plt.show()"
   ]
  },
  {
   "cell_type": "markdown",
   "metadata": {},
   "source": [
    "# Multiple Regression"
   ]
  },
  {
   "cell_type": "markdown",
   "metadata": {},
   "source": [
    "### Data preprocessing"
   ]
  },
  {
   "cell_type": "code",
   "execution_count": 10,
   "metadata": {},
   "outputs": [],
   "source": [
    "# break train_data into dependent and independent columns\n",
    "ind_dframe = train_data.iloc[:, 1:-1] # all the columns except sale price and ID\n",
    "dep_dframe = train_data.iloc[:, -1] # sale price\n",
    "\n",
    "# skew data\n",
    "numeric_features = ind_dframe.dtypes[ind_dframe.dtypes != \"object\"].index\n",
    "\n",
    "skewed_features = ind_dframe[numeric_features].apply(lambda x: skew(x.dropna()))\n",
    "skewed_features = skewed_features[skewed_features > 0.75]\n",
    "skewed_features = skewed_features.index\n",
    "\n",
    "ind_dframe[skewed_features] = np.log1p(ind_dframe[skewed_features])\n",
    "dep_dframe = np.log1p(dep_dframe)\n",
    "\n",
    "# get dummies\n",
    "ind_dframe = pd.get_dummies(ind_dframe)\n",
    "\n",
    "# replave NA with the column mean\n",
    "# NOTE: Might need to replace NA case-by-case\n",
    "ind_dframe = ind_dframe.fillna(ind_dframe.mean())\n",
    "\n",
    "# values of the data frame\n",
    "ind = ind_dframe.values\n",
    "dep = dep_dframe.values\n",
    "\n",
    "# split into test and train sets\n",
    "ind_train, ind_test, dep_train, dep_test = train_test_split(ind, dep, test_size = 0.3, random_state = 0)"
   ]
  },
  {
   "cell_type": "markdown",
   "metadata": {},
   "source": [
    "### Model"
   ]
  },
  {
   "cell_type": "code",
   "execution_count": 11,
   "metadata": {
    "collapsed": true
   },
   "outputs": [],
   "source": [
    "regressor = LinearRegression()\n",
    "regressor.fit(ind_train, dep_train)\n",
    "\n",
    "sale_predictions = regressor.predict(ind_test)"
   ]
  },
  {
   "cell_type": "markdown",
   "metadata": {},
   "source": [
    "### Prediction"
   ]
  },
  {
   "cell_type": "code",
   "execution_count": 12,
   "metadata": {},
   "outputs": [
    {
     "data": {
      "text/plain": [
       "array([ 12.40204829,  11.89118877,  11.6958467 ,  12.3228286 ,\n",
       "        11.48503847,  11.22117919,  12.46127767,  11.7732452 ,\n",
       "        13.18104153,  11.94907657,  12.23836863,  11.566279  ,\n",
       "        12.33224695,  11.70336526,  11.65383355,  11.8523873 ,\n",
       "        12.38907829,  11.75743495,  11.83792802,  11.98401572,\n",
       "        11.75553707,  12.16013965,  11.50713515,  11.92843168,\n",
       "        12.14659199,  11.97226301,  11.99025866,  11.22965207,\n",
       "        12.62664394,  11.68345661,  11.97870353,  12.21508897,\n",
       "        11.89261995,  12.63131391,  12.74794383,  12.24923122,\n",
       "        12.56833106,  11.71242032,  12.36122485,  12.7394399 ,\n",
       "        12.21433784,  11.66297094,  12.11460249,  12.62070533,\n",
       "        12.83312408,  11.9012936 ,  11.31032264,  11.82306296,\n",
       "        12.07281419,  11.5427189 ,  12.8996017 ,  11.931633  ,\n",
       "        12.02833547,  11.32638021,  12.37478719,  11.52027242,\n",
       "        11.48727501,  12.28161397,  11.77324979,  11.13555328,\n",
       "        11.87706969,  11.77891411,  11.75977531,  11.91565604,\n",
       "        12.24014667,  12.06446082,  11.76496172,  12.30009812,\n",
       "        11.86175645,  12.29034257,  12.12730849,  11.70365049,\n",
       "        10.73048407,  12.47042122,  11.46735435,  12.40841291,\n",
       "        11.76341023,  11.71922008,  12.6047925 ,  12.34706617,\n",
       "        11.82352639,  11.81854326,  11.76029075,  11.91118048,\n",
       "        12.39849972,  12.17338951,  11.51649659,  12.20932884,\n",
       "        12.01121444,  11.87664749,  12.12438164,  12.12628507,\n",
       "        12.10237219,  12.36762503,  12.18797994,  11.90038901,\n",
       "        12.22959497,  12.02996758,  11.67680533,  11.92470368,\n",
       "        12.39261723,  12.39732582,  11.74531887,  11.89380439,\n",
       "        11.55233331,  12.54598618,  12.07680804,  11.42997818,\n",
       "        12.05919664,  11.66496617,  11.48881697,  11.5896264 ,\n",
       "        12.0842559 ,  11.64142464,  11.85909868,  12.00867957,\n",
       "        12.95908263,  11.66969396,  12.19295225,  12.45027271,\n",
       "        11.93877055,  11.98046862,  11.73533812,  12.04197851,\n",
       "        12.25504502,  12.3951252 ,  12.9109103 ,  12.30487626,\n",
       "        12.18745497,  12.05677774,  12.17051647,  12.1180642 ,\n",
       "        11.82733456,  12.14938415,  11.52634606,  12.24549117,\n",
       "        11.8617103 ,  12.07061523,  11.57725819,  12.03265585,\n",
       "        12.10808283,  11.72866907,  12.43748176,  11.89501129,\n",
       "        11.75809727,  12.01397815,  12.20164572,  11.87905495,\n",
       "        12.62047714,  12.37728019,  11.99274324,  12.7927252 ,\n",
       "        12.544735  ,  11.90373631,  11.8290722 ,  17.61878836,\n",
       "        11.79512782,  12.20037889,  11.76090678,  11.97062983,\n",
       "        11.6553671 ,  11.77528334,  12.20491947,  11.73841984,\n",
       "        12.31673743,  11.73057894,  11.94843065,  12.49407695,\n",
       "        12.06753939,  12.06176881,  12.09108649,  11.98878518,\n",
       "        12.18407442,  12.06791471,  11.70147905,  11.72229627,\n",
       "        11.79209257,  12.42140602,  11.59268886,  11.85689748,\n",
       "        12.57940868,  12.0957103 ,  11.68060747,  12.56983592,\n",
       "        11.58662057,  12.1544607 ,  11.46035931,  12.23564014,\n",
       "        12.28224299,  11.82998468,  11.84814007,  12.07457086,\n",
       "        12.19278187,  11.86777715,  11.96167877,  11.8175119 ,\n",
       "        11.157211  ,  11.86525414,  12.02108454,  11.66471163,\n",
       "        11.69621899,  12.1538601 ,  11.69560888,  11.70072765,\n",
       "        11.84298142,  12.15004829,  11.97494526,  12.73667734,\n",
       "        12.49391795,  11.22210387,  11.92651126,  12.48199143,\n",
       "        11.41593355,  11.56856839,  12.76386901,  11.92454938,\n",
       "        12.12249726,  12.53897487,  12.39368482,  11.2697901 ,\n",
       "        12.16385735,  11.57374708,  11.6800963 ,  11.78021347,\n",
       "        12.20092432,  12.52599087,  12.34711889,  12.20309931,\n",
       "        11.75833563,  11.96572185,  11.42361711,  11.88683684,\n",
       "        11.51547518,  11.92444757,  12.49949779,  11.82874477,\n",
       "        11.79222238,  11.59771388,  11.30807865,  12.12617538,\n",
       "        11.57680433,  12.24732917,  12.43916062,  12.29112781,\n",
       "        12.21913447,  11.97893988,  12.22914361,  12.13525222,\n",
       "        11.88520513,  12.19347716,  12.14356609,  12.5086035 ,\n",
       "        11.41628605,  13.00359879,  12.41094035,  12.30697872,\n",
       "        11.57080155,  12.32116657,  13.06106267,  13.90312981,\n",
       "        12.19875949,  11.58640965,  11.82223241,  11.51103565,\n",
       "        11.68798137,  12.78317587,  12.82657294,  10.74684992,\n",
       "        12.32690274,  12.35255056,  11.68925319,  12.33730256,\n",
       "        11.95847887,  12.03355086,  11.70734106,  12.35078995,\n",
       "        12.38431875,  12.46563267,  12.23519084,  11.22993636,\n",
       "        11.79675829,  12.5990306 ,  12.00204601,  11.8844383 ,\n",
       "        12.1461101 ,  11.83911115,  11.68446894,  12.60872658,\n",
       "        13.15727478,  12.24231573,  11.42445778,  11.510147  ,\n",
       "        12.65615568,  11.52558328,  11.91806442,  12.44044346,\n",
       "        12.31378255,  12.22006937,  11.82301919,  12.00434095,\n",
       "        11.40374331,  11.78676424,  12.06601698,  12.17095599,\n",
       "        11.94113467,  11.84128436,  11.93908807,  12.22271986,\n",
       "        12.13154863,  11.98936523,  11.72271631,  12.06215137,\n",
       "        11.68128223,  11.6930557 ,  11.74564046,  11.84041321,\n",
       "        12.66205836,  11.68610907,  12.12370035,  11.77886635,\n",
       "        11.75327095,  12.50094137,  11.64204055,  12.23899375,\n",
       "        11.6946022 ,  12.36940102,  11.75836748,  12.73263394,\n",
       "        12.44779027,  11.83880072,  11.66020518,  12.28882312,\n",
       "        12.13321516,  12.16738213,  12.01095562,  11.99214015,\n",
       "        11.7814318 ,  12.17792458,  11.75679425,  11.71991751,\n",
       "        12.78236825,  11.94728889,  11.97000691,  12.23834942,\n",
       "        12.10141088,  11.84257238,  11.63373526,  11.55862721,\n",
       "        11.43536146,  11.85723375,  12.28050075,  12.69090206,\n",
       "        11.62796758,  11.66433233,  11.95714057,  12.95383578,\n",
       "        12.59760558,  11.92194582,  12.62839716,  12.43322377,\n",
       "        12.25079649,  12.24609211,  12.28908199,  12.39263251,\n",
       "        11.48507901,  11.7822192 ,  11.97811075,  11.8889371 ,\n",
       "        12.19615721,  17.34839319,  12.81258995,  11.46032588,\n",
       "        11.74730677,  11.81209012,  11.80599543,  11.04691655,\n",
       "        12.2585062 ,  12.60561152,  11.70560096,  12.46749425,\n",
       "        12.00331068,  11.54548559,  11.82667959,  11.81088846,\n",
       "        11.78822429,  11.24522093,  11.89151443,  12.20406806,\n",
       "        12.34804162,  12.8120991 ,  11.37712334,  11.71769141,\n",
       "        12.35745554,  11.33593563,  11.94027595,  11.98908682,\n",
       "        12.2585032 ,  12.08353765,  12.08962695,  12.16871178,\n",
       "        12.75922237,  12.15914959,  11.912548  ,  11.3135029 ,\n",
       "        11.86145916,  12.58897647,  11.53958477,  12.69798036,\n",
       "        12.41166356,  12.3010175 ,  11.81416199,  11.76058332,\n",
       "        12.28196213,  11.67303241,  11.43132234,  11.63224945,\n",
       "        12.31196013,  11.61714032,  12.64555649,  11.61330541,\n",
       "        12.3942481 ,  12.79359626,  11.62654189,  11.93754662,\n",
       "        11.74028075,  11.62769919,  12.49620967,  11.56056312,\n",
       "        12.18470687,  11.80076258,  11.81688267,  12.36423731,\n",
       "        11.83211465,  12.15327751,  11.9107267 ,  12.76007587,\n",
       "        12.25358482,  13.05343244])"
      ]
     },
     "execution_count": 12,
     "metadata": {},
     "output_type": "execute_result"
    }
   ],
   "source": [
    "sale_predictions"
   ]
  },
  {
   "cell_type": "code",
   "execution_count": 13,
   "metadata": {
    "scrolled": true
   },
   "outputs": [
    {
     "data": {
      "text/plain": [
       "array([ 12.20919277,  11.79811193,  11.60824474,  12.16525586,\n",
       "        11.38510346,  11.3504183 ,  12.55293005,  11.85652226,\n",
       "        13.52114084,  11.91036512,  12.24961573,  11.82704984,\n",
       "        12.32386013,  11.71994776,  11.68856642,  11.88449592,\n",
       "        12.15478461,  11.72481391,  11.91405452,  11.95118685,\n",
       "        12.01974909,  11.88104171,  11.60824474,  12.06681633,\n",
       "        12.12811651,  12.03172521,  12.08673152,  11.34451865,\n",
       "        12.6760794 ,  11.68267668,  11.60824474,  12.26905214,\n",
       "        11.9576177 ,  12.4292202 ,  12.827995  ,  12.07254697,\n",
       "        12.53357982,  11.63071739,  12.47991311,  12.69158354,\n",
       "        12.40082084,  11.77529742,  12.01364621,  12.54254845,\n",
       "        12.90669432,  11.68688718,  11.73607702,  11.76135462,\n",
       "        12.05815831,  11.34924115,  12.92999391,  11.9576177 ,\n",
       "        12.0311298 ,  11.51293546,  12.52453001,  11.71994776,\n",
       "        11.79056478,  12.38798162,  11.84223641,  11.6526961 ,\n",
       "        11.83138647,  11.81303746,  11.8089551 ,  12.1034916 ,\n",
       "        12.17303796,  11.96081768,  11.79056478,  12.32163544,\n",
       "        11.84223641,  12.32386013,  12.14685859,  11.67844838,\n",
       "        11.31448672,  12.87901967,  11.62626308,  12.42481051,\n",
       "        11.80932691,  11.28352488,  12.6760794 ,  11.97035664,\n",
       "        11.84940484,  11.82408722,  11.58525543,  11.88449592,\n",
       "        12.20857451,  12.12811651,  11.56172515,  12.21931458,\n",
       "        12.13350733,  11.82041752,  12.20857451,  12.15478461,\n",
       "        12.14153946,  12.20607765,  12.05815831,  11.96400745,\n",
       "        12.26905214,  12.12811651,  11.73206903,  12.00089793,\n",
       "        12.46844076,  12.19854942,  11.69525536,  11.97980547,\n",
       "        11.57025997,  12.46844076,  11.8706069 ,  11.57590965,\n",
       "        12.09458786,  11.75195024,  11.41145736,  11.68267668,\n",
       "        12.15478461,  11.69442168,  12.12215285,  11.95118685,\n",
       "        12.8642427 ,  11.79811193,  12.17303796,  12.50618094,\n",
       "        11.85652226,  11.89136875,  11.76369197,  12.07824496,\n",
       "        12.27373597,  12.31043717,  12.93675402,  12.1428719 ,\n",
       "        12.20557752,  12.10071769,  12.23709155,  12.17561859,\n",
       "        11.87027818,  12.1167003 ,  11.66178503,  12.27022515,\n",
       "        11.84582705,  12.09514667,  11.58896942,  12.07767662,\n",
       "        11.97351618,  11.88449592,  12.28765724,  11.92172501,\n",
       "        11.59873612,  12.01733656,  12.21106516,  11.88793824,\n",
       "        12.67576685,  12.27839796,  12.1034916 ,  12.81392062,\n",
       "        12.38422302,  11.89068359,  11.98916586,  12.4292202 ,\n",
       "        11.40168101,  12.34583894,  11.89819467,  12.00701787,\n",
       "        11.48247657,  11.86358938,  12.19096408,  11.76757544,\n",
       "        12.35449696,  11.6526961 ,  12.07254697,  12.48748888,\n",
       "        12.2404789 ,  12.10625784,  12.07824496,  12.04942468,\n",
       "        12.18587504,  12.07824496,  11.63515195,  11.84223641,\n",
       "        11.81303746,  12.38839837,  11.62626308,  11.80560254,\n",
       "        12.66539758,  12.0435596 ,  11.66135409,  12.63134365,\n",
       "        11.32056569,  12.07254697,  11.57120381,  12.17561859,\n",
       "        12.17665413,  11.95697647,  11.83501621,  12.08391066,\n",
       "        12.27373597,  11.90497431,  11.75195024,  11.8671043 ,\n",
       "        11.28979441,  11.88449592,  12.04942468,  11.71587447,\n",
       "        11.84223641,  12.14950759,  11.69941333,  11.72804491,\n",
       "        11.98293534,  12.20607765,  11.98293534,  12.65396166,\n",
       "        12.52453001,  11.11246282,  11.97666577,  12.4332122 ,\n",
       "        11.43928969,  11.60368896,  12.86100121,  11.76757544,\n",
       "        11.32056569,  12.61486887,  12.42801948,  11.30221678,\n",
       "        12.14153946,  11.60824474,  11.66993776,  11.76369197,\n",
       "        12.27134996,  12.55673304,  12.34801048,  12.15478461,\n",
       "        11.81303746,  11.93164238,  11.3794055 ,  11.95118685,\n",
       "        11.6526961 ,  11.87757552,  12.42118806,  11.79434547,\n",
       "        11.82041752,  11.66993776,  11.31448672,  11.96718709,\n",
       "        11.60824474,  12.10625784,  12.16785663,  12.31717117,\n",
       "        12.10901644,  12.0435596 ,  12.14153946,  12.13296955,\n",
       "        11.98293534,  12.16525586,  12.11121786,  12.49125535,\n",
       "        11.51193497,  12.99175571,  12.34347093,  12.28690581,\n",
       "        11.61277985,  12.07767662,  13.1956157 ,  11.98293534,\n",
       "        12.05815831,  11.58989577,  11.78676974,  11.5735595 ,\n",
       "        12.86100121,  12.82363114,  12.75130259,  11.13460362,\n",
       "        12.4292202 ,  12.41044512,  11.73607702,  12.36308067,\n",
       "        11.88449592,  12.10625784,  11.55215579,  12.35879802,\n",
       "        12.0076278 ,  12.29911207,  12.18075997,  11.58989577,\n",
       "        11.91773036,  12.66033109,  12.08673152,  11.84940484,\n",
       "        12.17499469,  11.83429132,  11.67844838,  12.68850188,\n",
       "        13.22672519,  11.82041752,  11.32056569,  11.5228857 ,\n",
       "        12.65973727,  11.60368896,  12.00457439,  12.50987779,\n",
       "        12.23077014,  12.12811651,  11.98293534,  11.95118685,\n",
       "        11.41862577,  11.78296024,  12.01612811,  12.17922033,\n",
       "        11.95118685,  11.84940484,  11.89819467,  12.17561859,\n",
       "        12.09815887,  12.06105265,  11.60368896,  12.06528067,\n",
       "        11.7745279 ,  11.68688718,  11.74006901,  11.91371968,\n",
       "        12.62807033,  11.5327379 ,  12.09369311,  11.77144388,\n",
       "        11.28854365,  12.53537999,  11.68183245,  12.19096408,\n",
       "        11.84940484,  12.3282947 ,  11.79434547,  12.66033109,\n",
       "        12.3194058 ,  11.79434547,  11.69108002,  12.27839796,\n",
       "        12.25486757,  12.20678239,  12.12811651,  11.91773036,\n",
       "        11.76757544,  12.1232398 ,  11.81303746,  11.75979336,\n",
       "        12.83201375,  12.0076278 ,  11.96400745,  12.27839796,\n",
       "        12.01370681,  11.87757552,  11.74006901,  11.49578948,\n",
       "        11.42191702,  11.82012336,  12.33138725,  12.71640515,\n",
       "        11.64833884,  11.48247657,  12.10625784,  13.04979484,\n",
       "        12.57763965,  12.07254697,  12.36734505,  12.5317764 ,\n",
       "        12.69158354,  12.08954445,  12.36734505,  12.38422302,\n",
       "        11.3504183 ,  11.58525543,  11.98293534,  11.88449592,\n",
       "        12.16598476,  12.10625784,  12.84792916,  11.10497226,\n",
       "        11.73206903,  11.72804491,  11.87757552,  10.8685875 ,\n",
       "        12.28765724,  12.52453001,  11.75195024,  12.47801017,\n",
       "        11.99535779,  11.54249398,  11.83138647,  11.75587949,\n",
       "        11.75195024,  11.41862577,  11.88449592,  12.13619188,\n",
       "        12.30818238,  12.44230615,  11.59433032,  11.75195024,\n",
       "        12.37792711,  11.3621142 ,  11.85652226,  12.07824496,\n",
       "        12.0917891 ,  12.06624145,  11.96400745,  12.17045065,\n",
       "        12.7218888 ,  12.21106516,  11.89478753,  11.3621142 ,\n",
       "        11.90497431,  12.54254845,  11.62626308,  12.6230644 ,\n",
       "        12.4292202 ,  12.40738359,  11.74404512,  11.77913617,\n",
       "        12.39255636,  11.68267668,  11.6526961 ,  11.7745279 ,\n",
       "        12.2185001 ,  11.67844838,  12.7218888 ,  11.73607702,\n",
       "        12.45254593,  12.74444729,  11.59918573,  11.90834697,\n",
       "        11.79434547,  11.60824474,  12.4049276 ,  11.6526961 ,\n",
       "        12.17819258,  11.77144388,  12.0287446 ,  12.3365569 ,\n",
       "        12.04297119,  12.39462889,  11.75587949,  12.76569129,\n",
       "        12.3327097 ,  13.32392858])"
      ]
     },
     "execution_count": 13,
     "metadata": {},
     "output_type": "execute_result"
    }
   ],
   "source": [
    "dep_test"
   ]
  },
  {
   "cell_type": "markdown",
   "metadata": {},
   "source": [
    "### Findings"
   ]
  },
  {
   "cell_type": "code",
   "execution_count": 14,
   "metadata": {
    "collapsed": true
   },
   "outputs": [],
   "source": [
    "# getting all coefficients\n",
    "coef = pd.Series(regressor.coef_, index = ind_dframe.columns)\n",
    "\n",
    "# gettings signifigant coefficients\n",
    "sig_coef = pd.concat([coef.sort_values().head(10), coef.sort_values().tail(10)])"
   ]
  },
  {
   "cell_type": "code",
   "execution_count": 15,
   "metadata": {
    "scrolled": true
   },
   "outputs": [
    {
     "data": {
      "text/plain": [
       "<matplotlib.text.Text at 0x225e7d64320>"
      ]
     },
     "execution_count": 15,
     "metadata": {},
     "output_type": "execute_result"
    },
    {
     "data": {
      "image/png": "[encoded data removed]",
      "text/plain": [
       "<matplotlib.figure.Figure at 0x225e7970e80>"
      ]
     },
     "metadata": {},
     "output_type": "display_data"
    }
   ],
   "source": [
    "# graphing signifigant coefficients\n",
    "matplotlib.rcParams['figure.figsize'] = (8.0, 10.0)\n",
    "sig_coef.plot(kind = \"barh\")\n",
    "plt.title(\"Coefficients in Multiple Regression Model\")"
   ]
  },
  {
   "cell_type": "code",
   "execution_count": null,
   "metadata": {
    "collapsed": true
   },
   "outputs": [],
   "source": []
  }
 ],
 "metadata": {
  "kernelspec": {
   "display_name": "Python 3",
   "language": "python",
   "name": "python3"
  },
  "language_info": {
   "codemirror_mode": {
    "name": "ipython",
    "version": 3
   },
   "file_extension": ".py",
   "mimetype": "text/x-python",
   "name": "python",
   "nbconvert_exporter": "python",
   "pygments_lexer": "ipython3",
   "version": "3.6.2"
  }
 },
 "nbformat": 4,
 "nbformat_minor": 2
}
