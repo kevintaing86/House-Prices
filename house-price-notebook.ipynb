{
 "cells": [
  {
   "cell_type": "markdown",
   "metadata": {},
   "source": [
    "# House Price"
   ]
  },
  {
   "cell_type": "code",
   "execution_count": 1,
   "metadata": {},
   "outputs": [
    {
     "name": "stderr",
     "output_type": "stream",
     "text": [
      "C:\\Users\\kevin\\Anaconda3\\lib\\site-packages\\sklearn\\cross_validation.py:41: DeprecationWarning: This module was deprecated in version 0.18 in favor of the model_selection module into which all the refactored classes and functions are moved. Also note that the interface of the new CV iterators are different from that of this module. This module will be removed in 0.20.\n",
      "  \"This module will be removed in 0.20.\", DeprecationWarning)\n"
     ]
    }
   ],
   "source": [
    "# import libraries\n",
    "import pandas as pd\n",
    "import numpy as np\n",
    "import matplotlib\n",
    "import matplotlib.pyplot as plt\n",
    "from sklearn.linear_model import LinearRegression\n",
    "from sklearn.preprocessing import LabelEncoder, OneHotEncoder\n",
    "from sklearn.cross_validation import train_test_split\n",
    "%matplotlib inline"
   ]
  },
  {
   "cell_type": "code",
   "execution_count": 2,
   "metadata": {
    "collapsed": true
   },
   "outputs": [],
   "source": [
    "# reading in data\n",
    "train_data = pd.read_csv('train.csv')\n",
    "test_data = pd.read_csv('test.csv')"
   ]
  },
  {
   "cell_type": "markdown",
   "metadata": {},
   "source": [
    "### Column names"
   ]
  },
  {
   "cell_type": "code",
   "execution_count": 3,
   "metadata": {
    "scrolled": false
   },
   "outputs": [
    {
     "data": {
      "text/plain": [
       "Index(['Id', 'MSSubClass', 'MSZoning', 'LotFrontage', 'LotArea', 'Street',\n",
       "       'Alley', 'LotShape', 'LandContour', 'Utilities', 'LotConfig',\n",
       "       'LandSlope', 'Neighborhood', 'Condition1', 'Condition2', 'BldgType',\n",
       "       'HouseStyle', 'OverallQual', 'OverallCond', 'YearBuilt', 'YearRemodAdd',\n",
       "       'RoofStyle', 'RoofMatl', 'Exterior1st', 'Exterior2nd', 'MasVnrType',\n",
       "       'MasVnrArea', 'ExterQual', 'ExterCond', 'Foundation', 'BsmtQual',\n",
       "       'BsmtCond', 'BsmtExposure', 'BsmtFinType1', 'BsmtFinSF1',\n",
       "       'BsmtFinType2', 'BsmtFinSF2', 'BsmtUnfSF', 'TotalBsmtSF', 'Heating',\n",
       "       'HeatingQC', 'CentralAir', 'Electrical', '1stFlrSF', '2ndFlrSF',\n",
       "       'LowQualFinSF', 'GrLivArea', 'BsmtFullBath', 'BsmtHalfBath', 'FullBath',\n",
       "       'HalfBath', 'BedroomAbvGr', 'KitchenAbvGr', 'KitchenQual',\n",
       "       'TotRmsAbvGrd', 'Functional', 'Fireplaces', 'FireplaceQu', 'GarageType',\n",
       "       'GarageYrBlt', 'GarageFinish', 'GarageCars', 'GarageArea', 'GarageQual',\n",
       "       'GarageCond', 'PavedDrive', 'WoodDeckSF', 'OpenPorchSF',\n",
       "       'EnclosedPorch', '3SsnPorch', 'ScreenPorch', 'PoolArea', 'PoolQC',\n",
       "       'Fence', 'MiscFeature', 'MiscVal', 'MoSold', 'YrSold', 'SaleType',\n",
       "       'SaleCondition', 'SalePrice'],\n",
       "      dtype='object')"
      ]
     },
     "execution_count": 3,
     "metadata": {},
     "output_type": "execute_result"
    }
   ],
   "source": [
    "train_data.columns"
   ]
  },
  {
   "cell_type": "markdown",
   "metadata": {},
   "source": [
    "# Linear regression on sales price and Lotarea"
   ]
  },
  {
   "cell_type": "code",
   "execution_count": 4,
   "metadata": {
    "collapsed": true
   },
   "outputs": [],
   "source": [
    "lotArea = train_data.iloc[:, [0,4]] # this will be our independent variable\n",
    "salePrice = train_data.iloc[:, [0, -1]] # this will be our dependent variable"
   ]
  },
  {
   "cell_type": "code",
   "execution_count": 5,
   "metadata": {
    "scrolled": true
   },
   "outputs": [
    {
     "data": {
      "text/plain": [
       "LinearRegression(copy_X=True, fit_intercept=True, n_jobs=1, normalize=False)"
      ]
     },
     "execution_count": 5,
     "metadata": {},
     "output_type": "execute_result"
    }
   ],
   "source": [
    "# linear regression\n",
    "regressor = LinearRegression()\n",
    "regressor.fit(lotArea, salePrice)"
   ]
  },
  {
   "cell_type": "code",
   "execution_count": 6,
   "metadata": {},
   "outputs": [
    {
     "data": {
      "image/png": "[encoded data removed]",
      "text/plain": [
       "<matplotlib.figure.Figure at 0x23b2a421c50>"
      ]
     },
     "metadata": {},
     "output_type": "display_data"
    }
   ],
   "source": [
    "# visualize\n",
    "plt.scatter(lotArea, salePrice, color='red') # plot all the points\n",
    "plt.plot(lotArea, regressor.predict(lotArea), color='blue') # plot the regression line\n",
    "plt.title('Sales Price vs Lot Area')\n",
    "plt.xlabel('Lot Area')\n",
    "plt.ylabel('Sale Price')\n",
    "plt.show()"
   ]
  },
  {
   "cell_type": "markdown",
   "metadata": {},
   "source": [
    "# Year built vs Sales prices"
   ]
  },
  {
   "cell_type": "code",
   "execution_count": 7,
   "metadata": {
    "collapsed": true
   },
   "outputs": [],
   "source": [
    "yearBuilt = train_data.iloc[:, [0,19]]\n",
    "salePrice = train_data.iloc[:, [0, -1]]"
   ]
  },
  {
   "cell_type": "code",
   "execution_count": 8,
   "metadata": {
    "collapsed": true,
    "scrolled": false
   },
   "outputs": [],
   "source": [
    "# will determine how old house is by currentYear(2017) - yearBuilt\n",
    "houseAge = []\n",
    "yearBuiltMatrix = yearBuilt.as_matrix()\n",
    "for row in range(len(yearBuiltMatrix)):\n",
    "    houseAge.append([yearBuiltMatrix[row,0],2017 - yearBuiltMatrix[row,1]])"
   ]
  },
  {
   "cell_type": "code",
   "execution_count": 9,
   "metadata": {
    "scrolled": true
   },
   "outputs": [
    {
     "data": {
      "image/png": "[encoded data removed]",
      "text/plain": [
       "<matplotlib.figure.Figure at 0x23b29fe2438>"
      ]
     },
     "metadata": {},
     "output_type": "display_data"
    }
   ],
   "source": [
    "# visualize\n",
    "plt.scatter(houseAge, salePrice, color='red')\n",
    "plt.title('Age of house vs Sale Price')\n",
    "plt.xlabel('Age')\n",
    "plt.ylabel('Sale Price')\n",
    "plt.xlim([0, 165])\n",
    "plt.show()"
   ]
  },
  {
   "cell_type": "markdown",
   "metadata": {},
   "source": [
    "# Multiple Regression"
   ]
  },
  {
   "cell_type": "markdown",
   "metadata": {},
   "source": [
    "### Data preprocessing"
   ]
  },
  {
   "cell_type": "code",
   "execution_count": 10,
   "metadata": {
    "collapsed": true
   },
   "outputs": [],
   "source": [
    "# break train_data into dependent and independent columns\n",
    "ind_dframe = train_data.iloc[:, 1:-1] # all the columns except sale price and ID\n",
    "dep_dframe = train_data.iloc[:, -1] # sale price\n",
    "\n",
    "# get dummies\n",
    "ind_dframe = pd.get_dummies(ind_dframe)\n",
    "\n",
    "# replave NA with the column mean\n",
    "# NOTE: Might need to replace NA case-by-case\n",
    "ind_dframe = ind_dframe.fillna(ind_dframe.mean())\n",
    "\n",
    "# values of the data frame\n",
    "ind = ind_dframe.values\n",
    "dep = dep_dframe.values\n",
    "\n",
    "# split into test and train sets\n",
    "ind_train, ind_test, dep_train, dep_test = train_test_split(ind, dep, test_size = 0.3, random_state = 0)"
   ]
  },
  {
   "cell_type": "markdown",
   "metadata": {},
   "source": [
    "### Model"
   ]
  },
  {
   "cell_type": "code",
   "execution_count": 11,
   "metadata": {},
   "outputs": [],
   "source": [
    "regressor = LinearRegression()\n",
    "regressor.fit(ind_train, dep_train)\n",
    "\n",
    "sale_predictions = regressor.predict(ind_test)"
   ]
  },
  {
   "cell_type": "markdown",
   "metadata": {},
   "source": [
    "### Prediction"
   ]
  },
  {
   "cell_type": "code",
   "execution_count": 12,
   "metadata": {},
   "outputs": [
    {
     "data": {
      "text/plain": [
       "array([ 252771.99752926,  148215.83415559,  111634.22703001,\n",
       "        212462.3285468 ,   99442.98175797,   67354.00465271,\n",
       "        261879.42973594,  136219.64287338,  453177.12416461,\n",
       "        149391.48983622,  207722.18004109,   21146.19542747,\n",
       "        235465.71044804,  105037.92518895,  111850.25493338,\n",
       "        143026.70074593,  246708.94025429,  131182.91856839,\n",
       "        150016.44587725,  185148.09699511,  138549.36886545,\n",
       "        186229.40197132,  105191.14246218,  150462.75301664,\n",
       "        186402.19613012,  159625.66728573,  163607.66265495,\n",
       "         67863.14157389,  335937.55169943,  113422.08919996,\n",
       "        151346.04252369,  199090.52658789,  141859.81203174,\n",
       "        297959.21848201,  348313.11654058,  212547.80937035,\n",
       "        300268.34772121,  123052.94940654,  234353.49552125,\n",
       "        351874.69614527,  201592.1614008 ,  101172.82213787,\n",
       "        193942.42199401,  297466.03869763,  375525.34356824,\n",
       "        138643.96052655,   -7510.41022796,  139022.47311994,\n",
       "        177285.58484775,  103000.62614192,  392383.85307104,\n",
       "        143019.76074471,  169559.93952008,   77311.10659825,\n",
       "        233489.80551471,   97208.99762264,   85874.21404446,\n",
       "        219349.50224666,  133788.36807118,   59075.49869511,\n",
       "        139271.66406889,  122489.06479392,  123248.05830256,\n",
       "        146168.57151224,  212877.47486959,  172198.01025496,\n",
       "        124868.66766856,  238369.75138038,  147009.19438257,\n",
       "        221924.51199748,  174110.1399313 ,   96234.80528312,\n",
       "         28563.23794497,  270758.79075856,   80453.49222722,\n",
       "        249850.56434484,  121585.61607896,   96507.80831574,\n",
       "        297204.25379227,  247410.62445339,  138688.87293412,\n",
       "        143496.06602235,  137685.4964114 ,  157644.95337983,\n",
       "        295219.57329897,  188770.79369112,  101004.71916248,\n",
       "        202787.12948228,  162929.2436491 ,  137871.88525429,\n",
       "        185385.88347659,  178052.81225778,  176502.96295101,\n",
       "        227519.66779992,  211702.71067639,  155744.92648204,\n",
       "        207677.28388474,  154258.36293835,  108841.39967372,\n",
       "        155214.02277851,  244440.07419702,  270483.57683533,\n",
       "        132370.79415957,  149716.78422368,  101994.75021365,\n",
       "        289093.27637856,  169410.26861819,   89227.74576864,\n",
       "        179864.53180885,  121764.99840917,  108364.66897886,\n",
       "         98214.20917567,  192400.93180401,   90814.87397106,\n",
       "        163990.67431365,  164596.15251316,  435831.87214161,\n",
       "        115971.26538962,  213023.13301299,  247305.25903157,\n",
       "        167963.07916023,  159029.9464887 ,  127309.69058849,\n",
       "        167337.88355734,  210831.91293943,  297330.34344807,\n",
       "        406107.74129117,  209045.53075612,  193104.02498746,\n",
       "        162156.23593448,  189646.90080935,  190017.95786907,\n",
       "        158169.3918997 ,  182786.03364248,   86504.2021959 ,\n",
       "        210335.15467131,  144041.87476107,  173584.29383085,\n",
       "        102350.46950089,  174555.96503128,  182296.51764525,\n",
       "        119051.071003  ,  255021.79969651,  149442.28879716,\n",
       "        133935.36476259,  159832.0155731 ,  201327.92899724,\n",
       "        130951.89189801,  312722.05845028,  226221.45593324,\n",
       "        169044.30532953,  367000.29087238,  291672.6416601 ,\n",
       "        148511.00022251,  163269.8264487 ,  371858.58642669,\n",
       "        159179.77568882,  206276.34155379,  131517.47398641,\n",
       "        156476.81130195,  112616.01785765,  130173.00051936,\n",
       "        198852.62235491,  122676.86074159,  215017.69493574,\n",
       "        129731.85354261,  139091.72610456,  296705.9735692 ,\n",
       "        204321.87810939,  169317.19151184,  205764.7333753 ,\n",
       "        165665.59578504,  196356.80456446,  164580.55246739,\n",
       "        112094.5522522 ,  116398.27651974,  128007.93829813,\n",
       "        264111.92553246,   96862.34000354,  140363.57947715,\n",
       "        280250.20392062,  175852.47381316,  122388.72131254,\n",
       "        289093.43594475,  105469.86030575,  186319.51064009,\n",
       "         88117.7066884 ,  219106.61979947,  225691.16567185,\n",
       "        125151.48306109,  133060.11019481,  170594.60445939,\n",
       "        208384.23885662,  146259.64030951,  132967.74980807,\n",
       "        140683.52030517,   62457.99372493,  124642.33818181,\n",
       "        166397.59867757,  115361.05634841,  114674.52063836,\n",
       "        201123.16378498,  126502.97858019,  126636.14910387,\n",
       "        128521.91475065,  209648.36812787,  168499.5294997 ,\n",
       "        313162.30237946,  266645.5677583 ,   71263.21495187,\n",
       "        151188.46738226,  276627.40106836,   92913.40479252,\n",
       "        107372.25983287,  386682.11653704,  193063.61698708,\n",
       "        186996.25843244,  301172.47133637,  241015.42077834,\n",
       "         74576.04875614,  189385.51656928,  142091.98121877,\n",
       "        124363.57740632,  125188.69286168,  208503.28265618,\n",
       "        270817.62925247,  213080.14158582,  194523.53317256,\n",
       "        123083.55653858,  158512.27672452,   99546.69049381,\n",
       "        117108.24718565,  100954.58420856,  147192.98463073,\n",
       "        268903.45905358,  136725.55739901,  125815.19140833,\n",
       "        114830.00580758,  111514.32813893,  183028.25815649,\n",
       "        113417.60716199,  203982.90348041,  209188.3178254 ,\n",
       "        206509.12886588,  205743.34628877,  172452.60575541,\n",
       "        227646.91703668,  185214.51089109,  147461.04224447,\n",
       "        200113.94411907,  189673.26625571,  261152.82496   ,\n",
       "         85358.17684307,  471817.34661991,  242412.40776548,\n",
       "        220454.47686352,  109735.42062759,  216352.95921717,\n",
       "        481730.7614906 ,  900196.7008626 ,  193260.03923784,\n",
       "         74698.2088942 ,  156174.4571222 ,  106568.1539519 ,\n",
       "        -26984.21450226,  359356.8255905 ,  349445.79315377,\n",
       "        -61042.11442696,  234165.54835096,  232230.01495327,\n",
       "        136760.52540391,  231532.06082822,  153145.07127292,\n",
       "        176962.35391194,  120013.55438323,  239498.15340675,\n",
       "        228395.67460897,  272789.49171847,  205777.55034771,\n",
       "         85249.76493439,  138479.66557642,  339999.64673066,\n",
       "        173501.66556339,  140684.27480033,  197201.44363442,\n",
       "        166510.90756408,  123302.47712348,  294925.28586565,\n",
       "        472699.23327963,  258395.37813531,   97802.51064357,\n",
       "         92898.70582723,  345437.17032172,   95828.10472462,\n",
       "        150035.20007267,  243992.06297713,  219191.45511878,\n",
       "        192409.35470871,  140719.9287259 ,  154855.02912202,\n",
       "        105715.98015828,  121121.71004469,  183758.49343398,\n",
       "        191972.32605382,  155929.8511816 ,  143676.66894837,\n",
       "        162572.2420173 ,  202486.03977248,  188842.22684024,\n",
       "        159435.80262637,  144292.15335068,  183779.01490503,\n",
       "        129010.813855  ,  104282.28095182,  132655.46177349,\n",
       "        133616.53856049,  294470.4673474 ,  121564.68191169,\n",
       "        178336.36076889,  107810.44911867,  119881.87020068,\n",
       "        280068.86910432,  126026.26988561,  197585.21576927,\n",
       "        106249.74951265,  235744.96457491,  123495.27947559,\n",
       "        355136.73086582,  222924.58243138,  143873.13196688,\n",
       "        118683.95758496,  214761.74476199,  190940.86165096,\n",
       "        199057.05940609,  176981.10712085,  159191.22426631,\n",
       "        127752.41109725,  187409.85072138,  135910.38647516,\n",
       "        122745.27235199,  354789.93254414,  157033.73039433,\n",
       "        153401.62824093,  208756.4915076 ,  175055.00734894,\n",
       "        121301.19253092,  113143.81852919,  105873.08510095,\n",
       "         81229.86676447,  138082.93675999,  216387.43250401,\n",
       "        324498.49492922,   94812.50037249,  137473.7622338 ,\n",
       "        140954.63136483,  407476.46977453,  314270.07320627,\n",
       "        140136.90125549,  293578.84546532,  310929.15348886,\n",
       "        186017.88033064,  197997.30847225,  221953.67379027,\n",
       "        240846.63826673,   80485.25276217,  140428.89999415,\n",
       "        153352.01904007,  150410.38898429,  188759.66181958,\n",
       "        258212.20096844,  383735.96853839,   76987.56534941,\n",
       "        129815.65076302,  137962.19067097,  123855.69882108,\n",
       "         79911.75518235,  222921.03434422,  298018.74766816,\n",
       "        124410.29478371,  255003.21801152,  159044.92154729,\n",
       "        101841.02708486,  133448.24767937,  134564.48255141,\n",
       "        137679.67568614,   67451.43911558,  154096.90974269,\n",
       "        205353.96014745,  240400.25870282,  374219.27972317,\n",
       "         32016.25100642,  114766.35879828,  221770.07736394,\n",
       "         71933.11994209,  145962.38708396,  155785.29805913,\n",
       "        231307.41209652,  183545.6086991 ,  168907.95131915,\n",
       "        189801.29743923,  365543.31178455,  207842.60238061,\n",
       "        149299.61182655,   83158.80635222,  127900.67771295,\n",
       "        298104.29841933,   97960.2670769 ,  341127.20209356,\n",
       "        244128.76189206,  216767.6437903 ,  131734.60119754,\n",
       "        121702.99967711,  215160.14813153,  102680.99091319,\n",
       "        107302.77121439,  105033.10582572,  195193.45935565,\n",
       "        117981.5380854 ,  302012.59075276,  109403.32458899,\n",
       "        248914.73139197,  360246.25659063,  102380.71728171,\n",
       "        147903.01912624,  121940.48997345,  114677.87901803,\n",
       "        304703.6641297 ,  105356.32525886,  186964.59410551,\n",
       "        138673.22369758,  126312.29688755,  235766.39176158,\n",
       "        143428.17462049,  146960.8895318 ,  160356.06013755,\n",
       "        353139.59176842,  206672.40872451,  468351.26330563])"
      ]
     },
     "execution_count": 12,
     "metadata": {},
     "output_type": "execute_result"
    }
   ],
   "source": [
    "sale_predictions"
   ]
  },
  {
   "cell_type": "code",
   "execution_count": 13,
   "metadata": {},
   "outputs": [
    {
     "data": {
      "text/plain": [
       "array([200624, 133000, 110000, 192000,  88000,  85000, 282922, 141000,\n",
       "       745000, 148800, 208900, 136905, 225000, 123000, 119200, 145000,\n",
       "       190000, 123600, 149350, 155000, 166000, 144500, 110000, 174000,\n",
       "       185000, 168000, 177500,  84500, 320000, 118500, 110000, 213000,\n",
       "       156000, 250000, 372500, 175000, 277500, 112500, 263000, 325000,\n",
       "       243000, 130000, 164990, 280000, 403000, 119000, 125000, 128200,\n",
       "       172500,  84900, 412500, 156000, 167900, 100000, 275000, 123000,\n",
       "       132000, 239900, 139000, 115000, 137500, 135000, 134450, 180500,\n",
       "       193500, 156500, 132000, 224500, 139000, 225000, 188500, 118000,\n",
       "        82000, 392000, 112000, 248900, 134500,  79500, 320000, 158000,\n",
       "       140000, 136500, 107500, 145000, 200500, 185000, 105000, 202665,\n",
       "       186000, 136000, 200500, 190000, 187500, 200000, 172500, 157000,\n",
       "       213000, 185000, 124500, 162900, 260000, 198500, 120000, 159500,\n",
       "       105900, 260000, 143000, 106500, 178900, 127000,  90350, 118500,\n",
       "       190000, 119900, 183900, 155000, 386250, 133000, 193500, 270000,\n",
       "       141000, 146000, 128500, 176000, 214000, 222000, 415298, 187750,\n",
       "       199900, 180000, 206300, 194000, 142953, 182900, 116050, 213250,\n",
       "       139500, 179000, 107900, 175900, 158500, 145000, 217000, 150500,\n",
       "       108959, 165600, 201000, 145500, 319900, 215000, 180500, 367294,\n",
       "       239000, 145900, 161000, 250000,  89471, 230000, 147000, 163900,\n",
       "        97000, 142000, 197000, 129000, 232000, 115000, 175000, 265000,\n",
       "       207000, 181000, 176000, 171000, 196000, 176000, 113000, 139000,\n",
       "       135000, 240000, 112000, 134000, 316600, 170000, 116000, 306000,\n",
       "        82500, 175000, 106000, 194000, 194201, 155900, 138000, 177000,\n",
       "       214000, 148000, 127000, 142500,  80000, 145000, 171000, 122500,\n",
       "       139000, 189000, 120500, 124000, 160000, 200000, 160000, 313000,\n",
       "       275000,  67000, 159000, 251000,  92900, 109500, 385000, 129000,\n",
       "        82500, 301000, 249700,  81000, 187500, 110000, 117000, 128500,\n",
       "       213490, 284000, 230500, 190000, 135000, 152000,  87500, 155000,\n",
       "       115000, 144000, 248000, 132500, 136000, 117000,  82000, 157500,\n",
       "       110000, 181000, 192500, 223500, 181500, 170000, 187500, 185900,\n",
       "       160000, 192000, 181900, 266000,  99900, 438780, 229456, 216837,\n",
       "       110500, 175900, 538000, 160000, 172500, 108000, 131500, 106250,\n",
       "       385000, 370878, 345000,  68500, 250000, 245350, 125000, 234000,\n",
       "       145000, 181000, 104000, 233000, 164000, 219500, 195000, 108000,\n",
       "       149900, 315000, 177500, 140000, 193879, 137900, 118000, 324000,\n",
       "       555000, 136000,  82500, 101000, 314813, 109500, 163500, 271000,\n",
       "       205000, 185000, 160000, 155000,  91000, 131000, 165400, 194700,\n",
       "       155000, 140000, 147000, 194000, 179540, 173000, 109500, 173733,\n",
       "       129900, 119000, 125500, 149300, 305000, 102000, 178740, 129500,\n",
       "        79900, 278000, 118400, 197000, 140000, 226000, 132500, 315000,\n",
       "       224000, 132500, 119500, 215000, 210000, 200141, 185000, 149900,\n",
       "       129000, 184100, 135000, 128000, 374000, 164000, 157000, 215000,\n",
       "       165000, 144000, 125500,  98300,  91300, 135960, 226700, 333168,\n",
       "       114500,  97000, 181000, 465000, 290000, 175000, 235000, 277000,\n",
       "       325000, 178000, 235000, 239000,  85000, 107500, 160000, 145000,\n",
       "       192140, 181000, 380000,  66500, 124500, 124000, 144000,  52500,\n",
       "       217000, 275000, 127000, 262500, 162000, 103000, 137500, 127500,\n",
       "       127000,  91000, 145000, 186500, 221500, 253293, 108480, 127000,\n",
       "       237500,  86000, 141000, 176000, 178400, 173900, 157000, 193000,\n",
       "       335000, 201000, 146500,  86000, 148000, 280000, 112000, 303477,\n",
       "       250000, 244600, 126000, 130500, 241000, 118500, 115000, 129900,\n",
       "       202500, 118000, 335000, 125000, 255900, 342643, 109008, 148500,\n",
       "       132500, 110000, 244000, 115000, 194500, 129500, 167500, 227875,\n",
       "       169900, 241500, 127500, 350000, 227000, 611657], dtype=int64)"
      ]
     },
     "execution_count": 13,
     "metadata": {},
     "output_type": "execute_result"
    }
   ],
   "source": [
    "dep_test"
   ]
  },
  {
   "cell_type": "markdown",
   "metadata": {},
   "source": [
    "### Findings"
   ]
  },
  {
   "cell_type": "code",
   "execution_count": 14,
   "metadata": {},
   "outputs": [],
   "source": [
    "# getting all coefficients\n",
    "coef = pd.Series(regressor.coef_, index = ind_dframe.columns)\n",
    "\n",
    "# gettings signifigant coefficients\n",
    "sig_coef = pd.concat([coef.sort_values().head(10), coef.sort_values().tail(10)])"
   ]
  },
  {
   "cell_type": "code",
   "execution_count": 15,
   "metadata": {},
   "outputs": [
    {
     "data": {
      "text/plain": [
       "<matplotlib.text.Text at 0x23b2a02c6d8>"
      ]
     },
     "execution_count": 15,
     "metadata": {},
     "output_type": "execute_result"
    },
    {
     "data": {
      "image/png": "[encoded data removed]",
      "text/plain": [
       "<matplotlib.figure.Figure at 0x23b2a04cdd8>"
      ]
     },
     "metadata": {},
     "output_type": "display_data"
    }
   ],
   "source": [
    "# graphing signifigant coefficients\n",
    "matplotlib.rcParams['figure.figsize'] = (8.0, 10.0)\n",
    "sig_coef.plot(kind = \"barh\")\n",
    "plt.title(\"Coefficients in Multiple Regression Model\")"
   ]
  },
  {
   "cell_type": "code",
   "execution_count": null,
   "metadata": {
    "collapsed": true
   },
   "outputs": [],
   "source": []
  }
 ],
 "metadata": {
  "kernelspec": {
   "display_name": "Python 3",
   "language": "python",
   "name": "python3"
  },
  "language_info": {
   "codemirror_mode": {
    "name": "ipython",
    "version": 3
   },
   "file_extension": ".py",
   "mimetype": "text/x-python",
   "name": "python",
   "nbconvert_exporter": "python",
   "pygments_lexer": "ipython3",
   "version": "3.6.2"
  }
 },
 "nbformat": 4,
 "nbformat_minor": 2
}
