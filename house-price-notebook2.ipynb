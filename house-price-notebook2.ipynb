{
 "cells": [
  {
   "cell_type": "markdown",
   "metadata": {},
   "source": [
    "# House Price"
   ]
  },
  {
   "cell_type": "code",
   "execution_count": 1,
   "metadata": {},
   "outputs": [
    {
     "name": "stderr",
     "output_type": "stream",
     "text": [
<<<<<<< HEAD
      "/home/lee/anaconda3/lib/python3.6/site-packages/sklearn/cross_validation.py:41: DeprecationWarning: This module was deprecated in version 0.18 in favor of the model_selection module into which all the refactored classes and functions are moved. Also note that the interface of the new CV iterators are different from that of this module. This module will be removed in 0.20.\n",
=======
      "/Users/kevintaing/anaconda3/lib/python3.6/site-packages/sklearn/cross_validation.py:41: DeprecationWarning: This module was deprecated in version 0.18 in favor of the model_selection module into which all the refactored classes and functions are moved. Also note that the interface of the new CV iterators are different from that of this module. This module will be removed in 0.20.\n",
>>>>>>> master
      "  \"This module will be removed in 0.20.\", DeprecationWarning)\n"
     ]
    }
   ],
   "source": [
    "# import libraries\n",
    "import pandas as pd\n",
    "import numpy as np\n",
    "import matplotlib\n",
    "import matplotlib.pyplot as plt\n",
<<<<<<< HEAD
    "import seaborn as sns\n",
    "from sklearn.linear_model import LinearRegression\n",
    "from sklearn.cross_validation import train_test_split\n",
    "from scipy.stats import skew\n",
    "from scipy.stats.stats import pearsonr\n",
=======
    "from sklearn.linear_model import LinearRegression\n",
    "from sklearn.preprocessing import LabelEncoder, OneHotEncoder\n",
    "from sklearn.cross_validation import train_test_split\n",
    "from scipy.stats import skew\n",
>>>>>>> master
    "%matplotlib inline"
   ]
  },
  {
   "cell_type": "code",
   "execution_count": 2,
   "metadata": {
    "collapsed": true
   },
   "outputs": [],
   "source": [
    "# reading in data\n",
<<<<<<< HEAD
    "train = pd.read_csv('train.csv')\n",
    "test = pd.read_csv(\"test.csv\")"
=======
    "train_data = pd.read_csv('train.csv')\n",
    "test_data = pd.read_csv('test.csv')"
   ]
  },
  {
   "cell_type": "markdown",
   "metadata": {},
   "source": [
    "### Column names"
>>>>>>> master
   ]
  },
  {
   "cell_type": "code",
   "execution_count": 3,
   "metadata": {
<<<<<<< HEAD
    "collapsed": true
=======
    "scrolled": false
>>>>>>> master
   },
   "outputs": [],
   "source": [
    "all_data = pd.concat((train.loc[:,'MSSubClass':'SaleCondition'],\n",
    "                      test.loc[:,'MSSubClass':'SaleCondition']))"
   ]
  },
  {
   "cell_type": "markdown",
   "metadata": {},
   "source": [
    "#### Grab the head of the dataset"
   ]
  },
  {
   "cell_type": "code",
   "execution_count": 4,
   "metadata": {},
   "outputs": [
    {
     "data": {
<<<<<<< HEAD
      "text/html": [
       "<div>\n",
       "<style>\n",
       "    .dataframe thead tr:only-child th {\n",
       "        text-align: right;\n",
       "    }\n",
       "\n",
       "    .dataframe thead th {\n",
       "        text-align: left;\n",
       "    }\n",
       "\n",
       "    .dataframe tbody tr th {\n",
       "        vertical-align: top;\n",
       "    }\n",
       "</style>\n",
       "<table border=\"1\" class=\"dataframe\">\n",
       "  <thead>\n",
       "    <tr style=\"text-align: right;\">\n",
       "      <th></th>\n",
       "      <th>Id</th>\n",
       "      <th>MSSubClass</th>\n",
       "      <th>MSZoning</th>\n",
       "      <th>LotFrontage</th>\n",
       "      <th>LotArea</th>\n",
       "      <th>Street</th>\n",
       "      <th>Alley</th>\n",
       "      <th>LotShape</th>\n",
       "      <th>LandContour</th>\n",
       "      <th>Utilities</th>\n",
       "      <th>...</th>\n",
       "      <th>PoolArea</th>\n",
       "      <th>PoolQC</th>\n",
       "      <th>Fence</th>\n",
       "      <th>MiscFeature</th>\n",
       "      <th>MiscVal</th>\n",
       "      <th>MoSold</th>\n",
       "      <th>YrSold</th>\n",
       "      <th>SaleType</th>\n",
       "      <th>SaleCondition</th>\n",
       "      <th>SalePrice</th>\n",
       "    </tr>\n",
       "  </thead>\n",
       "  <tbody>\n",
       "    <tr>\n",
       "      <th>0</th>\n",
       "      <td>1</td>\n",
       "      <td>60</td>\n",
       "      <td>RL</td>\n",
       "      <td>65.0</td>\n",
       "      <td>8450</td>\n",
       "      <td>Pave</td>\n",
       "      <td>NaN</td>\n",
       "      <td>Reg</td>\n",
       "      <td>Lvl</td>\n",
       "      <td>AllPub</td>\n",
       "      <td>...</td>\n",
       "      <td>0</td>\n",
       "      <td>NaN</td>\n",
       "      <td>NaN</td>\n",
       "      <td>NaN</td>\n",
       "      <td>0</td>\n",
       "      <td>2</td>\n",
       "      <td>2008</td>\n",
       "      <td>WD</td>\n",
       "      <td>Normal</td>\n",
       "      <td>208500</td>\n",
       "    </tr>\n",
       "    <tr>\n",
       "      <th>1</th>\n",
       "      <td>2</td>\n",
       "      <td>20</td>\n",
       "      <td>RL</td>\n",
       "      <td>80.0</td>\n",
       "      <td>9600</td>\n",
       "      <td>Pave</td>\n",
       "      <td>NaN</td>\n",
       "      <td>Reg</td>\n",
       "      <td>Lvl</td>\n",
       "      <td>AllPub</td>\n",
       "      <td>...</td>\n",
       "      <td>0</td>\n",
       "      <td>NaN</td>\n",
       "      <td>NaN</td>\n",
       "      <td>NaN</td>\n",
       "      <td>0</td>\n",
       "      <td>5</td>\n",
       "      <td>2007</td>\n",
       "      <td>WD</td>\n",
       "      <td>Normal</td>\n",
       "      <td>181500</td>\n",
       "    </tr>\n",
       "    <tr>\n",
       "      <th>2</th>\n",
       "      <td>3</td>\n",
       "      <td>60</td>\n",
       "      <td>RL</td>\n",
       "      <td>68.0</td>\n",
       "      <td>11250</td>\n",
       "      <td>Pave</td>\n",
       "      <td>NaN</td>\n",
       "      <td>IR1</td>\n",
       "      <td>Lvl</td>\n",
       "      <td>AllPub</td>\n",
       "      <td>...</td>\n",
       "      <td>0</td>\n",
       "      <td>NaN</td>\n",
       "      <td>NaN</td>\n",
       "      <td>NaN</td>\n",
       "      <td>0</td>\n",
       "      <td>9</td>\n",
       "      <td>2008</td>\n",
       "      <td>WD</td>\n",
       "      <td>Normal</td>\n",
       "      <td>223500</td>\n",
       "    </tr>\n",
       "    <tr>\n",
       "      <th>3</th>\n",
       "      <td>4</td>\n",
       "      <td>70</td>\n",
       "      <td>RL</td>\n",
       "      <td>60.0</td>\n",
       "      <td>9550</td>\n",
       "      <td>Pave</td>\n",
       "      <td>NaN</td>\n",
       "      <td>IR1</td>\n",
       "      <td>Lvl</td>\n",
       "      <td>AllPub</td>\n",
       "      <td>...</td>\n",
       "      <td>0</td>\n",
       "      <td>NaN</td>\n",
       "      <td>NaN</td>\n",
       "      <td>NaN</td>\n",
       "      <td>0</td>\n",
       "      <td>2</td>\n",
       "      <td>2006</td>\n",
       "      <td>WD</td>\n",
       "      <td>Abnorml</td>\n",
       "      <td>140000</td>\n",
       "    </tr>\n",
       "    <tr>\n",
       "      <th>4</th>\n",
       "      <td>5</td>\n",
       "      <td>60</td>\n",
       "      <td>RL</td>\n",
       "      <td>84.0</td>\n",
       "      <td>14260</td>\n",
       "      <td>Pave</td>\n",
       "      <td>NaN</td>\n",
       "      <td>IR1</td>\n",
       "      <td>Lvl</td>\n",
       "      <td>AllPub</td>\n",
       "      <td>...</td>\n",
       "      <td>0</td>\n",
       "      <td>NaN</td>\n",
       "      <td>NaN</td>\n",
       "      <td>NaN</td>\n",
       "      <td>0</td>\n",
       "      <td>12</td>\n",
       "      <td>2008</td>\n",
       "      <td>WD</td>\n",
       "      <td>Normal</td>\n",
       "      <td>250000</td>\n",
       "    </tr>\n",
       "    <tr>\n",
       "      <th>5</th>\n",
       "      <td>6</td>\n",
       "      <td>50</td>\n",
       "      <td>RL</td>\n",
       "      <td>85.0</td>\n",
       "      <td>14115</td>\n",
       "      <td>Pave</td>\n",
       "      <td>NaN</td>\n",
       "      <td>IR1</td>\n",
       "      <td>Lvl</td>\n",
       "      <td>AllPub</td>\n",
       "      <td>...</td>\n",
       "      <td>0</td>\n",
       "      <td>NaN</td>\n",
       "      <td>MnPrv</td>\n",
       "      <td>Shed</td>\n",
       "      <td>700</td>\n",
       "      <td>10</td>\n",
       "      <td>2009</td>\n",
       "      <td>WD</td>\n",
       "      <td>Normal</td>\n",
       "      <td>143000</td>\n",
       "    </tr>\n",
       "    <tr>\n",
       "      <th>6</th>\n",
       "      <td>7</td>\n",
       "      <td>20</td>\n",
       "      <td>RL</td>\n",
       "      <td>75.0</td>\n",
       "      <td>10084</td>\n",
       "      <td>Pave</td>\n",
       "      <td>NaN</td>\n",
       "      <td>Reg</td>\n",
       "      <td>Lvl</td>\n",
       "      <td>AllPub</td>\n",
       "      <td>...</td>\n",
       "      <td>0</td>\n",
       "      <td>NaN</td>\n",
       "      <td>NaN</td>\n",
       "      <td>NaN</td>\n",
       "      <td>0</td>\n",
       "      <td>8</td>\n",
       "      <td>2007</td>\n",
       "      <td>WD</td>\n",
       "      <td>Normal</td>\n",
       "      <td>307000</td>\n",
       "    </tr>\n",
       "    <tr>\n",
       "      <th>7</th>\n",
       "      <td>8</td>\n",
       "      <td>60</td>\n",
       "      <td>RL</td>\n",
       "      <td>NaN</td>\n",
       "      <td>10382</td>\n",
       "      <td>Pave</td>\n",
       "      <td>NaN</td>\n",
       "      <td>IR1</td>\n",
       "      <td>Lvl</td>\n",
       "      <td>AllPub</td>\n",
       "      <td>...</td>\n",
       "      <td>0</td>\n",
       "      <td>NaN</td>\n",
       "      <td>NaN</td>\n",
       "      <td>Shed</td>\n",
       "      <td>350</td>\n",
       "      <td>11</td>\n",
       "      <td>2009</td>\n",
       "      <td>WD</td>\n",
       "      <td>Normal</td>\n",
       "      <td>200000</td>\n",
       "    </tr>\n",
       "    <tr>\n",
       "      <th>8</th>\n",
       "      <td>9</td>\n",
       "      <td>50</td>\n",
       "      <td>RM</td>\n",
       "      <td>51.0</td>\n",
       "      <td>6120</td>\n",
       "      <td>Pave</td>\n",
       "      <td>NaN</td>\n",
       "      <td>Reg</td>\n",
       "      <td>Lvl</td>\n",
       "      <td>AllPub</td>\n",
       "      <td>...</td>\n",
       "      <td>0</td>\n",
       "      <td>NaN</td>\n",
       "      <td>NaN</td>\n",
       "      <td>NaN</td>\n",
       "      <td>0</td>\n",
       "      <td>4</td>\n",
       "      <td>2008</td>\n",
       "      <td>WD</td>\n",
       "      <td>Abnorml</td>\n",
       "      <td>129900</td>\n",
       "    </tr>\n",
       "    <tr>\n",
       "      <th>9</th>\n",
       "      <td>10</td>\n",
       "      <td>190</td>\n",
       "      <td>RL</td>\n",
       "      <td>50.0</td>\n",
       "      <td>7420</td>\n",
       "      <td>Pave</td>\n",
       "      <td>NaN</td>\n",
       "      <td>Reg</td>\n",
       "      <td>Lvl</td>\n",
       "      <td>AllPub</td>\n",
       "      <td>...</td>\n",
       "      <td>0</td>\n",
       "      <td>NaN</td>\n",
       "      <td>NaN</td>\n",
       "      <td>NaN</td>\n",
       "      <td>0</td>\n",
       "      <td>1</td>\n",
       "      <td>2008</td>\n",
       "      <td>WD</td>\n",
       "      <td>Normal</td>\n",
       "      <td>118000</td>\n",
       "    </tr>\n",
       "  </tbody>\n",
       "</table>\n",
       "<p>10 rows × 81 columns</p>\n",
       "</div>"
      ],
      "text/plain": [
       "   Id  MSSubClass MSZoning  LotFrontage  LotArea Street Alley LotShape  \\\n",
       "0   1          60       RL         65.0     8450   Pave   NaN      Reg   \n",
       "1   2          20       RL         80.0     9600   Pave   NaN      Reg   \n",
       "2   3          60       RL         68.0    11250   Pave   NaN      IR1   \n",
       "3   4          70       RL         60.0     9550   Pave   NaN      IR1   \n",
       "4   5          60       RL         84.0    14260   Pave   NaN      IR1   \n",
       "5   6          50       RL         85.0    14115   Pave   NaN      IR1   \n",
       "6   7          20       RL         75.0    10084   Pave   NaN      Reg   \n",
       "7   8          60       RL          NaN    10382   Pave   NaN      IR1   \n",
       "8   9          50       RM         51.0     6120   Pave   NaN      Reg   \n",
       "9  10         190       RL         50.0     7420   Pave   NaN      Reg   \n",
       "\n",
       "  LandContour Utilities    ...     PoolArea PoolQC  Fence MiscFeature MiscVal  \\\n",
       "0         Lvl    AllPub    ...            0    NaN    NaN         NaN       0   \n",
       "1         Lvl    AllPub    ...            0    NaN    NaN         NaN       0   \n",
       "2         Lvl    AllPub    ...            0    NaN    NaN         NaN       0   \n",
       "3         Lvl    AllPub    ...            0    NaN    NaN         NaN       0   \n",
       "4         Lvl    AllPub    ...            0    NaN    NaN         NaN       0   \n",
       "5         Lvl    AllPub    ...            0    NaN  MnPrv        Shed     700   \n",
       "6         Lvl    AllPub    ...            0    NaN    NaN         NaN       0   \n",
       "7         Lvl    AllPub    ...            0    NaN    NaN        Shed     350   \n",
       "8         Lvl    AllPub    ...            0    NaN    NaN         NaN       0   \n",
       "9         Lvl    AllPub    ...            0    NaN    NaN         NaN       0   \n",
       "\n",
       "  MoSold YrSold  SaleType  SaleCondition  SalePrice  \n",
       "0      2   2008        WD         Normal     208500  \n",
       "1      5   2007        WD         Normal     181500  \n",
       "2      9   2008        WD         Normal     223500  \n",
       "3      2   2006        WD        Abnorml     140000  \n",
       "4     12   2008        WD         Normal     250000  \n",
       "5     10   2009        WD         Normal     143000  \n",
       "6      8   2007        WD         Normal     307000  \n",
       "7     11   2009        WD         Normal     200000  \n",
       "8      4   2008        WD        Abnorml     129900  \n",
       "9      1   2008        WD         Normal     118000  \n",
       "\n",
       "[10 rows x 81 columns]"
      ]
     },
     "execution_count": 4,
     "metadata": {},
     "output_type": "execute_result"
    }
   ],
   "source": [
    "train.head(10)"
   ]
  },
  {
   "cell_type": "markdown",
   "metadata": {},
   "source": [
    "#### Some basic infomation of dataset"
   ]
  },
  {
   "cell_type": "code",
   "execution_count": 5,
   "metadata": {},
   "outputs": [
    {
     "name": "stdout",
     "output_type": "stream",
     "text": [
      "(1460, 81)\n",
      "118260\n"
     ]
    },
    {
     "data": {
      "text/html": [
       "<div>\n",
       "<style>\n",
       "    .dataframe thead tr:only-child th {\n",
       "        text-align: right;\n",
       "    }\n",
       "\n",
       "    .dataframe thead th {\n",
       "        text-align: left;\n",
       "    }\n",
       "\n",
       "    .dataframe tbody tr th {\n",
       "        vertical-align: top;\n",
       "    }\n",
       "</style>\n",
       "<table border=\"1\" class=\"dataframe\">\n",
       "  <thead>\n",
       "    <tr style=\"text-align: right;\">\n",
       "      <th></th>\n",
       "      <th>Id</th>\n",
       "      <th>MSSubClass</th>\n",
       "      <th>LotFrontage</th>\n",
       "      <th>LotArea</th>\n",
       "      <th>OverallQual</th>\n",
       "      <th>OverallCond</th>\n",
       "      <th>YearBuilt</th>\n",
       "      <th>YearRemodAdd</th>\n",
       "      <th>MasVnrArea</th>\n",
       "      <th>BsmtFinSF1</th>\n",
       "      <th>...</th>\n",
       "      <th>WoodDeckSF</th>\n",
       "      <th>OpenPorchSF</th>\n",
       "      <th>EnclosedPorch</th>\n",
       "      <th>3SsnPorch</th>\n",
       "      <th>ScreenPorch</th>\n",
       "      <th>PoolArea</th>\n",
       "      <th>MiscVal</th>\n",
       "      <th>MoSold</th>\n",
       "      <th>YrSold</th>\n",
       "      <th>SalePrice</th>\n",
       "    </tr>\n",
       "  </thead>\n",
       "  <tbody>\n",
       "    <tr>\n",
       "      <th>count</th>\n",
       "      <td>1460.000000</td>\n",
       "      <td>1460.000000</td>\n",
       "      <td>1201.000000</td>\n",
       "      <td>1460.000000</td>\n",
       "      <td>1460.000000</td>\n",
       "      <td>1460.000000</td>\n",
       "      <td>1460.000000</td>\n",
       "      <td>1460.000000</td>\n",
       "      <td>1452.000000</td>\n",
       "      <td>1460.000000</td>\n",
       "      <td>...</td>\n",
       "      <td>1460.000000</td>\n",
       "      <td>1460.000000</td>\n",
       "      <td>1460.000000</td>\n",
       "      <td>1460.000000</td>\n",
       "      <td>1460.000000</td>\n",
       "      <td>1460.000000</td>\n",
       "      <td>1460.000000</td>\n",
       "      <td>1460.000000</td>\n",
       "      <td>1460.000000</td>\n",
       "      <td>1460.000000</td>\n",
       "    </tr>\n",
       "    <tr>\n",
       "      <th>mean</th>\n",
       "      <td>730.500000</td>\n",
       "      <td>56.897260</td>\n",
       "      <td>70.049958</td>\n",
       "      <td>10516.828082</td>\n",
       "      <td>6.099315</td>\n",
       "      <td>5.575342</td>\n",
       "      <td>1971.267808</td>\n",
       "      <td>1984.865753</td>\n",
       "      <td>103.685262</td>\n",
       "      <td>443.639726</td>\n",
       "      <td>...</td>\n",
       "      <td>94.244521</td>\n",
       "      <td>46.660274</td>\n",
       "      <td>21.954110</td>\n",
       "      <td>3.409589</td>\n",
       "      <td>15.060959</td>\n",
       "      <td>2.758904</td>\n",
       "      <td>43.489041</td>\n",
       "      <td>6.321918</td>\n",
       "      <td>2007.815753</td>\n",
       "      <td>180921.195890</td>\n",
       "    </tr>\n",
       "    <tr>\n",
       "      <th>std</th>\n",
       "      <td>421.610009</td>\n",
       "      <td>42.300571</td>\n",
       "      <td>24.284752</td>\n",
       "      <td>9981.264932</td>\n",
       "      <td>1.382997</td>\n",
       "      <td>1.112799</td>\n",
       "      <td>30.202904</td>\n",
       "      <td>20.645407</td>\n",
       "      <td>181.066207</td>\n",
       "      <td>456.098091</td>\n",
       "      <td>...</td>\n",
       "      <td>125.338794</td>\n",
       "      <td>66.256028</td>\n",
       "      <td>61.119149</td>\n",
       "      <td>29.317331</td>\n",
       "      <td>55.757415</td>\n",
       "      <td>40.177307</td>\n",
       "      <td>496.123024</td>\n",
       "      <td>2.703626</td>\n",
       "      <td>1.328095</td>\n",
       "      <td>79442.502883</td>\n",
       "    </tr>\n",
       "    <tr>\n",
       "      <th>min</th>\n",
       "      <td>1.000000</td>\n",
       "      <td>20.000000</td>\n",
       "      <td>21.000000</td>\n",
       "      <td>1300.000000</td>\n",
       "      <td>1.000000</td>\n",
       "      <td>1.000000</td>\n",
       "      <td>1872.000000</td>\n",
       "      <td>1950.000000</td>\n",
       "      <td>0.000000</td>\n",
       "      <td>0.000000</td>\n",
       "      <td>...</td>\n",
       "      <td>0.000000</td>\n",
       "      <td>0.000000</td>\n",
       "      <td>0.000000</td>\n",
       "      <td>0.000000</td>\n",
       "      <td>0.000000</td>\n",
       "      <td>0.000000</td>\n",
       "      <td>0.000000</td>\n",
       "      <td>1.000000</td>\n",
       "      <td>2006.000000</td>\n",
       "      <td>34900.000000</td>\n",
       "    </tr>\n",
       "    <tr>\n",
       "      <th>25%</th>\n",
       "      <td>365.750000</td>\n",
       "      <td>20.000000</td>\n",
       "      <td>59.000000</td>\n",
       "      <td>7553.500000</td>\n",
       "      <td>5.000000</td>\n",
       "      <td>5.000000</td>\n",
       "      <td>1954.000000</td>\n",
       "      <td>1967.000000</td>\n",
       "      <td>0.000000</td>\n",
       "      <td>0.000000</td>\n",
       "      <td>...</td>\n",
       "      <td>0.000000</td>\n",
       "      <td>0.000000</td>\n",
       "      <td>0.000000</td>\n",
       "      <td>0.000000</td>\n",
       "      <td>0.000000</td>\n",
       "      <td>0.000000</td>\n",
       "      <td>0.000000</td>\n",
       "      <td>5.000000</td>\n",
       "      <td>2007.000000</td>\n",
       "      <td>129975.000000</td>\n",
       "    </tr>\n",
       "    <tr>\n",
       "      <th>50%</th>\n",
       "      <td>730.500000</td>\n",
       "      <td>50.000000</td>\n",
       "      <td>69.000000</td>\n",
       "      <td>9478.500000</td>\n",
       "      <td>6.000000</td>\n",
       "      <td>5.000000</td>\n",
       "      <td>1973.000000</td>\n",
       "      <td>1994.000000</td>\n",
       "      <td>0.000000</td>\n",
       "      <td>383.500000</td>\n",
       "      <td>...</td>\n",
       "      <td>0.000000</td>\n",
       "      <td>25.000000</td>\n",
       "      <td>0.000000</td>\n",
       "      <td>0.000000</td>\n",
       "      <td>0.000000</td>\n",
       "      <td>0.000000</td>\n",
       "      <td>0.000000</td>\n",
       "      <td>6.000000</td>\n",
       "      <td>2008.000000</td>\n",
       "      <td>163000.000000</td>\n",
       "    </tr>\n",
       "    <tr>\n",
       "      <th>75%</th>\n",
       "      <td>1095.250000</td>\n",
       "      <td>70.000000</td>\n",
       "      <td>80.000000</td>\n",
       "      <td>11601.500000</td>\n",
       "      <td>7.000000</td>\n",
       "      <td>6.000000</td>\n",
       "      <td>2000.000000</td>\n",
       "      <td>2004.000000</td>\n",
       "      <td>166.000000</td>\n",
       "      <td>712.250000</td>\n",
       "      <td>...</td>\n",
       "      <td>168.000000</td>\n",
       "      <td>68.000000</td>\n",
       "      <td>0.000000</td>\n",
       "      <td>0.000000</td>\n",
       "      <td>0.000000</td>\n",
       "      <td>0.000000</td>\n",
       "      <td>0.000000</td>\n",
       "      <td>8.000000</td>\n",
       "      <td>2009.000000</td>\n",
       "      <td>214000.000000</td>\n",
       "    </tr>\n",
       "    <tr>\n",
       "      <th>max</th>\n",
       "      <td>1460.000000</td>\n",
       "      <td>190.000000</td>\n",
       "      <td>313.000000</td>\n",
       "      <td>215245.000000</td>\n",
       "      <td>10.000000</td>\n",
       "      <td>9.000000</td>\n",
       "      <td>2010.000000</td>\n",
       "      <td>2010.000000</td>\n",
       "      <td>1600.000000</td>\n",
       "      <td>5644.000000</td>\n",
       "      <td>...</td>\n",
       "      <td>857.000000</td>\n",
       "      <td>547.000000</td>\n",
       "      <td>552.000000</td>\n",
       "      <td>508.000000</td>\n",
       "      <td>480.000000</td>\n",
       "      <td>738.000000</td>\n",
       "      <td>15500.000000</td>\n",
       "      <td>12.000000</td>\n",
       "      <td>2010.000000</td>\n",
       "      <td>755000.000000</td>\n",
       "    </tr>\n",
       "  </tbody>\n",
       "</table>\n",
       "<p>8 rows × 38 columns</p>\n",
       "</div>"
      ],
      "text/plain": [
       "                Id   MSSubClass  LotFrontage        LotArea  OverallQual  \\\n",
       "count  1460.000000  1460.000000  1201.000000    1460.000000  1460.000000   \n",
       "mean    730.500000    56.897260    70.049958   10516.828082     6.099315   \n",
       "std     421.610009    42.300571    24.284752    9981.264932     1.382997   \n",
       "min       1.000000    20.000000    21.000000    1300.000000     1.000000   \n",
       "25%     365.750000    20.000000    59.000000    7553.500000     5.000000   \n",
       "50%     730.500000    50.000000    69.000000    9478.500000     6.000000   \n",
       "75%    1095.250000    70.000000    80.000000   11601.500000     7.000000   \n",
       "max    1460.000000   190.000000   313.000000  215245.000000    10.000000   \n",
       "\n",
       "       OverallCond    YearBuilt  YearRemodAdd   MasVnrArea   BsmtFinSF1  \\\n",
       "count  1460.000000  1460.000000   1460.000000  1452.000000  1460.000000   \n",
       "mean      5.575342  1971.267808   1984.865753   103.685262   443.639726   \n",
       "std       1.112799    30.202904     20.645407   181.066207   456.098091   \n",
       "min       1.000000  1872.000000   1950.000000     0.000000     0.000000   \n",
       "25%       5.000000  1954.000000   1967.000000     0.000000     0.000000   \n",
       "50%       5.000000  1973.000000   1994.000000     0.000000   383.500000   \n",
       "75%       6.000000  2000.000000   2004.000000   166.000000   712.250000   \n",
       "max       9.000000  2010.000000   2010.000000  1600.000000  5644.000000   \n",
       "\n",
       "           ...         WoodDeckSF  OpenPorchSF  EnclosedPorch    3SsnPorch  \\\n",
       "count      ...        1460.000000  1460.000000    1460.000000  1460.000000   \n",
       "mean       ...          94.244521    46.660274      21.954110     3.409589   \n",
       "std        ...         125.338794    66.256028      61.119149    29.317331   \n",
       "min        ...           0.000000     0.000000       0.000000     0.000000   \n",
       "25%        ...           0.000000     0.000000       0.000000     0.000000   \n",
       "50%        ...           0.000000    25.000000       0.000000     0.000000   \n",
       "75%        ...         168.000000    68.000000       0.000000     0.000000   \n",
       "max        ...         857.000000   547.000000     552.000000   508.000000   \n",
       "\n",
       "       ScreenPorch     PoolArea       MiscVal       MoSold       YrSold  \\\n",
       "count  1460.000000  1460.000000   1460.000000  1460.000000  1460.000000   \n",
       "mean     15.060959     2.758904     43.489041     6.321918  2007.815753   \n",
       "std      55.757415    40.177307    496.123024     2.703626     1.328095   \n",
       "min       0.000000     0.000000      0.000000     1.000000  2006.000000   \n",
       "25%       0.000000     0.000000      0.000000     5.000000  2007.000000   \n",
       "50%       0.000000     0.000000      0.000000     6.000000  2008.000000   \n",
       "75%       0.000000     0.000000      0.000000     8.000000  2009.000000   \n",
       "max     480.000000   738.000000  15500.000000    12.000000  2010.000000   \n",
       "\n",
       "           SalePrice  \n",
       "count    1460.000000  \n",
       "mean   180921.195890  \n",
       "std     79442.502883  \n",
       "min     34900.000000  \n",
       "25%    129975.000000  \n",
       "50%    163000.000000  \n",
       "75%    214000.000000  \n",
       "max    755000.000000  \n",
       "\n",
       "[8 rows x 38 columns]"
      ]
     },
     "execution_count": 5,
     "metadata": {},
     "output_type": "execute_result"
    }
   ],
   "source": [
    "print(train.shape)\n",
    "print(train.size)\n",
    "train.describe()"
   ]
  },
  {
   "cell_type": "markdown",
   "metadata": {},
   "source": [
    "### Preprocessing\n",
    "- transform skewed data with log(f+1) to normalize\n",
    "- replace missing data numericals with mean of column\n"
   ]
  },
  {
   "cell_type": "code",
   "execution_count": 6,
   "metadata": {},
   "outputs": [
    {
     "data": {
      "text/plain": [
       "array([[<matplotlib.axes._subplots.AxesSubplot object at 0x7fe290e08278>,\n",
       "        <matplotlib.axes._subplots.AxesSubplot object at 0x7fe28da2e940>]], dtype=object)"
      ]
     },
     "execution_count": 6,
     "metadata": {},
     "output_type": "execute_result"
    },
    {
     "data": {
      "image/png": "iVBORw0KGgoAAAANSUhEUgAAAskAAAF1CAYAAAAa1Xd+AAAABHNCSVQICAgIfAhkiAAAAAlwSFlz\nAAALEgAACxIB0t1+/AAAIABJREFUeJzt3X20XXV95/H3t0QeRCQ8hDQm0WCJWdhJRcwgDjPtrVjL\ng2NwClNolgSMK64WW11mVYN29WGmnYHpsiC1g2aJNnZUZFAKBaxS4EzHzoAFRUAjQ2QiuUMkKg8S\nqc5Ev/PH+V04/jj33pPc87Dvve/XWmedvX/7t/f+3HPO3ed79/2dfSIzkSRJkvSsnxl1AEmSJKlp\nLJIlSZKkikWyJEmSVLFIliRJkioWyZIkSVLFIlmSJEmqWCSrJxGxIyJe16dtvT4i/noG66+LiC/0\nI8ugRcRnI+K0UeeQpNkqIv5VRDww6hyaf8LrJKsXEbEDeGtm/l0ftnUX8PbMvGPGwUYsIpYAHwbW\nAEuAYzNzR8fyk4ArM/NVo0koSZL2h2eSNVQR8c+Bw/e3QI6IBX2ONNl+dkTEih66/gT4W+DXui3M\nzC8BL4yINf1LJ0nzw7CO+VI3FsnaZxFxUERcHhGPlNvlEXFQx/J3R8SusuytEZERcVxZfDrw36rt\nZUT8TkQ8FBHfjYg/jYifKcsuiIh/iIjLIuIx4A9L2xc71v/5iLglIh6LiEcj4r2l/WciYnNEfDMi\nvhcR10TEkf18LDLz0cz8z8A/TtGtBZzZz/1K0mxWTkRcHBFfj4jHI+JjEXFwRIxFxHhEvCcivg18\nbKKtY93lZSjbd8qx/YMdy94SEdvKNj8fES8ZyQ+oOcEiWfvjfcDJwAnAK4CTgN8DKONv3wW8DjgO\n+KVq3dVAt7Flb6I9ZOFEYC3wlo5lrwYeAo4B/qRzpYg4DPg72mdzX1T2eWtZ/DvAWSXDi4DHgb/Y\nx5+1H7bRfpwkSc9aB/wq8HPAyyjvI8DPAkcCLwE2dq4QEQcANwLfAlYAS4Gry7KzgPcC/wZYBPx3\n4FMD/hk0h1kka3+sA/5dZu7OzO8AfwS8uSz7t8DHMvNrmfl0WdZpIfBUl21empmPZebDwOXAeR3L\nHsnMP8/MvZn5T9V6bwC+nZnvz8wfZuZTmXlnWfY24H2ZOZ6ZPwL+EDh7BP++e4r2zy1JetYHM3Nn\nZj5G+wTIxHH/J8AfZOaPuhzzT6J90uN3M/MH5bg/8Z/FtwH/MTO3ZeZe4D8AJ3g2WfvLIln740W0\n/4qf8K3SNrFsZ8eyzmlon809rMs2O/t1bq/bNjotB745ybKXANdFxBMR8QTtM7o/BhbXHSPixRP9\nSt8XA/d2tP3GFBmmcxjwxAzWl6S5aLLj/ncy84eTrLMc+FYpgmsvAT7QcRx/DAjaZ5ulfWaRrP3x\nCO2D0YQXlzaAXcCyjmXLq3Xvpf1vtVpnv87tAUx1CZadtP9VN9my0zNzYcft4Mz8P3XHzHy4sx/w\nMPALHW2fnCLDdI4HvjqD9SVpLprsuD/dMf/Fk/xHcCfwtuqYf0hm/o8+5dU8Y5Gs/fEp4PciYlFE\nHA38PvBfyrJrgAsj4viIeH5Z1ulmnjtOGeB3I+KIiFgOvAP4dI9ZbgR+NiLeWT5QeFhEvLos+xDw\nJxP/ait51/b8U/YoIg4GJj64eFCZ7/RLwOf6vV9JmuUuiohl5QPV76W34/6XaJ+MuSQiDi0f9jul\nLPsQcHFE/DxARBweEecMJLnmBYtk7Y8/Bu6ifVb4PuDLpY3M/BxwBXA7sB34n2WdH5XlXwae7Chk\nJ1wP3A3cA9wEXNVLkMx8CvgV4F8D3wYeBH65LP4AcAPwhYh4CriD9ocA++2fgD1l+htlHnjmknc/\nKJeCkyQ965PAF2h/MPshyvvIVDLzx7SP98fR/o/fOPDrZdl1wKXA1RHxfeB+2ldUkvaLXyaigYqI\n42kfqA6aGEMWEa8HfiszzyrzCazMzO2jSzoYEfEZ4KrMvHnUWSSpKfr5BVXSoHiRbvVdRLyJ9tng\nQ2n/Vf83nR+yyMwv0D57MOdlZtcvGZEkSc3mcAsNwtuA79C+6sSPgd8cbRxJkqR943ALSZIkqeKZ\nZEmSJKlikSxJkiRVGvHBvaOPPjpXrFgxo2384Ac/4NBDD+1PoAEz62CYdTDmU9a77777u5m5qI+R\n1GHhwoV53HHHjTrGT2na67tpecBMvWpapqblgeZk6vlYn5kjv73qVa/Kmbr99ttnvI1hMetgmHUw\n5lNW4K5swDFxrt5e9rKX7cOzMRxNe303LU+mmXrVtExNy5PZnEy9HusdbiFJkiRVLJIlSZKkikWy\nJEmSVLFIliRJkioWyZIkSVLFIlmSJEmqWCRLkiRJFYtkSZIkqWKRLEmSJFUskiVJkqSKRbIkSZJU\nsUiWJEmSKhbJkiRJUmXBqANoblux+aah7esvTzt0aPuSNLcM81i145Izh7YvSfvPM8mSJElSxSJZ\nkiRJqlgkS5IkSRWLZEmSJKlikSxJkiRVLJIlSZKkikWyJM1zEbEqIu7puH0/It4ZEUdGxC0R8WC5\nP6L0j4i4IiK2R8S9EXHiqH8GSeo3i2RJmucy84HMPCEzTwBeBTwNXAdsBm7NzJXArWUe4HRgZblt\nBK4cfmpJGiyLZElSp1OBb2bmt4C1wNbSvhU4q0yvBT6ebXcACyNiyfCjStLg+I17kqRO5wKfKtOL\nM3MXQGbuiohjSvtSYGfHOuOlbVe9sYjYSPtsM4sWLaLVag0o9v7Zs2cPrVaLTav3Dm2fUz0GE3ma\nxEy9aVqmpuWBZmaaikWyJAmAiDgQeCNw8XRdu7Rlt46ZuQXYArBq1aocGxubScS+a7VajI2NccEw\nv5Z63di0eZrETL1pWqam5YFmZpqKwy0kSRNOB76cmY+W+UcnhlGU+92lfRxY3rHeMuCRoaWUpCGw\nSJYkTTiPZ4daANwArC/T64HrO9rPL1e5OBl4cmJYhiTNFQ63kCQREc8HfgV4W0fzJcA1EbEBeBg4\np7TfDJwBbKd9JYwLhxhVkobCIlmSRGY+DRxVtX2P9tUu6r4JXDSkaJI0Eg63kCRJkioWyZIkSVLF\nIlmSJEmqWCRLkiRJFYtkSZIkqWKRLEmSJFUskiVJkqSKRbIkSZJUsUiWJEmSKhbJkiRJUsUiWZIk\nSapYJEuSJEkVi2RJkiSpYpEsSZIkVSySJUmSpIpFsiRJklSxSJYkSZIqFsmSJElSxSJZkiRJqlgk\nS5IkSRWLZEmSJKlikSxJkiRVLJIlSZKkikWyJEmSVLFIliRJkioWyZIkSVLFIlmSJEmq9FwkR8QB\nEfGViLixzB8bEXdGxIMR8emIOLC0H1Tmt5flKwYTXZIkSRqMfTmT/A5gW8f8pcBlmbkSeBzYUNo3\nAI9n5nHAZaWfJEmSNGv0VCRHxDLgTOAjZT6A1wLXli5bgbPK9NoyT1l+aukvSZIkzQoLeux3OfBu\n4LAyfxTwRGbuLfPjwNIyvRTYCZCZeyPiydL/u50bjIiNwEaAxYsX02q19vNHaNuzZ8+MtzEs8ynr\nptV7p+/UJ7sfe5I//8T1A9/P6qWHz3gb8+k1MEyzKaskqdmmLZIj4g3A7sy8OyLGJpq7dM0elj3b\nkLkF2AKwZs2aHBsbq7vsk1arxUy3MSzzKesFm2/qX5hpbFq9l/ff1+vffftvx7qxGW9jPr0Ghmk2\nZZUkNVsvFcUpwBsj4gzgYOCFtM8sL4yIBeVs8jLgkdJ/HFgOjEfEAuBw4LG+J5ckSZIGZNoxyZl5\ncWYuy8wVwLnAbZm5DrgdOLt0Ww9M/J/7hjJPWX5bZj7nTLIkSZLUVDO5TvJ7gHdFxHbaY46vKu1X\nAUeV9ncBm2cWUZI0aBGxMCKujYhvRMS2iHhNRBwZEbeUS33eEhFHlL4REVeUS33eGxEnjjq/JPXb\nPg3gzMwW0CrTDwEndenzQ+CcPmSTJA3PB4C/zcyzy3Xvnw+8F7g1My+JiM20T3q8BzgdWFlurwau\nLPeSNGf4jXuSNM9FxAuBX6T8RzAz/29mPsFPX9KzvtTnx7PtDtqfUVky5NiSNFCDvxSAJKnpXgp8\nB/hYRLwCuJv2F0gtzsxdAJm5KyKOKf2fudRnMXEZ0F31hjsv97lo0aLGXaJv4rKBw7xc5VSPQRMv\nY2im3jQtU9PyQDMzTcUiWZK0ADgR+O3MvDMiPsDUnyfp6VKf8NOX+1y1atWML/fZbxOXDRzm5Sqn\nuoxkEy9jaKbeNC1T0/JAMzNNxeEWkqRxYDwz7yzz19Iumh+dGEZR7nd39F/esX7nZUAlaU6wSJak\neS4zvw3sjIhVpelU4Ov89CU960t9nl+ucnEy8OTEsAxJmiscbiFJAvht4BPlyhYPARfSPpFyTURs\nAB7m2SsX3QycAWwHni59JWlOsUiWJJGZ9wBruiw6tUvfBC4aeChJGiGHW0iSJEkVi2RJkiSpYpEs\nSZIkVSySJUmSpIpFsiRJklSxSJYkSZIqFsmSJElSxSJZkiRJqlgkS5IkSRWLZEmSJKlikSxJkiRV\nLJIlSZKkikWyJEmSVLFIliRJkioWyZIkSVLFIlmSJEmqWCRLkiRJFYtkSZIkqWKRLEmSJFUskiVJ\nkqSKRbIkSZJUsUiWJEmSKhbJkiRJUsUiWZIkSapYJEuSJEkVi2RJkiSpYpEsSZIkVSySJUmSpIpF\nsiRJklSxSJYkSZIqFsmSJElSxSJZkiRJqlgkS5IkSRWLZEmSJKlikSxJIiJ2RMR9EXFPRNxV2o6M\niFsi4sFyf0Rpj4i4IiK2R8S9EXHiaNNLUv9ZJEuSJvxyZp6QmWvK/Gbg1sxcCdxa5gFOB1aW20bg\nyqEnlaQBs0iWJE1mLbC1TG8Fzupo/3i23QEsjIglowgoSYOyYNQBJEmNkMAXIiKBD2fmFmBxZu4C\nyMxdEXFM6bsU2Nmx7nhp21VvNCI20j7bzKJFi2i1WoP7CfbDnj17aLVabFq9d2j7nOoxmMjTJGbq\nTdMyNS0PNDPTVCySJUkAp2TmI6UQviUivjFF3+jSlt06lmJ7C8CqVatybGxsxkH7qdVqMTY2xgWb\nbxraPnesG5s2T5OYqTdNy9S0PNDMTFNxuIUkicx8pNzvBq4DTgIenRhGUe53l+7jwPKO1ZcBjwwv\nrSQNnkWyJM1zEXFoRBw2MQ28HrgfuAFYX7qtB64v0zcA55erXJwMPDkxLEOS5gqHW0iSFgPXRQS0\n3xc+mZl/GxH/CFwTERuAh4FzSv+bgTOA7cDTwIXDjyxJg2WRLEnzXGY+BLyiS/v3gFO7tCdw0RCi\nSdLIONxCkiRJqlgkS5IkSRWLZEmSJKlikSxJkiRVLJIlSZKkikWyJEmSVLFIliRJkirTFskRcXBE\nfCkivhoRX4uIPyrtx0bEnRHxYER8OiIOLO0HlfntZfmKwf4IkiRJUn/1cib5R8BrM/MVwAnAaeVr\nSC8FLsvMlcDjwIbSfwPweGYeB1xW+kmSJEmzxrRFcrbtKbPPK7cEXgtcW9q3AmeV6bVlnrL81Cjf\ndSpJkiTNBj2NSY6IAyLiHmA3cAvwTeCJzNxbuowDS8v0UmAnQFn+JHBUP0NLkiRJg7Sgl06Z+WPg\nhIhYCFwHHN+tW7nvdtY464aI2AhsBFi8eDGtVquXKJPas2fPjLcxLPMp66bVe6fv1CeLDxnO/vrx\n3M2n18AwzaaskqRm66lInpCZT0RECzgZWBgRC8rZ4mXAI6XbOLAcGI+IBcDhwGNdtrUF2AKwZs2a\nHBsb29+fAWgXLjPdxrDMp6wXbL6pf2GmsWn1Xt5/3z69pPfLjnVjM97GfHoNDNNsyipJarZerm6x\nqJxBJiIOAV4HbANuB84u3dYD15fpG8o8ZfltmfmcM8mSJElSU/Vy2m0JsDUiDqBdVF+TmTdGxNeB\nqyPij4GvAFeV/lcBfxUR22mfQT53ALklSZKkgZm2SM7Me4FXdml/CDipS/sPgXP6kk6SJEkaAb9x\nT5IkSapYJEuSJEkVi2RJkiSpYpEsSZIkVSySJUmSpIpFsiRJklSxSJYkSZIqFsmSJElSxSJZkiRJ\nqlgkS5IkSRWLZEmSJKlikSxJkiRVLJIlSZKkikWyJEmSVLFIliRJkioWyZIkSVLFIlmSJEmqWCRL\nkiRJFYtkSRIAEXFARHwlIm4s88dGxJ0R8WBEfDoiDiztB5X57WX5ilHmlqRBsEiWJE14B7CtY/5S\n4LLMXAk8Dmwo7RuAxzPzOOCy0k+S5hSLZEkSEbEMOBP4SJkP4LXAtaXLVuCsMr22zFOWn1r6S9Kc\nsWDUASRJjXA58G7gsDJ/FPBEZu4t8+PA0jK9FNgJkJl7I+LJ0v+79UYjYiOwEWDRokW0Wq1B5d8v\ne/bsodVqsWn13uk798lUj8FEniYxU2+alqlpeaCZmaZikSxJ81xEvAHYnZl3R8TYRHOXrtnDsp9u\nzNwCbAFYtWpVjo2Ndes2Mq1Wi7GxMS7YfNPQ9rlj3di0eZrETL1pWqam5YFmZpqKRbIk6RTgjRFx\nBnAw8ELaZ5YXRsSCcjZ5GfBI6T8OLAfGI2IBcDjw2PBjS9LgOCZZkua5zLw4M5dl5grgXOC2zFwH\n3A6cXbqtB64v0zeUecry2zKz65lkSZqtLJIlSZN5D/CuiNhOe8zxVaX9KuCo0v4uYPOI8knSwDjc\nQpL0jMxsAa0y/RBwUpc+PwTOGWowSRoyzyRLkiRJFYtkSZIkqWKRLEmSJFUskiVJkqSKRbIkSZJU\nsUiWJEmSKl4CTpKkIVoxxVdgb1q9t29fkb3jkjP7sh1pvvJMsiRJklSxSJYkSZIqFsmSJElSxSJZ\nkiRJqlgkS5IkSRWLZEmSJKlikSxJkiRVLJIlSZKkikWyJEmSVLFIliRJkioWyZIkSVLFIlmSJEmq\nWCRLkiRJlQWjDiDNNis23zTjbWxavZcLetjOjkvOnPG+JEnSvvNMsiRJklSxSJYkSZIqFsmSJElS\nxSJZkiRJqlgkS5IkSRWLZEmSJKlikSxJkiRVLJIlSZKkikWyJEmSVJm2SI6I5RFxe0Rsi4ivRcQ7\nSvuREXFLRDxY7o8o7RERV0TE9oi4NyJOHPQPIUmSJPVTL2eS9wKbMvN44GTgooh4ObAZuDUzVwK3\nlnmA04GV5bYRuLLvqSVJkqQBmrZIzsxdmfnlMv0UsA1YCqwFtpZuW4GzyvRa4OPZdgewMCKW9D25\nJEmSNCD7NCY5IlYArwTuBBZn5i5oF9LAMaXbUmBnx2rjpU2S1FARcXBEfCkivlqG1v1RaT82Iu4s\nQ+s+HREHlvaDyvz2snzFKPNLUr8t6LVjRLwA+Azwzsz8fkRM2rVLW3bZ3kbawzFYvHgxrVar1yhd\n7dmzZ8bbGJb5lHXT6r39CzONxYcMd38z0WvWJrxO5tPrdZ77EfDazNwTEc8DvhgRnwPeBVyWmVdH\nxIeADbSH0W0AHs/M4yLiXOBS4NdHFV6S+q2nIrkcMD8DfCIzP1uaH42IJZm5qwyn2F3ax4HlHasv\nAx6pt5mZW4AtAGvWrMmxsbH9+wmKVqvFTLcxLPMp6wWbb+pfmGlsWr2X99/X8999I9Vr1h3rxgYf\nZhrz6fU6n2VmAnvK7PPKLYHXAr9R2rcCf0i7SF5bpgGuBT4YEVG2I0mzXi9XtwjgKmBbZv5Zx6Ib\ngPVlej1wfUf7+eUqFycDT04My5AkNVdEHBAR99A+6XEL8E3gicyc+LdH5/C5Z4bWleVPAkcNN7Ek\nDU4vp91OAd4M3FcOngDvBS4BromIDcDDwDll2c3AGcB24Gngwr4mliQNRGb+GDghIhYC1wHHd+tW\n7vd5aN2iRYsaNxxmYohOU4Zq9XPYWL8e6yYOYzLT9JqWB5qZaSrTFsmZ+UW6HwwBTu3SP4GLZphL\nkjQimflERLRoX/ZzYUQsKGeLO4fPTQytG4+IBcDhwGNdtvXM0LpVq1bNeGhdv00M0Rnm0LCp9HPY\nWL+GazVxGJOZpte0PNDMTFPxG/ckSUTEonIGmYg4BHgd7Ut+3g6cXbrVQ+smhtydDdzmeGRJc8ns\n+JSTJGnQlgBbI+IA2idQrsnMGyPi68DVEfHHwFdof0aFcv9XEbGd9hnkc0cRWpIGxSJZkkRm3kv7\nOvh1+0PASV3af8izn0WRpDnH4RaSJElSxSJZkiRJqjjcYp5a0eMnuTet3tuYT31LkiQNi2eSJUmS\npIpFsiRJklSxSJYkSZIqFsmSJElSxSJZkiRJqlgkS5IkSRWLZEmSJKlikSxJkiRVLJIlSZKkikWy\nJEmSVLFIliRJkioWyZIkSVLFIlmSJEmqWCRLkiRJFYtkSZIkqWKRLEmSJFUskiVJkqSKRbIkSZJU\nsUiWJEmSKhbJkiRJUsUiWZIkSapYJEuSJEkVi2RJkiSpYpEsSZIkVSySJUmSpIpFsiRJklSxSJYk\nSZIqFsmSJElSxSJZkiRJqlgkS5IkSRWLZEmSJKlikSxJ81xELI+I2yNiW0R8LSLeUdqPjIhbIuLB\ncn9EaY+IuCIitkfEvRFx4mh/AknqP4tkSdJeYFNmHg+cDFwUES8HNgO3ZuZK4NYyD3A6sLLcNgJX\nDj+yJA2WRbIkzXOZuSszv1ymnwK2AUuBtcDW0m0rcFaZXgt8PNvuABZGxJIhx5akgbJIliQ9IyJW\nAK8E7gQWZ+YuaBfSwDGl21JgZ8dq46VNkuaMBaMOIElqhoh4AfAZ4J2Z+f2ImLRrl7acZJsbaQ/J\nYNGiRbRarT4k7Z89e/bQarXYtHrvqKMAsPgQ+palX4/1xGPUJGaaXtPyQDMzTcUiWZJERDyPdoH8\nicz8bGl+NCKWZOauMpxid2kfB5Z3rL4MeKTbdjNzC7AFYNWqVTk2NjaI+Put1WoxNjbGBZtvGnUU\noF0gv/++/rw171g31pftTDxGTWKm6TUtDzQz01QcbiFJ81y0TxlfBWzLzD/rWHQDsL5Mrweu72g/\nv1zl4mTgyYlhGZI0V3gmWZJ0CvBm4L6IuKe0vRe4BLgmIjYADwPnlGU3A2cA24GngQuHG1eSBs8i\nWZLmucz8It3HGQOc2qV/AhcNNJQkjZjDLSRJkqSKRbIkSZJUsUiWJEmSKhbJkiRJUsUiWZIkSapY\nJEuSJEkVi2RJkiSpYpEsSZIkVSySJUmSpIpFsiRJklSxSJYkSZIq0xbJEfHRiNgdEfd3tB0ZEbdE\nxIPl/ojSHhFxRURsj4h7I+LEQYaXJEmSBqGXM8l/CZxWtW0Gbs3MlcCtZR7gdGBluW0EruxPTEmS\nJGl4pi2SM/Pvgceq5rXA1jK9FTiro/3j2XYHsDAilvQrrCRJkjQM+zsmeXFm7gIo98eU9qXAzo5+\n46VNkiRJmjUW9Hl70aUtu3aM2Eh7SAaLFy+m1WrNaMd79uyZ8TaGpQlZN63e21O/xYf03nfU5mLW\nUb9OoBmv117NpqySpGbb3yL50YhYkpm7ynCK3aV9HFje0W8Z8Ei3DWTmFmALwJo1a3JsbGw/o7S1\nWi1muo1haULWCzbf1FO/Tav38v77+v231GDMxaw71o0NPsw0mvB67dVsyipJarb9rShuANYDl5T7\n6zva3x4RVwOvBp6cGJYhSdK+WtHjH/T7a9PqvT2fNJA0v0xbJEfEp4Ax4OiIGAf+gHZxfE1EbAAe\nBs4p3W8GzgC2A08DFw4gsyRJkjRQ0xbJmXneJItO7dI3gYtmGkqSJEkaJb9xT5IkSarMjk85SfPU\noMdjTthxyZlD2Y8kSbOFZ5IlSZKkimeSJUmag/r1n6hergDif6M0F3kmWZIkSapYJEuSJEkVi2RJ\nkiSpYpEsSZIkVSySJUmSpIpFsiRJklSxSJYkSZIqFsmSJElSxSJZkiRJqlgkS5IkSRWLZEkSEfHR\niNgdEfd3tB0ZEbdExIPl/ojSHhFxRURsj4h7I+LE0SWXpMGwSJYkAfwlcFrVthm4NTNXAreWeYDT\ngZXlthG4ckgZJWloLJIlSWTm3wOPVc1rga1leitwVkf7x7PtDmBhRCwZTlJJGg6LZEnSZBZn5i6A\ncn9MaV8K7OzoN17aJGnOWDDqAJKkWSe6tGXXjhEbaQ/JYNGiRbRarX3a0abVe/c12z5ZfMjg97Ev\nmpYHesu0r8/rTO3Zs2fo+5xO0zI1LQ80M9NULJIlSZN5NCKWZOauMpxid2kfB5Z39FsGPNJtA5m5\nBdgCsGrVqhwbG9unABdsvmlfM++TTav38v77mvNW2LQ80FumHevGhhOmaLVa7OtradCalqlpeaCZ\nmabicAtJ0mRuANaX6fXA9R3t55erXJwMPDkxLEOS5opm/bkqSRqJiPgUMAYcHRHjwB8AlwDXRMQG\n4GHgnNL9ZuAMYDvwNHDh0ANL0oBZJEuSyMzzJll0ape+CVw02ESSNFoOt5AkSZIqFsmSJElSxeEW\nDbJiwJ/iliRJUm88kyxJkiRVLJIlSZKkikWyJEmSVLFIliRJkioWyZIkSVLFIlmSJEmqWCRLkiRJ\nFYtkSZIkqWKRLEmSJFUskiVJkqSKRbIkSZJUsUiWJEmSKhbJkiRJUmXBqANIkqTZbcXmm4aynx2X\nnDmU/UjgmWRJkiTpOSySJUmSpIpFsiRJklSxSJYkSZIqFsmSJElSxSJZkiRJqlgkS5IkSRWLZEmS\nJKnil4lImvKLADat3ssFffyiAL8MQJI0G3gmWZIkSapYJEuSJEkVi2RJkiSpYpEsSZIkVfzgXg+m\n+lDT/uj3B6EkSZoPJt6Ph/E+6oeM5ZlkSZIkqWKRLEmSJFUskiVJkqTKQMYkR8RpwAeAA4CPZOYl\n/d5HPU7Ycb7S7NDvMf6dOo8DjiccvGEc6yVpVPp+JjkiDgD+AjgdeDlwXkS8vN/7kSSNjsd6SXPd\nIM4knwRsz8yHACLiamAt8PUB7EuSNBoe6zWn7et/vfb3P9r+16u5BlEkLwV2dsyPA68ewH4kSaPj\nsV7qg0ENQWviMNR+Zxr0HxiRmf3dYMQ5wK9m5lvL/JuBkzLzt6t+G4GNZXYV8MAMd3008N0ZbmNY\nzDoYZh2M+ZT1JZm5qF9h5rL9PNb/M+D+oQadXtNe303LA2bqVdMyNS0PNCdTT8f6QZxJHgeWd8wv\nAx6pO2UwxyK0AAAH80lEQVTmFmBLv3YaEXdl5pp+bW+QzDoYZh0Ms2oS+3ysb+Lz07RMTcsDZupV\n0zI1LQ80M9NUBnEJuH8EVkbEsRFxIHAucMMA9iNJGh2P9ZLmtL6fSc7MvRHxduDztC8L9NHM/Fq/\n9yNJGh2P9ZLmuoFcJzkzbwZuHsS2p9C3oRtDYNbBMOtgmFVd7cexvonPT9MyNS0PmKlXTcvUtDzQ\nzEyT6vsH9yRJkqTZzq+lliRJkiqNL5Ij4qMRsTsi7u9oOzIibomIB8v9EZOs++OIuKfcBv6Bkkmy\nnhMRX4uIn0TEpJ/ojIjTIuKBiNgeEZsbnnVHRNxXHte7RpT1TyPiGxFxb0RcFxELJ1m3CY9rr1mb\n8Lj++5Lznoj4QkS8aJJ115ffvwcjYn3Dsw71OKDnGsTv4b68N0TbFWX/90bEiR3rdH0tR8Sryu/j\n9rJuTLOP5RFxe0RsK8fRdzQg08ER8aWI+GrJ9Eel/diIuLP0/3S0P3hJRBxU5reX5Ss69n1xaX8g\nIn51uud2sn10LD8gIr4SETc2IVN0Of6O+LlbGBHXRvu9Y1tEvGbEeVbFs8fReyLi+xHxzlFmGorM\nbPQN+EXgROD+jrb/BGwu05uBSydZd08Dsh5P+zrQLWDNJOsdAHwTeClwIPBV4OVNzFr67QCOHvHj\n+npgQZm+tNtroEGP67RZG/S4vrBj+neAD3VZ70jgoXJ/RJk+oolZy7KhHge8PefxH8jv4b68NwBn\nAJ8DAjgZuLO0T/paBr4EvKas8zng9Gn2sQQ4sUwfBvwv2l/XPcpMAbygTD8PuLPs6xrg3NL+IeA3\ny/RvTfwe0b5ayafL9MvL83YQcGx5Pg+Y6rmdbB8dz9W7gE8CN07Vf1iZ6HL8HfFztxV4a5k+EFg4\nyjxdfqe/DbykKZkGdvwa1o5mFBJW8NMHwgeAJR0HpgcmWW/ob4511o72FpMXya8BPt8xfzFwcROz\nluU7GGIxN1XWsuxNwCea/rhOlbWhj+vFwJVd2s8DPtwx/2HgvCZmLcsskkd4G+TvYa/vDfVrdKLf\nZK/lsuwbHe3P9NuH95/rgV9pSibg+cCXaX8r4nd59g/3Z54f2lcqeU2ZXlD6Rf2cTfSb7Lkt63Td\nR5lfBtwKvBa4car+Q8y0g+cWySN57oAXAv+b8rmxUefp8lp6PfAPTco0qFvjh1tMYnFm7gIo98dM\n0u/giLgrIu6IiLOGF2+fdft616UjytKLBL4QEXdH+9u0Ru0ttP/qrDXxcZ0sKzTkcY2IP4mIncA6\n4Pe7dGnM49pDVpg9x4G5apivl8neGybLMFX7+CSZp33/KUMCXkn7zO1IM0V7WMM9wG7gFtpnWZ/I\nzL1dtvPMvsvyJ4Gj9iPrUVPsA+By4N3AT8r8VP2Hlanb8XdUz91Lge8AH4v2kJSPRMShI8xTOxf4\n1DT9h51pIGZrkdyrF2f7m11+A7g8In5u1IEmEV3acugpendKZp4InA5cFBG/OKogEfE+YC/wiW6L\nu7SN7HGdJis05HHNzPdl5nLaOd/epUtjHtcessLsOQ7MVU14vUyWYV/bp99RxAuAzwDvzMzvjzpT\nZv44M0+gffb2JNrD6ibbTr8yTZo1It4A7M7MuzuWTfWzDTxTsS/H30E/dwtoDyW6MjNfCfyA9jCD\nUeV5dkftcdxvBP7rdF2HlWmQZmuR/GhELAEo97u7dcrMR8r9Q7SHELxyWAH3UU9f79oUHY/rbuA6\n2gfeoSsD/t8ArMvyf5hKYx7XHrI25nHt8Eng17q0N+Zx7TBZ1tl0HJirhvl6mey9YbIMU7UvmyTz\npO8/EfE82gXyJzLzs03INCEzn6D9+j8ZWBgRC7ps55l9l+WHA4/tR9bvTrGPU4A3RsQO4GraQy4u\nH3GmyY6/o3ruxoHxzLyz9LmWdtHchNfS6cCXM/PRafoP9fU9KLO1SL4BWF+m19Me+/VTIuKIiDio\nTB9N+xfz60NLuG9mzde7RsShEXHYxDTtsUn3T73WQHKcBrwHeGNmPj1Jt0Y8rr1kbdDjurJj9o3A\nN7p0+zzw+vI7dgTtrJ8fRr5OvWSdZceBuWqYv4eTvTfcAJxfPnF/MvBk+bdt19dyWfZURJxcPmF/\nfrWt5+yj9LsK2JaZf9aQTIuiXE0nIg4BXgdsA24Hzp4k08R2zgZuK3/U3wCcG+0rTRwLrKT9Iauu\nz21Zp+s+MvPizFyWmStK/9syc90oM01x/B3Jc5eZ3wZ2RsSq0n4q7ePWyF5LHc7j2aEWU/UfZqbB\nGdbg5/290X4ydgH/j/ZfGhtojy26FXiw3B9Z+q4BPlKm/wVwH+1Ptt4HbBhR1jeV6R8Bj/LshxFe\nBNzcse4ZtD8N/U3gfU3NSnus1FfL7WsjzLqd9rime8rtQ3XWBj2u02Zt0OP6GdpvDvcCfwMsLX2f\n+d0q828pP9d24MKmZh3FccBb1+ev77+Hk7wmJntvCOAvyv7vo+ODyZO9lsvr6P6yzgfhmS/fmmwf\n/5L2v4fv7fhdP2PEmX4B+ErJdD/w+6X9pbQLyu20/21+UGk/uMxvL8tf2rHv95X9PkC56sBUz+1k\n+6iewzGevbrFyDIxyfF3xM/dCcBd5bn7a9pXghhZnrLs+cD3gMM72kaaadA3v3FPkiRJqszW4RaS\nJEnSwFgkS5IkSRWLZEmSJKlikSxJkiRVLJIlSZKkikWyJEmSVLFIliRJkioWyZIkSVLl/wOmNgg0\ncc6D5AAAAABJRU5ErkJggg==\n",
      "text/plain": [
       "<matplotlib.figure.Figure at 0x7fe290e00fd0>"
      ]
     },
     "metadata": {},
     "output_type": "display_data"
    }
   ],
   "source": [
    "matplotlib.rcParams['figure.figsize'] = (12.0, 6.0)\n",
    "prices = pd.DataFrame({\"price\":train[\"SalePrice\"], \"log(price + 1)\":np.log1p(train[\"SalePrice\"])})\n",
    "prices.hist()"
   ]
  },
  {
   "cell_type": "code",
   "execution_count": 7,
   "metadata": {
    "collapsed": true
   },
   "outputs": [],
   "source": [
    "#log transform the target:\n",
    "train[\"SalePrice\"] = np.log1p(train[\"SalePrice\"])\n",
    "\n",
    "#log transform skewed numeric features:\n",
    "numeric_feats = all_data.dtypes[all_data.dtypes != \"object\"].index\n",
    "\n",
    "skewed_feats = train[numeric_feats].apply(lambda x: skew(x.dropna())) #compute skewness\n",
    "skewed_feats = skewed_feats[skewed_feats > 0.75]\n",
    "skewed_feats = skewed_feats.index\n",
    "\n",
    "all_data[skewed_feats] = np.log1p(all_data[skewed_feats])\n",
    "all_data = pd.get_dummies(all_data)\n",
    "\n",
    "#filling NA's with the mean of the column:\n",
    "all_data = all_data.fillna(all_data.mean())\n"
   ]
  },
  {
   "cell_type": "code",
   "execution_count": 8,
   "metadata": {
    "collapsed": true
   },
   "outputs": [],
   "source": [
    "#creating matrices for sklearn:\n",
    "X_train = all_data[:train.shape[0]]\n",
    "X_test = all_data[train.shape[0]:]\n",
    "y = train.SalePrice"
   ]
  },
  {
   "cell_type": "markdown",
   "metadata": {},
   "source": [
    "### Regularized Linear Regression Models\n"
   ]
  },
  {
   "cell_type": "markdown",
   "metadata": {},
   "source": [
    "#### Ridge"
   ]
  },
  {
   "cell_type": "code",
   "execution_count": 9,
   "metadata": {
    "collapsed": true
   },
   "outputs": [],
   "source": [
    "from sklearn.linear_model import Ridge, RidgeCV, ElasticNet, LassoCV, LassoLarsCV\n",
    "from sklearn.model_selection import cross_val_score\n",
    "\n",
    "def rmse_cv(model):\n",
    "    rmse= np.sqrt(-cross_val_score(model, X_train, y, scoring=\"neg_mean_squared_error\", cv = 5))\n",
    "    return(rmse)"
   ]
  },
  {
   "cell_type": "code",
   "execution_count": 10,
   "metadata": {
    "collapsed": true
   },
   "outputs": [],
   "source": [
    "model_ridge = Ridge()\n",
    "model_ridge_cv = RidgeCV(alphas = [1, 0.1, 0.001, 0.0005]).fit(X_train, y)"
   ]
  },
  {
   "cell_type": "code",
   "execution_count": 11,
   "metadata": {},
   "outputs": [
    {
     "data": {
      "text/plain": [
       "<matplotlib.text.Text at 0x7fe28d87ccf8>"
      ]
     },
     "execution_count": 11,
     "metadata": {},
     "output_type": "execute_result"
    },
    {
     "data": {
      "image/png": "iVBORw0KGgoAAAANSUhEUgAAAuEAAAGDCAYAAACFlM5eAAAABHNCSVQICAgIfAhkiAAAAAlwSFlz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\nQmCC\n",
      "text/plain": [
       "<matplotlib.figure.Figure at 0x7fe290db0d68>"
      ]
     },
     "metadata": {},
     "output_type": "display_data"
    }
   ],
   "source": [
    "# higher the reg less chance of overfit\n",
    "alphas = [0.05, 0.1, 0.3, 1, 3, 5, 10, 15, 30, 50, 75]\n",
    "cv_ridge = [rmse_cv(Ridge(alpha = alpha)).mean() \n",
    "            for alpha in alphas]\n",
    "\n",
    "cv_ridge = pd.Series(cv_ridge, index = alphas)\n",
    "cv_ridge.plot(title = \"Validate\")\n",
    "plt.xlabel(\"alpha\")\n",
    "plt.ylabel(\"rmse\") # root mean square error / deviation"
   ]
  },
  {
   "cell_type": "code",
   "execution_count": 12,
   "metadata": {},
   "outputs": [
    {
     "data": {
      "text/plain": [
       "0.12733734668670776"
      ]
     },
     "execution_count": 12,
     "metadata": {},
     "output_type": "execute_result"
    }
   ],
   "source": [
    "cv_ridge.min()"
   ]
  },
  {
   "cell_type": "markdown",
   "metadata": {},
   "source": [
    "Ridge regression: rmsle ~ 0.1274"
   ]
  },
  {
   "cell_type": "code",
   "execution_count": 13,
   "metadata": {},
   "outputs": [
    {
     "name": "stdout",
     "output_type": "stream",
     "text": [
      "Ridge picked 288 variables and eliminated the other 0 variables\n"
     ]
    }
   ],
   "source": [
    "coef = pd.Series(model_ridge_cv.coef_, index = X_train.columns)\n",
    "print(\"Ridge picked \" + str(sum(coef != 0)) + \" variables and eliminated the other \" +  str(sum(coef == 0)) + \" variables\")"
   ]
  },
  {
   "cell_type": "code",
   "execution_count": 14,
   "metadata": {
    "collapsed": true
   },
   "outputs": [],
   "source": [
    "imp_coef = pd.concat([coef.sort_values().head(10),\n",
    "                     coef.sort_values().tail(10)])"
   ]
  },
  {
   "cell_type": "code",
   "execution_count": 15,
   "metadata": {},
   "outputs": [
    {
     "data": {
      "text/plain": [
       "<matplotlib.text.Text at 0x7fe28d7d5438>"
      ]
     },
     "execution_count": 15,
     "metadata": {},
     "output_type": "execute_result"
    },
    {
     "data": {
      "image/png": "iVBORw0KGgoAAAANSUhEUgAAAlIAAAJOCAYAAAB8y+mTAAAABHNCSVQICAgIfAhkiAAAAAlwSFlz\nAAALEgAACxIB0t1+/AAAIABJREFUeJzs3Xu85mO9//HXG/2MU9mb2YpiFSHHwSJylg5SQjQkRTYp\nbUmUnb3bsktK7VJDGraQ8yHtyRQi59NYwzAIxYwU1XIIw1DG+/fH91r5zt063Os7a2bNrPV+Ph73\nY33v6/j53mse1sd1Xfd9yzYRERERMXiLDXcAEREREYuqJFIRERERDSWRioiIiGgoiVREREREQ0mk\nIiIiIhpKIhURERHRUBKpiFgoSFpL0p2SnpN0qKSlJP1M0jOSLpK0j6Qr2xjnS5JOWxAx9xPDqpJm\nSVp8iMY7RtLZQzFWG3P1+zpLulbSvy6IWIbCYOKVZElrzO+YYmRJIhURgyLpI5K6SqLwuKRfSNpq\nCIb+AnCt7eVsfw/YA1gJWMH2nrbPsf3ugQaxfZztef5DL6mj/GFdYrB9bf/O9rK25zSYdztJvx9s\nv0GMf4akv5bf31OSfilp7Z76dl/n+RDXMeX1PrSl/LBSfsyCjimiHUmkIqJtkg4HvgscR5XkrAqc\nDHxwCIZfDbi35fmDtl8egrFjbt+0vSywCvAH4H+HOZ4eDwIfbyn7WCmPWCglkYqItkh6HXAscIjt\nn9h+3vbfbP/M9pGlzZKSvivpsfL4rqQla2O8X9I0SX+RdLOkDUr5r4DtgQllpeQ84MvA+PL8AEn7\nSbqxNta6ZTXlKUl/kvSlUj7XNpikzctcf5F0l6TtanXXSvpvSTeVLcUrJa1Yqq8vP/9SYthC0hqS\nrivbjU9IuqCP12qu1awB5qn3Wwb4BbBymXOWpJVL9f+TdFbpf6+kzlq/lSVdIqlb0ozWVZ2+2J4N\nXAiMq43V+jq/S9L95Z4nAKrVLS7p2+W1mCHpMy33/TpJ/1tWLv8g6asDbHfeDiwtad3Sf11gqVJe\nf50OlPTb8rufVHuN+o231H9C0q8lPS3pCkmrtfNaRfQliVREtGsLYAxwaT9tjgY2p/rDvCGwGfAf\nAJI2Bk4HPgmsAPwQmCRpSds7ADcAnylbYntTrXpdUJ7PtWIiaTngKuByYGVgDeDq1mAkrQJMBr4K\n/DNwBHCJpLG1Zh8B9gf+Bfh/pQ3ANuXn8iWGW4D/Bq4E/gl4I/D9fl6LVn3N83e2nwd2Ah4rcy5r\n+7FSvQtwPrA8MAmYUO5xMeBnwF1UK0zvBA6T9J6BAiqJ297Ab/uoXxG4hOp3uCLwELBlrcmBJd5x\nwMbAri1DnAm8TPX72Qh4NzDQtuuPqVahoFqdOqslph2ArwMfBt4APEL1ugwYr6RdgS8BuwNjqf7N\nnTdAPBH9SiIVEe1aAXhigK22fYBjbf/ZdjfwFWDfUncg8EPbt9meY/tM4CWqxGuw3g/80fa3bb9o\n+znbt/XS7qPAz23/3PYrtn8JdAHvq7X5ke0He1ud6cXfqLYcVy7z3thP21aDmac3N5b7mEOVbGxY\nyjcFxto+1vZfbT8MnArs1c9YR0j6C/AcsBWv/o5avQ+4z/bFtv9Gta37x1r9h4ETbf/e9tPA8T0V\nklaiSrIOK6uXfwa+M0BcAGcDe0t6TWnbesh+H+B023fYfgn4d2ALSR1txPtJ4Ou2f13+HR8HjMuq\nVMyLJFIR0a4ngRXV/+HrlalWCHo8UsqgSkA+X7bY/lL+kL+pVj8Yb6JabRjIasCeLXNuRbWS0aP+\nh/YFYNl+xvsC1VbRlLK99olBxDyYedrpP6b8Llaj2gqs3+OXqM6w9eVbtpcHOoDZwFp9tFsZeLTn\niatvuX+0r/qW69WA1wCP1+L6IdWKXJ9s/45qhew44De2H21pMte/MduzqP5trtJGvKsBJ9bieYrq\n97lKfzFF9GfQ70aJiFHrFuBFqu2bi/to8xhzHxpftZRB9Qfta7a/NgSxPEq1JdVOux/bPrDBHP6H\nAvuPVCtrqHqn4lWSrrfd69ZYQ/8w7wAeBWbYfuugJ7J/J+mzwJmSLiurZXWPUyWtAEhS/Xmpf2Pt\neb3uUaoVxxUbvGHgLKpt4P17qev5N9YT0zJUq6V/aCPenn+D5wwynog+ZUUqItpi+xmqA+AnSdpV\n0tKSXiNpJ0nfLM3OA/5D0thyXuXLvLo1cypwsKS3q7KMpJ3LeafBugx4vaq3xi8paTlJb++l3dnA\nByS9pxyMHqPq4wXe2EvbVt3AK8Bbegok7Vnr+zRV0jPojzgYwJ+AFVQd7m/HFOBZSV9U9dlbi0ta\nT9Km7XQu252PAQf1Uj0ZWFfS7mX161Dg9bX6C4HPSlpF0vLAF2vjPk51nuzbkl4raTFJq0vato2w\nLqA6T3VhL3XnAvtLGqfqjQzHAbfZntlGvKcA/147zP46SXu2EU9En5JIRUTbbP8PcDjVYd5uqv/D\n/wzw09Lkq1RnkO4GpgN3lDJsd1Gt5kygSkJ+C+zXMI7ngHcBH6Da8voN1bv+Wts9SvXRDF+qxXsk\nbfy3z/YLwNeAm8pW0OZU55FukzSL6sD3Z23PaHIP/cx7P1VC+nCZt9+tz3Jm6gNUZ65mAE8ApwHt\nJmIAJwBfUO0dlmXsJ4A9qc4+PQm8Fbip1uRUqmTpbuBO4OdUh8t7ksuPUR2sv4/qd34xc2+r9nVP\ns21f1csKGbavBv6T6lD548DqlHNXA8Vr+1LgG8D5kp4F7qE6xxXRmKot5IiIiHkjaSfgFNs5vB2j\nRlakIiKikbKV+D5JS5SPmvgv+v94jIgRJytSERHRiKSlgeuAtane/TeZarvz2WENLGIBSiIVERER\n0VC29iIiIiIayudIRVtWXHFFd3R0DHcYERERC8TUqVOfsD12oHZJpKItHR0ddHV1DXcYERERC4Sk\nRwZula29iIiIiMaSSEVEREQ0lEQqIiIioqEkUhERERENJZGKiIiIaCjv2ouIiCHTcdTk4Q4hRqmZ\nx+88LPNmRSoiIiKioSRSEREREQ0lkYqIiIhoKInUEJK0kqRzJT0saaqkWyTt1ku7Dkn39FJ+rKQd\n25hnI0mW9J6hij0iIiIGL4nUEJEk4KfA9bbfYnsTYC/gjS3t+jzgb/vLtq9qY7q9gRvLz15jkZTf\nbURExHyWP7ZDZwfgr7ZP6Smw/Yjt70vaT9JFkn4GXNnXAJLOkLSHpJ0kXVgr36707UnY9gD2A94t\naUwp75D0a0knA3cAb5L07rIqdkeZf9nS9suSbpd0j6SJZcyIiIgYpCRSQ2ddqgSmL1sAH7e9Qxtj\n/RLYXNIy5fl44IJyvSUww/ZDwLXA+2r91gLOsr0R8DzwH8COtjcGuoDDS7sJtje1vR6wFPD+3oKQ\ndJCkLkld3d3dbYQdERExuiSRmk8knSTpLkm3l6Jf2n6qnb62XwYuBz5QtgJ3Bv6vVO8NnF+uz2fu\n7b1HbN9arjcH1gFukjQN+DiwWqnbXtJtkqZTraSt20ccE2132u4cO3ZsO6FHRESMKvlAzqFzL/Ch\nnie2D5G0ItVKEFQrRINxAXAI8BRwu+3nJC1e5thF0tGAgBUkLdfLHKJK3uY6R1W2Ak8GOm0/KukY\nYMwgY4uIiAiyIjWUfgWMkfSpWtnS8zDetcDGwIG8uq23I3CX7TfZ7rC9GnAJsGsv/W8FtpS0BoCk\npSWtyatJ0xPlzNQe8xBjRETEqJZEaojYNlVCs62kGZKmAGcCX+yjy1qSfl977Nky3hzgMmCn8hOq\nbbxLW8a5BPhIL/F0Ux1IP0/S3VSJ1dq2/wKcCkynepfh7a19IyIioj2q/v5H9K+zs9NdXV0DN4yI\nUS3ftRfDZai/a0/SVNudA7XLilREREREQzlsHhERQ2aoVwUiFnZZkYqIiIhoKIlURERERENJpCIi\nIiIaSiIVERER0VASqYiIiIiGkkhFRERENJREKiIiIqKhJFIRERERDSWRioiIiGgoiVREREREQ0mk\nIiIiIhpKIhURERHRUL60OCIihkzHUZOHO4QRK18IvXDKilREREREQ0mkIiIiIhpKIhURERHRUBKp\niIiIiIYW2kRK0hxJ0yTdI+lnkpafh7FOkHRv+XmMJEtao1b/uVLWOcA4h0lauvZ8pqQV+2j7HUmH\n1Z5fIem02vNvSzq8l35nSNqjXL9f0p2S7pJ0n6RPtraZV5L2kzRhKMaKiIgYbRbaRAqYbXuc7fWA\np4BD5mGsTwIb2z6yPJ8O7FWr3wO4r41xDgOWHrBV5WbgHQCSFgNWBNat1b8DuKmvzpJeA0wEPmB7\nQ2Aj4No2546IiIgFYGFOpOpuAVYBUOWEslI1XdL4AconAcsAt/WUAT8FPljq3wI8A3T3TCbpB5K6\nyirWV0rZocDKwDWSrmkj5psoiRRVAnUP8Jykf5K0JPA24M4S94Sy4jQZ+JfSZzmqj6d4EsD2S7Yf\nqI2/jaSbJT1cW8HaTtK1ki6WdL+kcySp1L2vlN0o6XuSLhvoBiQdVF6Hru7u7oGaR0REjDoLfSIl\naXHgncCkUrQ7MA7YENgROEHSG/oqt70Lr65uXVDGeBZ4VNJ6wN7ABcztaNudwAbAtpI2sP094DFg\ne9vbDxS37ceAlyWtSpVQ3QLcBmwBdAJ32/4rsBuwFrA+cGBpi+2nyj0/Iuk8SfuUla0ebwC2At4P\nHF8r34hq5Wwd4C3AlpLGAD8EdrK9FTB2oPhLDBNtd9ruHDu2rS4RERGjysKcSC0laRrVisw/A78s\n5VsB59meY/tPwHXApv2U9+V8qu29XYFLW+o+LOkO4E6q1aR1Gt5Dz6pUTyJ1S+35zaXNNrW4HwN+\n1dPZ9r9SJZFTgCOA02tj/9T2K7bvA1aqlU+x/XvbrwDTgA5gbeBh2zNKm/Ma3k9ERETULMyJ1Gzb\n44DVgP/Hq2ek1Ef7vsr78jNgX+B3tp/9+yDSm6mSlnfa3gCYDIwZ5Ng9es5JrU+1tXcr1YpU6/ko\n9zWA7em2vwO8C/hQreql2rX6KJ9DtT042NcmIiIi2rAwJ1IA2H4GOBQ4ohzAvh4YL2lxSWOpVnSm\n9FPe17izgS8CX2upei3wPPCMpJWAnWp1z1GdXWrXTVRbb0+VFaengOWpkqlbSpvrgb1K3G8AtgeQ\ntKyk7WpjjQMeGcTcdfcDb5HUUZ6P77tpREREtGuR+K4923dKuotqK+5sqkTkLqqVnC/Y/qOkS3sr\nH2Dc83spu0vSncC9wMPMvXI0EfiFpMfbOSdF9e7AFYFzW8qWtf1EeX4psEMpf5BqSxKqVaQvSPoh\nMJsquduvjTn/ge3Zkj4NXC7pCfpJMCMiIqJ9svvcVYoRRNKytmeVd/GdBPymbBm2pbOz011dXfMv\nwIgYEfKlxfNPvrR4wZI0tbzxrF+LxIpUDIkDJX2c6rzZnVTv4ouIGFL5Yx+jTRKpeSRpBeDqXqre\nafvJBR1PX8rqU9srUBERETGwJFLzqCRL44Y7joiIiFjwFvp37UVEREQsrJJIRURERDSURCoiIiKi\noSRSEREREQ0lkYqIiIhoKIlURERERENJpCIiIiIaSiIVERER0VASqYiIiIiGkkhFRERENJSviImI\niCHTcdTk4Q5hgciXM0ePrEhFRERENJREKiIiIqKhJFIRERERDSWRioiIiGhoSBIpSZb07drzIyQd\nM0CfXSQdNUCb7SRd1kfdTEkrNgq46n+MpCOa9m86rqTNJd0maZqkX/e8TuVe3zHU8ZSx55T57pJ0\nx/yaJyIiYrQZqnftvQTsLunrtp9op4PtScCkIZp/UCQN57sVzwQ+bPsuSYsDa5Xy7YBZwM3zYc7Z\ntscBSHoP8HVg23oDSYvbnjMf5o6IiBixhmpr72VgIvC51gpJYyVdIun28tiylO8naUK5Xl3SraX+\nWEmzakMsK+liSfdLOkeSanVHSppSHmuUsVaTdLWku8vPVUv5GZL+R9I1wDdK/3UkXSvpYUmH1mI+\nXNI95XFYG+VHS3pA0lW8mhj15V+AxwFsz7F9n6QO4GDgc2XlaOsB7uN7km4uce9Ri+PI8hreLekr\nfcz/WuDp0n47SddIOheY3tpQ0kGSuiR1dXd3D3BbERERo89QrsycBNwt6Zst5ScC37F9Y0kGrgDe\n1kubE22fJ+nglrqNgHWBx4CbgC2BG0vds7Y3k/Qx4LvA+4EJwFm2z5T0CeB7wK6l/ZrAjrbnlC21\ntYHtgeWAByT9ANgA2B94OyDgNknXUSWdfZXvVeJcArgDmNrP6/SdMte1wOXAmbZnSjoFmGX7WwCS\nftbPfbwB2KrEPwm4WNK7gbcCm5X4Jknaxvb1wFKSpgFjSt8davFsBqxne0ZroLYnUiXIdHZ2up97\nioiIGJWG7LC57WeBs4BDW6p2BCaUP+STgNdKWq6lzRbAReX63Ja6KbZ/b/sVYBrQUas7r/Zzi9pY\nPWP8mCrh6HFRy/bVZNsvle3IPwMrlfaX2n7e9izgJ8DW/ZRvXcpfKK9Bv9uVto8FOoErgY9QJVO9\n6e8+fmr7Fdv3lZgB3l0ed1Ilc2tTJVZQtvZsrw28FzirtrI3pbckKiIiIgY21GeFvkv1R/xHtbLF\ngC1sz643nHuHrl8v1a7nMHfM7uOaPsqfb2PsvgLrL+BBrdbYfgj4gaRTgW5JK7TTrXZdj1u1n1+3\n/cMB5r6lHNIfW4paX5OIiIho05B+/IHtp4ALgQNqxVcCn+l5ImlcL11vBT5UrvcaxJTjaz9vKdc3\n18bYh1e3Adt1PbCrpKUlLQPsBtwwQPlukpYqK20f6G9wSTvXVoPeSpXA/QV4jmqLscdg7+MK4BOS\nli3zrCLpX3qZf21gceDJAcaLiIiIAcyPd699m1riRLXVd5Kku8t811MdrK47DDhb0ueBycAzbc61\npKTbqBLCvWvznS7pSKCb6lxT22zfIekMYEopOs32nVAd9O6j/AKqbcdHqJKr/uwLfEfSC1SH9Pcp\nZ7Z+RnXW6YPAvw32PmxfKeltwC0lT5sFfJRqy7LnjBRUK1cfL3MO+HpERERE32QP/xliSUtTneOx\npL2AvW1/cLjjild1dna6q6truMOIiIVcvrQ4RgpJU213DtRuOD9PqW4TqgPpotrm+sQwxxMREQ0k\nwYjRZqFIpGzfAGw43HEMJUknUX1UQ92Jtn/UW/uIiIhY9CwUidRIZPuQ4Y4hIiIi5q98aXFERERE\nQ0mkIiIiIhpKIhURERHRUBKpiIiIiIaSSEVEREQ0lEQqIiIioqEkUhERERENJZGKiIiIaCiJVERE\nRERDSaQiIiIiGkoiFREREdFQvmsvIiKGTMdRk4c7hPli5vE7D3cIsZDKilREREREQ0mkIiIiIhpK\nIhURERHR0IhOpCStJOlcSQ9LmirpFkm7DWM8u0q6W9L9ku6RtMc8jNUh6Z5+6reT9IykabXHjk3n\ni4iIiH80Yg+bSxLwU+BM2x8pZasBu7TZf3Hbc4Ywng2BbwHvsj1D0puBqyTNsD11qOZpcYPt98+n\nsSMiIka9kbwitQPwV9un9BTYfsT298tqzg2S7iiPd8DfV3GukXQuML2U/bSsZt0r6aCesSQdIOlB\nSddKOlXShFI+VtIlkm4vjy1LlyOA42zPKLHMAI4DPl/6XSups1yvKGlmue411qYkbVpWxcZIWqbc\n13p9tD1IUpekru7u7nmZNiIiYkQasStSwLrAHX3U/ZlqZehFSW8FzgM6S91mwHo9CQ/wCdtPSVoK\nuF3SJcCSwH8CGwPPAb8C7irtTwS+Y/tGSasCVwBvK/F8qyWOLuDfBriP/mIdyNaSptWef8j27ZIm\nAV8FlgLOtt3rFqHticBEgM7OTrc5Z0RExKgxkhOpuUg6CdgK+CuwIzBB0jhgDrBmremUWhIFcGjt\nXNWbgLcCrweus/1UGfui2hg7AutUO4sAvFbScoCA1mREDOw1/cQ6kL629o4FbgdeBA4dxHgRERFR\nM5ITqXuBD/U8sX2IpBWpVoE+B/wJ2JBqe/PFWr/ney4kbUeVGG1h+wVJ1wJj6D8BWqy0n10vlHQv\n1UrS3bXijUs8AC/z6lbrmFqb/mJt6p+BZamStDHU7jkiIiLaN5LPSP0KGCPpU7WypcvP1wGP234F\n2BdYvI8xXgc8XZKotYHNS/kUYFtJ/yRpCWoJG3Al8JmeJ2UlCaptvX+X1FHKO4DDgBNK/Uxgk3Jd\nfzdfu7EOxkSqrclzgG8MwXgRERGj0ohdkbJtSbsC35H0BaCbauXli1Rnpy6RtCdwDX2vyFwOHCzp\nbuAB4NYy9h8kHQfcBjwG3Ac8U/ocCpxU+iwBXA8cbHuapC8CP5O0JNABbG/7gdLvW8CFkvalSgJ7\nnNxmrL1pPSP1Vapk8mXb50paHLhZ0g62f9X7EBEREdEX2TlD3ISkZW3PKitSlwKn2750EP2PB94O\nvMf2X+dXnEOls7PTXV1dAzeMiFEt37UXI4WkqbYHfHPXiF2RWgCOKR9wOYZqO++ng+ls+6j5ElVE\nxDBKwhGjTRKphmwfMdwxAEh6D/94zmmG7WH7BPeIiIjRIonUIs72FVSfVRUREREL2Eh+115ERETE\nfJVEKiIiIqKhJFIRERERDSWRioiIiGgoiVREREREQ0mkIiIiIhpKIhURERHRUBKpiIiIiIaSSEVE\nREQ0lEQqIiIioqEkUhEREREN5bv2IiJiyHQcNXm4QxgSM4/febhDiEVEVqQiIiIiGkoiFREREdFQ\nEqmIiIiIhpJIzQNJcyRNk3SPpIskLd1wnFm163Ul/UrSg5IekvQVSYvV6neS1CXp15Lul/StfsY9\nRtIfSow9j+WbxBgRERH/KInUvJlte5zt9YC/AgfPy2CSlgImAcfbXhNYH9gM+GypXw+YAHzU9tuA\n9YCHBxj2OyXGnsdf5iXGiIiIeFUSqaFzA7AGgKTDyyrVPZIO62nQV3nNR4CbbF8JYPsF4DPAkaX+\nC8DXbN9f6l+2ffJgAy1xnF6u1y/xNFpNi4iIGM2SSA0BSUsAOwHTJW0C7A+8HdgcOFDSRn2Vtwy1\nLjC1XmD7IWCpsiW3Xmt9Gz5X29a7ppR9F1hD0m7Aj4BPlqSt9b4OKtuIXd3d3YOcNiIiYuRLIjVv\nlpI0DegCfgf8L7AVcKnt523PAn4CbN1PeZ0A9zKP5iHG+tbe9gC2XwH2A34MXGf7pt462p5ou9N2\n59ixY+chhIiIiJEpH8g5b2bbHlcvkNRX0tNOMnQvsE3LeG8BnrD9F0n3ApsAdzUJtsVbgVnAykMw\nVkRExKiUFamhdz2wq6SlJS0D7EZ1fqqv8rpzgK0k7Qh/P3z+PeC/Sv0JwJckrVnqF5N0+GADlPQ6\n4ESqpG0FSXsMdoyIiIjIitSQs32HpDOAKaXoNNt3AvRVXus7W9IuwPclnQysAnzV9jml/u5ySP28\ncjjcwEDfx/A5SR+tPd8V+DJwsu0HJR0AXCPpett/bnjbERERo5Ls3o7kxMJA0q7A/wDb235kOGPp\n7Ox0V1fXcIYQEYuAfNdejBSSptruHKhdVqQWYrZ/Cvx0uOOIiGhXEpAYbZJIjQCSjgb2bCm+yPbX\nhiOeiIiI0SKJ1AhQEqYkTREREQtY3rUXERER0VASqYiIiIiGkkhFRERENJREKiIiIqKhJFIRERER\nDSWRioiIiGgoiVREREREQ0mkIiIiIhpKIhURERHRUBKpiIiIiIaSSEVEREQ0lO/ai4iIIdNx1OTh\nDmGezTx+5+EOIRYhWZGKiIiIaCiJVERERERDSaQiIiIiGkoiFREREdHQiEikJL1e0vmSHpJ0n6Sf\nS1pzHsfcTtJl5XoXSUeV610lrVNrd6ykHRvOsY+ku8vjZkkbDtB+jqRpku6RdJGkpRvOO1bS3yR9\nskn/iIiIqCzyiZQkAZcC19pe3fY6wJeAlYZqDtuTbB9fnu4KrFOr+7LtqxoOPQPY1vYGwH8DEwdo\nP9v2ONvrAX8FDm44757ArcDeDftHREQEIyCRArYH/mb7lJ4C29OAGyWdUFZvpksaD39fabpW0sWS\n7pd0TknGkPTeUnYjsHvPeJL2kzRB0juAXYATysrQ6pLOkLRHafdOSXeW+U6XtGQpnynpK5LuKHVr\nlzhvtv10meZW4I2DuO8bgDXK+IeX+7xH0mGlbBlJkyXdVcrH1/ruDXweeKOkVfqaQNJBkrokdXV3\ndw8itIiIiNFhJCRS6wFTeynfHRgHbAjsSJX8vKHUbQQcRrWy9BZgS0ljgFOBDwBbA69vHdD2zcAk\n4MiyMvRQT13pfwYw3vb6VJ/R9ala9ydsbwz8ADiil3gPAH7Rzg1LWgLYCZguaRNgf+DtwObAgZI2\nAt4LPGZ7w7KCdXnp+ybg9banABcC43ubo9zvRNudtjvHjh3bTmgRERGjykhIpPqyFXCe7Tm2/wRc\nB2xa6qbY/r3tV4BpQAewNjDD9m9sGzh7kPOtVfo/WJ6fCWxTq/9J+Tm1zPd3kranSqS+OMAcS0ma\nBnQBvwP+t9znpbaftz2rzLM1MB3YUdI3JG1t+5kyxl5UCRTA+WR7LyIiorGR8Mnm9wJ79FKufvq8\nVLuew6uvg+chjv7mq89Znw9JGwCnATvZfnKAMWbbHjfXpGVbspXtB8tq1fuAr0u60vaxVInTSpL2\nKU1XlvRW278ZYO6IiIhoMRJWpH4FLCnpwJ4CSZsCTwPjJS0uaSzV6tCUfsa5H3izpNXL875Wap4D\nluujf4ekNcrzfalWwfokaVWqFaR9aytZg3U9sKukpSUtA+wG3CBpZeAF22cD3wI2lrQWsIztVWx3\n2O4Avk61ShURERGDtMgnUmUbbjfgXeXjD+4FjgHOBe4G7qJKtr5g+4/9jPMicBAwuRw2f6SPpucD\nR5ZD5au39N8fuEjSdOAV4JQ+xujxZWAF4ORyeL1rwBv+x7jvoDqbNQW4DTjN9p3A+sCUshV4NPBV\nquTw0pYhLiHbexEREY2oykMi+tfZ2emurkHneREREYskSVNtdw7UbpFfkYqIiIgYLiPhsPmIImkF\n4Opeqt7ZxmH0iIiIWICSSC1kSrI0bsCGERERMeyytRcRERHRUBKpiIiIiIaSSEVEREQ0lEQqIiIi\noqEkUhG3XuCtAAAgAElEQVQRERENJZGKiIiIaCiJVERERERDSaQiIiIiGkoiFREREdFQEqmIiIiI\nhvIVMRERMWQ6jpo83CEM2szjdx7uEGIRlhWpiIiIiIaSSEVEREQ0lEQqIiIioqEkUhERERENjYpE\nStIcSdNqj44hHHt5SZ+uPV9Z0sVDNX5t3GsldfZRd1u5r99J6p4f9xkRERH/aLS8a2+27XHzaezl\ngU8DJwPYfgzYYz7N1SvbbweQtB/QafszC3L+iIiI0WpUrEj1RtJ+kibUnl8mabtyPUvS1yTdJelW\nSSuV8pUkXVrK75L0DuB4YPWyAnSCpA5J95T2YyT9SNJ0SXdK2r42908kXS7pN5K+WYvjB5K6JN0r\n6SvzeI+flHRC7fmnJH1T0hpl/B+X2C6UtFQv/Q8qsXR1d3fPSygREREj0mhJpJaqbXdd2kb7ZYBb\nbW8IXA8cWMq/B1xXyjcG7gWOAh6yPc72kS3jHAJge31gb+BMSWNK3ThgPLA+MF7Sm0r50bY7gQ2A\nbSVt0OSGi3OB3SX1rDzuD5xRrtcBTiqxvQh8srWz7Ym2O213jh07dh7CiIiIGJlGSyI1uyQ642zv\n1kb7vwKXleupQEe53gH4AYDtObafGWCcrYAfl/b3A48Aa5a6q20/Y/tF4D5gtVL+YUl3AHcC61Il\nPI3Yfo4qEdxJ0rrAHNv3leoZtm8t12eXWCMiImIQRssZqd68zNyJ5Jja9d9su1zPofnrpH7qXqpd\nzwGWkPRm4AhgU9tPSzqjJa4mTgMOB2YCP6qVu6Vd6/OIiIgYwGhZkerNTGCcpMXKttpmbfS5GvgU\ngKTFJb0WeA5Yro/21wP7lPZrAqsCD/Qz/muB54FnyrmsndqIqV+2bwJWB/YELqhVvVnSpuV6b+DG\neZ0rIiJitBnNidRNwAxgOvAt4I42+nwW2F7SdKotv3VtPwncJOme+sHu4mRg8dL+AmA/2y/RB9t3\nUW3p3QucXmIcChcD17dsRd4LHCjpbqozYROHaK6IiIhRQ6/uYMVIJely4Ou2ryvP1wAuHsxHQnR2\ndrqrq2t+hRgRI0S+tDhGCklTy5u/+jWaz0iNeJJWAG4BpvYkURER81OSkhhtkkgtYiTdBizZUryv\n7emtbcu245q9lP+W6uMXIiIiYh4kkVrE9HyKeURERAy/0XzYPCIiImKeJJGKiIiIaCiJVERERERD\nSaQiIiIiGkoiFREREdFQEqmIiIiIhpJIRURERDSURCoiIiKioSRSEREREQ0lkYqIiIhoKF8RExER\nQ6bjqMnDHULb8gXLMRSyIhURERHRUBKpiIiIiIaSSEVEREQ0lEQqIiIioqEhSaQkWdK3a8+PkHTM\nAH12kXTUAG22k3RZH3UzJa3YKOCq/zGSjmjaf17GLa/P/ZLukXSXpI8NcQxLSrpK0jRJ44dy7IiI\niHjVUK1IvQTsPpjExvYk28cP0fyDImnY3q0o6WDgXcBmttcDtgHUS7vF52GajYDX2B5n+4I245qX\n+SIiIkaloUqkXgYmAp9rrZA0VtIlkm4vjy1L+X6SJpTr1SXdWuqPlTSrNsSyki4uKzjnSKonHUdK\nmlIea5SxVpN0taS7y89VS/kZkv5H0jXAN0r/dSRdK+lhSYfWYj68rBbdI+mwNsqPlvSApKuAtQZ4\nrb4EfNr2swC2n7F9ZhlnpqQvS7oR2FPSgeU1uau8hktLWrzEK0nLS3pF0jal/w2SNgPOBsaVFanV\nJb1T0p2Spks6XdKSvc3Xy+/uIEldkrq6u7sHuK2IiIjRZyjPSJ0E7CPpdS3lJwLfsb0p8CHgtF76\nngicWNo81lK3EXAYsA7wFmDLWt2ztjcDJgDfLWUTgLNsbwCcA3yv1n5NYEfbny/P1wbeA2wG/Jek\n10jaBNgfeDuwOXCgpI0GKN+rxLk7sGlfL5Ck5YDlbD/UVxvgRdtb2T4f+IntTW1vCPwaOMD2HODB\n8npsBUwFti7J0RttTwH+FbjB9jjgD8AZwHjb61N9dtin+phvLrYn2u603Tl27Nh+Qo6IiBidhiyR\nKissZwGHtlTtCEyQNA2YBLy2JBR1WwAXletzW+qm2P697VeAaUBHre682s8tamP1jPFjqmSjx0Ul\nEekx2fZLtp8A/gysVNpfavt527OAnwBb91O+dSl/obwGk3p5eXoIcD/1APWtuPXKKtN0YB9g3VJ+\nA9WW4DbA10tsmwK39zLeWsAM2w+W52eWfr3NFxEREYMw1O/a+y5wALBMyxxblPM642yvYvu5QYz5\nUu16DnN/Grv7uKaP8ufbGPsfzisVfZX3N/fcjapE63lJb+mnWT3GM4DPlJWkrwBjSvkNVAncZsDP\ngeWB7YDrBxl363wRERExCEOaSNl+CriQKpnqcSXwmZ4nksb10vVWqm0/qLbJ2jW+9vOWcn1zbYx9\ngBsHMR5Uyciu5TzSMsBuVIlLf+W7SVqqrLR9YIDxvw6cJOm1AJJeK+mgPtouBzwu6TXlXnrcBrwD\neMX2i1QrdZ8s8bS6H+joOUMG7AtcN0CMERER0Yb58e61b1NLnKi2+k6SdHeZ73rg4JY+hwFnS/o8\nMBl4ps25lpR0G1VCuHdtvtMlHQl0U51rapvtOySdAUwpRafZvhOqA+t9lF9Alcw8Qu/JTN0PgGWB\n2yX9Dfgb1WvWm/+kSpoeAaZTJVbYfknSo1QJKGXOvUub1vt5UdL+wEXl3Yq3A6cMEGNERES0QXZb\nu1LzNwhpaWC2bUvaC9jb9geHO654VWdnp7u6uoY7jIhYyOVLi2OkkDTVdudA7Ybt85RabEJ1IF3A\nX4BPDHM8ERHRQJKTGG0WikTK9g3AhsMdx1CSdBJzf1QDVB/x8KPhiCciIiKG3kKRSI1Etg8Z7hgi\nIiJi/sqXFkdEREQ0lEQqIiIioqEkUhERERENJZGKiIiIaCiJVERERERDSaQiIiIiGkoiFREREdFQ\nEqmIiIiIhpJIRURERDSURCoiIiKioXxFTEREDJmOoyYPdwhtyZcrx1DJilREREREQ0mkIiIiIhpK\nIhURERHRUBKpiIiIiIZGfSIlyZJ+XHu+hKRuSZeV5ytJukzSXZLuk/TzUn6IpGm1xz1lrLc1jOPn\nkpYfmrsCSdtJeqYW31Wl7JaWdktI+pOkNwzV3BEREaNF3rUHzwPrSVrK9mzgXcAfavXHAr+0fSKA\npA0AbJ8EnNTTSNJxwDTbv24ShO33NYy/PzfYfn/PE0mLAW+U1GF7ZineEbjH9uPzYf6IiIgRbdSv\nSBW/AHreC7s3cF6t7g3A73ue2L67tbOkbYAPA58uz8dI+pGk6ZLulLR9Kd9P0k8kXS7pN5K+WRtj\npqQVJXVI+rWkUyXdK+lKSUuVNptKulvSLZJOkHTPYG7S9ivARcD4WvFeLfdbv6+DJHVJ6uru7h7M\nVBEREaNCEqnK+cBeksYAGwC31epOAv5X0jWSjpa0cr1j2Y77EfBx28+W4kMAbK9PlZidWcYGGEeV\nyKwPjJf0pl7ieStwku11gb8AHyrlPwIOtr0FMKeN+9q6trV3dCk7jyp5QtKSwPuAS3rrbHui7U7b\nnWPHjm1juoiIiNElW3tUq0ySOqiSnp+31F0h6S3Ae4GdgDslrWe7Z4nmB8DZtm+qddsK+H7pf7+k\nR4A1S93Vtp8BkHQfsBrwaEtIM2xPK9dTgY6SsC1n++ZSfi7wfvo319Zeied2SctKWgt4G3Cr7acH\nGCciIiJ6kRWpV00CvkUv21y2n7J9ru19gduBbQAkfRzoAP67pYv6meel2vUcek9me2vT35iDdT7V\nqlSf23oRERExsCRSrzodONb29HqhpB0kLV2ulwNWB35XVqm+Buxj++WWsa4H9il91gRWBR6Yl+DK\nqtFzkjYvRXvNw3DnAR8FdqBKICMiIqKBbO0Vtn8PnNhL1SbABEkvUyWep5XtsR8CywA/keZaLPo3\n4GTgFEnTgZeB/Wy/1NKuiQOAUyU9D1wLPNNkENv3SXoBmGr7+XkNKiIiYrSS7eGOIdokaVnbs8r1\nUcAbbH92Qczd2dnprq6uBTFVRCzC8qXFMVJImmq7c6B2WZFatOws6d+pfm+PAPsNbzgREXNLghKj\nTRKpRYjtC4AL6mWS3gN8o6XpDNu7LbDAIiIiRqkkUos421cAVwx3HBEREaNR3rUXERER0VASqYiI\niIiGkkhFRERENJREKiIiIqKhJFIRERERDSWRioiIiGgoiVREREREQ0mkIiIiIhpKIhURERHRUBKp\niIiIiIaSSEVEREQ0lO/ai4iIIdNx1OThDqEtM4/febhDiBEiK1IRERERDSWRioiIiGgoiVRERERE\nQ4tkIiXp9ZLOl/SQpPsk/VzSmvM45naSLivXu0g6qlzvKmmdWrtjJe3YcI59JN1dHjdL2nCA9nMk\nTas9OprM2zLmMZKOmNdxIiIiYhE8bC5JwKXAmbb3KmXjgJWAB4diDtuTgEnl6a7AZcB9pe7L8zD0\nDGBb209L2gmYCLy9n/azbY+bh/naJmkJ2y8viLkiIiJGikVxRWp74G+2T+kpsD0NuFHSCZLukTRd\n0nj4+0rTtZIulnS/pHNKMoak95ayG4Hde8aTtJ+kCZLeAewCnFBWhFaXdIakPUq7d0q6s8x3uqQl\nS/lMSV+RdEepW7vEebPtp8s0twJvHOzNS1q83OftZWXrk7W6I2vlX6mVHy3pAUlXAWvVyq+VdJyk\n64DP9jLXQZK6JHV1d3cPNtSIiIgRb5FbkQLWA6b2Ur47MA7YEFgRuF3S9aVuI2Bd4DHgJmBLSV3A\nqcAOwG+BC1oHtH2zpEnAZbYvBig5GJLGAGcA77T9oKSzgE8B3y3dn7C9saRPA0cA/9oy/AHALwa4\n16UkTSvXM2zvVvo9Y3vTkrjdJOlK4K3lsRkgYJKkbYDngb3Ka7AEcEfL67e87W17m9z2RKpVMzo7\nOz1ArBEREaPOophI9WUr4Dzbc4A/lVWWTYFngSm2fw9QEpMOYBZVcvKbUn42cNAg5lur9O/ZTjwT\nOIRXE6mflJ9Tqa12lbm2p0qIthpgjt629t4NbNCzKga8jiqBend53FnKly3lywGX2n6hzD1p7uH+\nMYGMiIiI9iyKidS9wB69lKufPi/Vrufw6n3PyypLf/PV56zPh6QNgNOAnWw/2XDef7N9xVyF0nuA\nr9v+YUv5YfR/n883iCEiIiJYNM9I/QpYUtKBPQWSNgWeBsaXM0RjgW2AKf2Mcz/wZkmrl+d799Hu\nOapVnd76d0haozzfF7iuv8AlrUq1UrVvbSVrsK4APiXpNWXMNSUtU8o/IWnZUr6KpH8Brgd2k7SU\npOWADzScNyIiIloscitSti1pN+C75SMKXgRmAodRbWfdRbUC8wXbf+w56N3LOC9KOgiYLOkJ4Eaq\n81etzgdOlXQotZWw0n9/4CJJSwC3A6f00r/uy8AKwMnlrNXLtjvbvPUep1FtTd5RDs13A7vavlLS\n24BbytizgI/avkPSBcA04BHghkHOFxEREX2QnTPEMbDOzk53dXUNdxgRsZDLd+3FSCFpajuLHYvc\nilRERCy8kqDEaJNEaphJWgG4upeqdzY8jB4RERELSBKpYVaSpQXy6eURERExtBbFd+1FRERELBSS\nSEVEREQ0lEQqIiIioqEkUhERERENJZGKiIiIaCiJVERERERDSaQiIiIiGkoiFREREdFQEqmIiIiI\nhpJIRURERDSURCoiIiKioXzXXkTEIqjjqMnDHUKvZh6/83CHELFAZUUqIiIioqEkUhERERENJZGK\niIiIaGhUJ1KSZtWu3yfpN5JWlXSwpI+V8v0krTzAOPtJmjDEsf2fpFtays6QtMcgx3mvpCmS7pc0\nTdIFklYdylgjIiJGqxw2ByS9E/g+8G7bvwNOqVXvB9wDPLYA41ke2BiYJenNtmc0HGc9qvvaxfav\nS9kuQAfwu5a2S9h+eZ4Cj4iIGGVG9YoUgKStgVOBnW0/VMqOkXREWf3pBM4pqzlLSdpU0s2S7ior\nPcuVoVaWdHlZ1fpmbfx3S7pF0h2SLpK0bCmfKekrpXy6pLVrYX0I+BlwPrBXS8g7SrpB0oOS3l/G\nuk3SurU5r5W0CfBF4LieJArA9iTb19faHSfpOuCzQ/ByRkREjCqjPZFaEvg/YFfb97dW2r4Y6AL2\nsT0OmANcAHzW9obAjsDs0nwcMB5YHxgv6U2SVgT+A9jR9sZlrMNrUzxRyn8AHFEr3xs4rzz2bgmr\nA9gW2Bk4RdIYqoTrwwCS3gCsbHsqsC5wxwCvwfK2t7X97dYKSQdJ6pLU1d3dPcAwERERo89oT6T+\nBtwMHNBm+7WAx23fDmD72dp22NW2n7H9InAfsBqwObAOcJOkacDHS3mPn5SfU6kSJCStBKwB3Gj7\nQeDlskXX40Lbr9j+DfAwsDZwIbBnqf8wcFFr4JJWKKtqD0qqJ20X9HWztifa7rTdOXbs2P5fmYiI\niFFotCdSr1AlHptK+lIb7QW4j7qXatdzqM6fCfil7XHlsY7tA3rp09MeqlWtfwJmSJpJlWDVt/da\n57ftPwBPStqg9D+/1N1LddYK20+WVbWJwLK1/s/3fbsRERHRn9GeSGH7BeD9wD6SeluZeg7oOQd1\nP9VZqE0BJC0nqb8D+7cCW0pao7RfWtKaA4S0N/Be2x22O4BNmDuR2lPSYpJWB94CPFDKzwe+ALzO\n9vRS9k3gaElvq/VfeoD5IyIiok151x5g+ylJ7wWul/RES/UZVGeRZgNbUK34fF/SUlTno3bsZ9xu\nSfsB50lashT/B/Bgb+0ldQCrUiVgPWPMkPSspLeXogeA64CVgIPLViLAxcCJwH/X+k6X9FngrHIo\n/kmqd+v9V9+vRkRERLRLdl87VRGv6uzsdFdX13CHERFFvmsvYv6SNNV250DtsiIVEbEISsISsXAY\n9WekIiIiIppKIhURERHRUBKpiIiIiIaSSEVEREQ0lEQqIiIioqEkUhERERENJZGKiIiIaCiJVERE\nRERDSaQiIiIiGkoiFREREdFQEqmIiIiIhpJIRURERDSURCoiIiKioSWGO4CIiBicjqMmD3cIfZp5\n/M7DHULEApUVqYiIiIiGkkhFRERENJREKiIiIqKhJFIRERERDQ2YSEmypG/Xnh8h6ZgB+uwi6agB\n2mwn6bI+6mZKWnGg2PoZ+xhJRzTt33RcSWdIekHScrWyE8tr2Ph+amP1+Zq12X8ZSU9Kel1L+U8l\nfXhe44uIiBht2lmRegnYfTCJgO1Jto9vHlZzkob7nYi/BT5YYlkM2B74w7BGVNh+HrgS2LWnrCRV\nWwGNE7SIiIjRqp1E6mVgIvC51gpJYyVdIun28tiylO8naUK5Xl3SraX+WEmzakMsK+liSfdLOkeS\nanVHSppSHmuUsVaTdLWku8vPVUv5GZL+R9I1wDdK/3UkXSvpYUmH1mI+XNI95XFYG+VHS3pA0lXA\nWm28XucB48v1dsBN5TXsGe+j5Z6mSfqhpMVL+Q8kdUm6V9JXau3fW16fG4Hda+X/XFaS7i6v7wal\nfLqk5VV5UtLHSvmPJe1Y4turFu9uwOW2X2i9EUkHlZi6uru727j1iIiI0aXdM1InAfu0bgkBJwLf\nsb0p8CHgtF76ngicWNr8//buPM6uok7/+OcBlE0WhRhwwSCIrCGYBkV2wVHGAQHRwKACozCOMAw6\noFH8KW4jizMoE1ADsikCguBkCAqKIGGnQ0IWwEFWGVzCAGELiPH5/XGq4aTpvn37pNOd7n7er9d9\n9TlVdaq+pxLob+rUvfeRbnXbAEcDmwNvBnao1T1peztgCvCtUjYFOM/2eOB84NRa+02APWz/aznf\nFHgPsB3wJUmvkDQROBR4O/AO4DBJ2/RRfkCJcz9g21aTVNwDjJH0auBA4MKuCkmbUSVZO9ieACwG\nDirVx9nuAMYDu0gaL2kV4AxgL2AnYL3aOF8GZpW5+DxwXim/oczjFsB95TrKfd0M/ByYKGmdUn4A\nVXL1Mran2u6w3TFmzJg2bj0iImJ0aesxmO0nJZ0HHAUsqlXtQbXy03W+Zn1/ULE9Lz1K+hHwzVrd\nrbYfBpA0GxgHXF/qLqj9PKXWV9eqzA+Ak2p9XWx7ce18uu3ngecl/QkYS/UI67LyiAtJl1IlGuql\nfIVS/mwpn9bjBL3cpVQJytuBf6yV7w5MBG4rc7Yq8KdS9yFJh1P9maxPlVyuANxv+54y/g+Bw0v7\nHamSV2z/StI6JdGdAewMPAh8Bzhc0uuBx2w/XbuP/SX9BJhA9bgvIiIi+qk/+4m+BdwOnF0rWwHY\n3nY9uWLJJ3QtPV87XtwtHvdyTC/lz7TRd2+BtQq4t7FbuZBqrs61/dfafKiUfW6JwaUNgWOAbW0/\nLukcYJU+xu8pZgPXAUcAGwDHUT26258qwepyAfCF0sd/2X6hX3cXERERQD8+/sD2Y8CPgY/Viq8C\njuw6kTShh0tvpqycsOTenL5Mqv28qRzfWOvjIF5avWrXdcA+klaTtDpVkjGjj/J9Ja1aVtr2amcQ\n2w9RJTGnd6u6mmol6LXw4j6nNwFrUiWCCyWNBfYs7e8GNpS0UTk/sNu9HFT62RV41PaTtn8HrAu8\nxfZ9VHN0DEsmUtcAb6FKuHp8rBcRERF96+873P6dWuJE9ajvNElzSl/XAZ/ods3RwA8l/SswHVjY\n5lgrS7qFKtnrSiCOAs6SdCywgGpfU9ts315We24tRWfangXVhvVeyi8CZlM9KptBm2x/r4eyOyV9\nAbhK1Tv6XgCOsH2zpFnAfKp9TTeU9s+Vx33TJT1KlRRtWbo7Hji7zP2zwMG1oW4BVizHM4BvUEs6\nyyrZT4APUv2ZRURERAOymzy56scA0mrAItuWdABwoO33L9NBY8B1dHS4s7NzqMOICPKlxRGDQdLM\n8iawlgbjM5cmAlPKRxs8AfzDIIwZETFiJVmJWH4s80TK9gxg62U9zmCSdBpLflQDVB/xcHZP7SMi\nImJkGupPAR+WbB8x1DFERETE0MuXFkdEREQ0lEQqIiIioqEkUhERERENJZGKiIiIaCiJVERERERD\nSaQiIiIiGkoiFREREdFQEqmIiIiIhpJIRURERDSURCoiIiKioXxFTETEMDJu8vShDqGlfKFyjDZZ\nkYqIiIhoKIlURERERENJpCIiIiIaSiIVERER0dAyTaQkLZY0u/aa3Ef7zzcc50xJm/fzmiMl/VaS\nJa3bR9txkv6+jza7SlpY7nOOpF9Kem0vbQ+RNKWXuo9KmidpvqQ7JR3T/l1FRETEYFrWK1KLbE+o\nvU7oo32/EylJK9r+uO07+3MNcAOwB/BgG5eMA1omUsWMcp/jgduAI3oYu9d3SkraEzga+BvbWwBv\nAxa2MW5EREQMgUF/tCdpLUm/kfTWcn6BpMMknQCsWlZ0zi91H5Z0ayn7XkmAkPS0pK9IugXYXtK1\nkjpK3YGS5pZVnRNr4y5xje1Zth/oIb5daitosyStAZwA7FTKPtXGPQpYA3i8nB8vaaqkq4DzurV9\nn6SbyqrY54BjbD8CYPs522eUdhMk3VxWuy6T9OpSfq2kUyRdJ+kuSdtKulTSPZK+VtqMk3R3Wbmb\nJ+l8SXtIuqG0266X+zhcUqekzgULFvR12xEREaPOsk6kuhKjrtck2wuBI4FzJB0AvNr2GbYn89IK\n1kGSNgMmATvYngAsBg4q/a4OzLP9dtvXdw0m6XXAicC7gAnAtpL2aXVND44Bjihj7gQsAibz0mrT\nKS2u3UnSbOAhqtWus2p1E4H3235xZUvSvqXvv7X9KLAlMLOXvs8DPltWu+YCX6rV/dn2zsB3gf+i\nWgnbEjhE0jqlzcbAt4HxwKZUK2w7lvvtcSXQ9lTbHbY7xowZ0+K2IyIiRqdl/YGci0pCsgTbv5D0\nQeA0YOtert2dKvm4rVrgYVXgT6VuMfCTHq7ZFrjW9gKAsrK1M/DTFtd0dwPwH+XaS20/XMZvxwzb\nf1fG/ixwEvCJUjfN9qJa292ADqrHeE+26lTSWsDatn9dis4FLq41mVZ+zgXm2/59ue4+4I3AE8D9\ntueW8vnA1bYtaS7Vo8uIiIjopyF5156kFYDNqFZ7XtNbM+Dc2v6qt9o+vtQ9Z3txL9f0prdrllD2\ncX2cKnG7WdKmfV3Ti2lUSVyXZ7rV30f1+G+TWtl8quSxv54vP/9aO+46X6lbm+7t6m0iIiKiH4bq\n4w8+BdwFHAicJekVpfyF2vHVwP5d73yT9BpJb+qj31uAXSStW/ZTHQj8uo9rliBpI9tzbZ8IdFI9\nBnuKKunpjx2Be1vUPwjsB5wnaYtS9g3gJEnrlVhWlnRUeRz6uKSdSruP0M/7ioiIiIG3rFciVi17\nhrr8nGrf0MeB7Ww/Jek64AtUe36mAnMk3V72SX0BuKqsYL1Atfen13fZ2f69pM8B11CtTl1h+796\naivpKOAzwHplzCtsfxw4WtJuVI8C7wR+RrVq8xdJdwDntNgn1bVHSlTvtvt4q8mx/RtJBwEXS9rL\n9hWSxgK/LBvWzUv7rA4GvitpNarVrENb9R0RERHLnmwPdQwxDHR0dLizs3Oow4gY9fKlxRGDQ9JM\n2x19tcvemIiIYSSJSsTyJYlUP0l6D9VHLNTdb3vfoYgnIiIihk4SqX6yfSVw5VDHEREREUMvX1oc\nERER0VASqYiIiIiGkkhFRERENJREKiIiIqKhJFIRERERDSWRioiIiGgoiVREREREQ0mkIiIiIhpK\nIhURERHRUBKpiIiIiIbyFTEREcPAuMnThzqEtuRLlWO0yYpURERERENJpCIiIiIaSiIVERER0VAS\nqYiIiIiGGidSkizp32vnx0g6vo9r9pY0uY82u0q6vJe6BySt2yjg6vrjJR3T9Pqm/Uo6R9L9kmaX\n1429tFuq+2sjznGS5i2r/iMiIkabpVmReh7Yrz+/+G1Ps33CUozZmKShfofisbYnlNc7B2NASSsO\nxvwKL68AACAASURBVDgRERGj1dIkUn8BpgKf6l4haYykn0i6rbx2KOWHSJpSjjeSdHOp/4qkp2td\nvErSJZLulnS+JNXqjpV0a3ltXPp6k6SrJc0pPzco5edI+g9J1wAnlus3l3StpPskHVWL+dOS5pXX\n0W2UHyfpN5J+Cby1yQRKWkfSVZJmSfoeoFL+ma7YJJ0i6VfleHdJPyzH35HUKWm+pC/X+nxA0hcl\nXQ98UNJESXdIugk4otZuizKHs8u8vaWH+A4vY3QuWLCgyS1GRESMaEu7R+o04CBJa3Ur/zZwiu1t\ngQ8AZ/Zw7beBb5c2j3Sr2wY4GtgceDOwQ63uSdvbAVOAb5WyKcB5tscD5wOn1tpvAuxh+1/L+abA\ne4DtgC9JeoWkicChwNuBdwCHSdqmj/IDSpz7Adu2mqTi5NqjvfNL2ZeA621vA0wDNijl1wE7leMO\nqsTyFcCOwIxSfpztDmA8sIuk8bWxnrO9o+0LgbOBo2xv3y2eT1DN/4QyxsPdA7Y91XaH7Y4xY8a0\ncYsRERGjy1I97rL9pKTzgKOARbWqPahWfrrO15S0RrfLtwf2Kcc/Ar5Zq7vV9sMAkmYD44DrS90F\ntZ+n1Prarxz/ADip1tfFthfXzqfbfh54XtKfgLFUCcpltp8pY15Klciol/IVSvmzpXxajxO0pGNt\nX9KtbOeuuG1Pl/R4KZ8JTCxz9jxwO1WysxPVXAN8SNLhVH+G61MlnXNK3UUlrrWAtW3/ujY3e5bj\nm4DjJL0BuNT2PW3cQ0RERNQMxLv2vgV8DFi9W7/b1/YEvd72U/3o8/na8WKWTPjcyzG9lD/TRt+i\nZ72Vtxq7v17Wj+0XgAeoVsNupFqF2g3YCLhL0obAMcDuZRVuOrBKrYuue1Zvcdr+EbA3VQJ8paR3\nDcTNREREjCZLnUjZfgz4MVUy1eUq4MiuE0kTerj0ZqrHflA9JmvXpNrPm8rxjbU+DuKl1at2XQfs\nI2k1SasD+1IlL63K95W0alk12quf49XHPQhA0p7Aq7vVHVN+zqB6FDfbtoE1qZKlhZLG8tIq0xJs\nP1Ha7FiKDuqqk/Rm4D7bp1I9VhzfQxcRERHRwkC9k+3fqSVOVI+fTpM0p4xxHVUiUHc08ENJ/0q1\norKwzbFWlnQLVRJ4YG28syQdCyygWslpm+3bJZ0D3FqKzrQ9C6oN672UXwTMBh7kpX1LrZws6Qu1\n8+2ALwMXSLod+DXwUK1+BnAccJPtZyQ91zWO7TskzQLmA/cBN7QY91CquXkWuLJWPgn4sKQXgD8A\nX2njHiIiIqJG1QLHEAwsrQYssm1JBwAH2n7/kAQTfero6HBnZ+dQhxExauVLiyMGl6SZ5U1dLQ3l\nZytNBKaUjzZ4AviHIYwlImK5lgQlYvk0ZImU7RnA1kM1/rIg6TSW/KgGqD5i4OyhiCciIiKWraH+\ntO8RxfYRfbeKiIiIkSJfWhwRERHRUBKpiIiIiIaSSEVEREQ0lEQqIiIioqEkUhERERENJZGKiIiI\naCiJVERERERDSaQiIiIiGkoiFREREdFQEqmIiIiIhpJIRURERDSU79qLiFgOjJs8fahDGBAPnPC+\noQ4hYlBlRSoiIiKioSRSEREREQ0lkYqIiIhoaNQnUpKe7nZ+iKQpDfuaIOlva+d7S5q8tDF2G2Ml\nSf8m6R5Js8vruIEcIyIiItoz6hOpATYBeDGRsj3N9gkDPMbXgNcBW9meAOwEvKJ7I1Xy5xsREbEM\n5RdtC5LGSPqJpNvKa4dSvp2kGyXNKj/fKumVwFeASWWVaFJ9dUvSOZJOLe3vk7R/KV9B0umS5ku6\nXNIVXXU9xLMacBjwz7afA7D9lO3jS/04SXdJOh24HXijpO9I6iz9f7m021PSj2v97irpv3sY7/By\nbeeCBQsGbF4jIiJGinz8AawqaXbt/DXAtHL8beAU29dL2gC4EtgMuBvY2fZfJO0B/JvtD0j6ItBh\n+0ioHhN2G2t9YEdg0zLGJcB+wDhgK+C1wF3AWb3EujHwkO2nWtzPW4FDbX+yxHCc7cckrQhcLWk8\n8Avge5JWt/0MMAm4qHtHtqcCUwE6OjrcYsyIiIhRKYkULCqPyIAXk5+OcroHsLmkruo1Ja0BrAWc\nK+ktgOnh0Vovfmr7r8CdksaWsh2Bi0v5HyRd027gkg4F/gVYB3hnKX7Q9s21Zh+SdDjVn/X6wOa2\n50j6ObCXpEuA9wGfaXfciIiIqCSRam0FYHvbi+qFkv4TuMb2vpLGAde22d/z9W66/WzHb4ENJK1R\nHumdDZwtaR6wYmnzTC3ODYFjgG1tPy7pHGCVUn0RcATwGHBbH6tcERER0YPskWrtKuDIrhNJXStX\nawH/W44PqbV/Clijn2NcD3yg7JUaC+zaW0PbzwLfB6ZIWqXEtCLwyl4uWZMqsVpY+t6zVnct8Daq\nPVcve6wXERERfUsi1dpRQIekOZLuBD5Ryk8CviHpBl5aCQK4hupR4GxJk9oc4yfAw8A84HvALcDC\nFu2PA34PzJM0C5gBnAs80r2h7TuAWcB8qn1XN9TqFgOXUyVXl7cZa0RERNTIzh7ioSbpVbaflrQO\ncCuwg+0/DHVcdR0dHe7s7BzqMCJGrHzXXsTyRdJM2x19tcseqeXD5ZLWpnpE99XlLYmKiGUvCUjE\n8JREajlge9fuZZIuAzbsVvxZ21cOSlARERHRpyRSyynb+w51DBEREdFaNptHRERENJREKiIiIqKh\nJFIRERERDSWRioiIiGgoiVREREREQ0mkIiIiIhpKIhURERHRUBKpiIiIiIaSSEVEREQ0lEQqIiIi\noqEkUhEREREN5bv2IiKG2LjJ04c6hAHzwAnvG+oQIgZVVqQiIiIiGkoiFREREdFQEqmIiIiIhpJI\nNSBpsaTZkuZJuljSag37ebp2vIWkX0n6H0n3SvqypBVq9XtK6pR0l6S7JX2zj74/LGmOpPmS7pB0\npqS1e2i3q6TLm8QfEREx2iWRamaR7Qm2twT+DHxiaTqTtCowDTjB9ibAVsB2wL+U+i2BKcCHbW8G\nbAnc16K/9wKfAva0vQXwNuBGYOzSxBkRERFLSiK19GYAGwNI+nRZpZon6eiuBr2V1/w9cIPtqwBs\nPwscCRxb6j8DfN323aX+L7ZPbxHTccAxtv+3tF9s+yzbvynxvLesal0P7NdbJ5IOL6tgnQsWLGhv\nNiIiIkaRJFJLQdJKwJ7AXEkTgUOBtwPvAA6TtE1v5d262gKYWS+wfS+wankct2X3+j5sAdzeS8yr\nAGcAewE7Aev11ontqbY7bHeMGTOmH8NHRESMDkmkmllV0mygE3gI+D6wI3CZ7WdsPw1cSpWo9FZe\nJ8A9jKOlDVTSVmU/172SJgGbAvfbvse2gR8u7RgRERGjVT6Qs5lFtifUCyT1lvS0kwzNB3bu1t+b\ngUdtPyFpPjARuKPN+OZT7Yu6xvZcYIKkKcCqpb6npC0iIiL6KStSA+c6YB9Jq0laHdiXav9Ub+V1\n5wM7StoDXtx8firwpVJ/MvB5SZuU+hUkfbpFLN8AvinpDbWyriTqbmBDSRuV8wMb3GtERESQFakB\nY/t2SecAt5aiM23PAuitvHbtIkl7A/8p6XTg9cDXbJ9f6ueUTeoXlI9aMNDrd0rYvkLSGOBnklYE\nngDmAVfafk7S4cB0SY8C11PtwYqIiIh+UrVNJpYnkvYB/gPYzfaDQx0PQEdHhzs7O4c6jIgRKd+1\nF7H8kTTTdkdf7bIitRyy/VPgp0MdR0QMjiQfEcNXEqlhTNJxwAe7FV9s++tDEU9ERMRok0RqGCsJ\nU5KmiIiIIZJ37UVEREQ0lEQqIiIioqEkUhERERENJZGKiIiIaCiJVERERERDSaQiIiIiGkoiFRER\nEdFQEqmIiIiIhpJIRURERDSURCoiIiKioSRSEREREQ3lu/YiIgbYuMnThzqEIfPACe8b6hAiBlVW\npCIiIiIaSiIVERER0VASqYiIiIiGkkhFRERENDSiEilJiyXNrr3GDWDfa0v6ZO38dZIuGaj+a/1e\nK6mjRf0DkmZ0K5staV4f/b4Yr6R3S5opaW75+a6BiT4iImJ0GWnv2ltke8Iy6ntt4JPA6QC2HwH2\nX0Zj9WUNSW+0/TtJm7VzQbd4HwX2sv2IpC2BK4HXL6NYIyIiRqwRtSLVE0mHSJpSO79c0q7l+GlJ\nX5d0h6SbJY0t5WMlXVbK75D0TuAEYKOy+nOypHFdq0CSVpF0dlnhmSVpt9rYl0r6uaR7JJ1Ui+M7\nkjolzZf05X7e1o+BSeX4QOCCWr/jJM2QdHt5vbNWPg/A9qySWAHMB1aRtHIPc3d4ibFzwYIF/Qwx\nIiJi5BtpidSqtcd6l7XRfnXgZttbA9cBh5XyU4Ffl/K3USUbk4F7bU+wfWy3fo4AsL0VVWJzrqRV\nSt0EqqRnK2CSpDeW8uNsdwDjgV0kje/HfV4C7FeO9wL+u1b3J+Ddtt9Wxj21j74+AMyy/Xz3CttT\nbXfY7hgzZkw/wouIiBgdRvujvT8Dl5fjmcC7y/G7gI8C2F4MLJT06hb97Aj8Z2l/t6QHgU1K3dW2\nFwJIuhN4E/A74EOSDqf6M1gf2ByY02bcjwGPSzoAuAt4tlb3CmCKpAnA4locLyNpC+BE4G/aHDci\nIiJqRloi1ZO/sOTK2yq14xdsuxwvpvl8qEVdfaVnMbCSpA2BY4BtbT8u6ZxucbXjIuA04JBu5Z8C\n/ghsTXXfz/UYsPQG4DLgo7bv7efYERERwch7tNeTB4AJklYoj9W2a+Oaq4F/ApC0oqQ1gaeANXpp\nfx1wUGm/CbAB8JsW/a8JPEO10jUW2LONmLq7DDiJaqN43VrA723/FfgIsGL3CyWtDUwHPmf7hgZj\nR0REBKMjkboBuB+YC3wTuL2Na/4F2E3SXKpHflvY/j/gBknzJJ3crf3pwIql/UXAIT3tOepi+w5g\nFtXeq7NKjP1i+ynbJ9r+cw+xHCzpZqrHes/ULys/jwQ2Bv5fbU/Za/sbQ0RExGinl55sxUgmaSLw\nH7Z3aXJ9R0eHOzs7BziqiIiI5ZOkmeVNYS2NhhWpUa98wOcFwLeHOpaIiIiRZDRsNh+WJN0CdP9s\np4/Yntvfvmx30uLdexEREdFMEqnllO23D3UMERER0Voe7UVEREQ0lEQqIiIioqEkUhERERENJZGK\niIiIaCiJVERERERDSaQiIiIiGkoiFREREdFQEqmIiIiIhpJIRURERDSURCoiIiKioXxFTEQsM+Mm\nTx/qEGKQPXDC+4Y6hIhBlRWpiIiIiIaSSEVEREQ0lEQqIiIioqEkUhERERENDetESpIl/aB2vpKk\nBZIuL+djJV0u6Q5Jd0q6opQfIWl27TWv9LVZwziukLT2wNzVi31uJ+k6Sb+RdLekMyWt1kO7bSSd\n2Udfu9bm5BBJU8rxkZIOHci4IyIiRpPh/q69Z4AtJa1qexHwbuB/a/VfAX5h+9sAksYD2D4NOK2r\nkaR/A2bbvqtJELb/tmH8PZI0FrgYOMD2TZIEfABYA3i2W/PPA19rONRZwA3A2U1jjYiIGM2G9YpU\n8TOg6/22BwIX1OrWBx7uOrE9p/vFknYGPgR8spyvIulsSXMlzZK0Wyk/RNKlkn4u6R5JJ9X6eEDS\nupLGSbpL0hmS5ku6StKqpc22kuZIuknSyZLmtbinI4Bzbd9U4rbtS2z/sVvsawDjbd9RzreTdGOJ\n+0ZJb201cbafBR6QtF1P9ZIOl9QpqXPBggWtuoqIiBiVRkIidSFwgKRVgPHALbW604DvS7pG0nGS\nXle/sDyOOxs42PaTpfgIANtbUSVm55a+ASYAk4CtgEmS3thDPG8BTrO9BfAE1UoSZZxP2N4eWNzH\nPW0JzOyjDUAHUE/I7gZ2tr0N8EXg39rooxPYqacK21Ntd9juGDNmTBtdRUREjC7DPpEqq0zjqJKe\nK7rVXQm8GTgD2BSYJameEXwH+KHtG2plOwI/KNffDTwIbFLqrra90PZzwJ3Am3oI6X7bs8vxTGBc\nSdjWsH1jKf9Rk3vtwfpAfaloLeDistp1CrBFG338CXhdn60iIiLiZYZ9IlVMA77Jko/1ALD9mO0f\n2f4IcBuwM4Ckg6kSsK92u0Qtxnm+dryYnveY9dSmVZ89mQ9MbKPdImCV2vlXgWtsbwns1a2uN6uU\nfiIiIqKfRkoidRbwFdtz64WS3tX1Treyn2gj4CFJbwa+Dhxk+y/d+roOOKhcswmwAfCbpQnO9uPA\nU5LeUYoO6OOSKcDBkt5eu5cPS1qvW7u7gI1r52vx0mb7Q9oMbxOWfDwYERERbRoRiZTth7vemdfN\nRKBT0hzgJuBM27cBnwVWBy7t9jEIOwGnAytKmgtcBBxi+/ke+u6vjwFTJd1EtUK1sMX9/JEq2fpm\n+fiDu6j2MT3Zrd3dwFolSQQ4CfiGpBuAFduMawfgl/26k4iIiABAtoc6hlFB0qtsP12OJwPr2/6X\nAej3U8BTtlt+llQv124DfLo89mypo6PDnZ2dTUKMUSxfWjz65EuLY6SQNNN2R1/thvvnSA0n75P0\nOao5f5D2H7315TvABxteuy7w/wYojoiXyS/ViBjpkkgNEtsXUT0qfJGk9wAndmt6v+19+9Hvc5R3\nGTaI6RdNrouIiIhKEqkhVD6e4cqhjiMiIiKaGRGbzSMiIiKGQhKpiIiIiIaSSEVEREQ0lEQqIiIi\noqEkUhERERENJZGKiIiIaCiJVERERERDSaQiIiIiGkoiFREREdFQEqmIiIiIhvIVMRHxMuMmTx/q\nEGKYyhdVx2iTFamIiIiIhpJIRURERDSURCoiIiKioSRSEREREQ2NiERK0nqSLpR0r6Q7JV0haZOl\n7HNXSZeX470lTS7H+0javNbuK5L2aDjGQZLmlNeNkrbuo/1iSbMlzZN0saTVGox5raTO2nmHpGsb\nhB8RETHqDftESpKAy4BrbW9ke3Pg88DYgRrD9jTbJ5TTfYDNa3VftP3Lhl3fD+xiezzwVWBqH+0X\n2Z5ge0vgz8AnGo77Wkl7Nrw2IiIiimGfSAG7AS/Y/m5Xge3ZwPWSTi6rN3MlTYIXV5qulXSJpLsl\nnV+SMSS9t5RdD+zX1Z+kQyRNkfROYG/g5LIytJGkcyTtX9rtLmlWGe8sSSuX8gckfVnS7aVu0xLn\njbYfL8PcDLyhH/c9A9i49P/pcp/zJB1dylaXNF3SHaV8Uu3ak4Ev9DWApMMldUrqXLBgQT9Ci4iI\nGB1GQiK1JTCzh/L9gAnA1sAeVMnP+qVuG+BoqpWlNwM7SFoFOAPYC9gJWK97h7ZvBKYBx5aVoXu7\n6sr15wCTbG9F9Rld/1S7/FHbbwO+AxzTQ7wfA37Wzg1LWgnYE5graSJwKPB24B3AYZK2Ad4LPGJ7\n67KC9fNaFzcBz0vardU4tqfa7rDdMWbMmHZCi4iIGFVGQiLVmx2BC2wvtv1H4NfAtqXuVtsP2/4r\nMBsYB2wK3G/7HtsGftjP8d5arv+fcn4usHOt/tLyc2YZ70UlofkY8Nk+xlhV0mygE3gI+H65z8ts\nP2P76TLOTsBcYA9JJ0rayfbCbn19jTZWpSIiIqJ3IyGRmg9M7KFcLa55vna8mJc+4d1LEUer8epj\n1sdD0njgTOD9tv+vjz669khNsP3Ptv/c27gloZtIlVB9Q9IXu9X/CliFahUrIiIiGhgJidSvgJUl\nHdZVIGlb4HFgkqQVJY2hWh26tUU/dwMbStqonB/YS7ungDV6uX6cpI3L+UeoVsF6JWkDqhWkj9RW\nsvrrOmAfSatJWh3YF5gh6XXAs7Z/CHwTeFsP134d+EzDcSMiIka9Yf9de7YtaV/gW+UjCp4DHqDa\nA/Uq4A6qlabP2P5D10bvHvp5TtLhwHRJjwLXU+2/6u5C4AxJRwH7d7v+UODisofpNuC7PVxf90Vg\nHeD0st/9L7Y72rz1rnFvl3QOLyWJZ9qeJek9VPvC/gq8wJL7tbquvUJSdpFHREQ0pGo7UERrHR0d\n7uzs7LthjAj50uJoKl9aHCOFpJntLG4M+xWpiBh4+WUYEdGeJFLLGUnrAFf3ULV7G5vRIyIiYhAl\nkVrOlGRpwlDHEREREX0bCe/ai4iIiBgSSaQiIiIiGkoiFREREdFQEqmIiIiIhpJIRURERDSURCoi\nIiKioSRSEREREQ0lkYqIiIhoKIlURERERENJpCIiIiIaylfExJAYN3n6UIcQEctAvvA6RpusSEVE\nREQ0lEQqIiIioqEkUhERERENJZGKiIiIaGhEJFKSFkuaLWmepP+WtPZS9HWypPnl5/GSLGnjWv2n\nSllHH/0cLWm12vkDktZt0X49SRdKulfSnZKukLSJpHGS5rW47tBy77Ml/VnS3HJ8gqS9JU0u7Y6X\ndEz/ZiMiIiJaGRGJFLDI9gTbWwKPAUcsRV//CLzN9rHlfC5wQK1+f+DONvo5Glitz1aAJAGXAdfa\n3sj25sDngbF9XWv77HLvE4BHgN3K+WTb02yf0E4MERER0X8jJZGquwl4PVQJSllZmldWaib1UT4N\nWB24pasM+Cnw/lL/ZmAhsKBrMEnfkdRZVrG+XMqOAl4HXCPpmjZi3g14wfZ3uwpsz7Y9o95I0gxJ\nE2rnN0ga31unkg6RNKWH8o0k/VzSzNLnpr1cf3i5t84FCxb01CQiImJUG1GJlKQVgd2BaaVoP2AC\nsDWwB3CypPV7K7e9Ny+tbl1U+ngS+J2kLYEDgYtY0nG2O4DxwC6Sxts+lZdWh3ZrI/QtgZlttDsT\nOKTc6ybAyrbntHFdd1OBf7Y9ETgGOL2nRran2u6w3TFmzJgGw0RERIxsIyWRWlXSbOD/gNcAvyjl\nOwIX2F5s+4/Ar4FtW5T35kKqx3v7UD2Cq/uQpNuBWcAWwOYDdE89uRj4O0mvAP4BOKe/HUh6FfBO\n4OIyZ98D1h/IICMiIkaLkZJILSp7hN4EvJKX9kipl/a9lffmv4GPAA/ZfvLFTqQNqVZ0drc9HpgO\nrNLPvgHmAxP7amT7Waok8f3Ah4AfNRhrBeCJrn1V5bVZg34iIiJGvZGSSAFgeyFwFHBMWbW5Dpgk\naUVJY4CdgVtblPfW7yLgs8DXu1WtCTwDLJQ0FtizVvcUsEabof8KWFnSYV0FkraVtEsPbc8ETgVu\ns/1Ym/2/qCSC90v6YBlHkrbubz8RERExwhIpANuzgDuoHsVdBswp578CPmP7Dy3KW/V7oe3bu5Xd\nQfVIbz5wFnBDrXoq8LN2NpvbNrAv8O7y8QfzgeOp9ll1bzuTat/W2X3128JBwMck3VFif/9S9BUR\nETFqqfodHsOFpNcB1wKb2v7rYI3b0dHhzs7OAesvX1ocMTLlS4tjpJA0s7yZrKWVBiOYGBiSPkr1\nePHTg5lELQv5n21ERIwESaQGkaR1gKt7qNrd9v/1db3t84DzBjywiIiIaCSJ1CAqydKEPhtGRETE\nsDDiNptHREREDJYkUhERERENJZGKiIiIaCiJVERERERD+RypaIukBcCDDS5dF3h0gMMZzTKfAyvz\nOfAypwMr8znw2p3TN9ke01ejJFKxTEnqbOcDzaI9mc+BlfkceJnTgZX5HHgDPad5tBcRERHRUBKp\niIiIiIaSSMWyNnWoAxhhMp8DK/M58DKnAyvzOfAGdE6zRyoiIiKioaxIRURERDSURCoiIiKioSRS\nMaAkvUbSLyTdU36+upd2G0i6StJdku6UNG5wIx0e2p3P0nZNSf8racpgxjictDOfkiZIuknSfElz\nJE0ailiXd5LeK+k3kn4raXIP9StLuqjU35L/xltrYz4/Xf5fOUfS1ZLeNBRxDhd9zWet3f6SLKnx\nxyEkkYqBNhm42vZbgKvLeU/OA062vRmwHfCnQYpvuGl3PgG+Cvx6UKIavtqZz2eBj9reAngv8C1J\naw9ijMs9SSsCpwF7ApsDB0ravFuzjwGP294YOAU4cXCjHD7anM9ZQIft8cAlwEmDG+Xw0eZ8ImkN\n4CjglqUZL4lUDLT3A+eW43OBfbo3KH+hV7L9CwDbT9t+dvBCHFb6nE8ASROBscBVgxTXcNXnfNr+\nH9v3lONHqJL8Pj/deJTZDvit7fts/xm4kGpu6+pzfQmwuyQNYozDSZ/zafua2v8nbwbeMMgxDift\n/P2E6h+fJwHPLc1gSaRioI21/XuA8vO1PbTZBHhC0qWSZkk6ufwLIl6uz/mUtALw78CxgxzbcNTO\n388XSdoOeCVw7yDENpy8Hvhd7fzhUtZjG9t/ARYC6wxKdMNPO/NZ9zHgZ8s0ouGtz/mUtA3wRtuX\nL+1gKy1tBzH6SPolsF4PVce12cVKwE7ANsBDwEXAIcD3ByK+4WYA5vOTwBW2f5d/8A/IfHb1sz7w\nA+Bg238diNhGkJ7+onX/LJ122kSl7bmS9GGgA9hlmUY0vLWcz/KPz1Oofu8stSRS0W+29+itTtIf\nJa1v+/flF1FPe58eBmbZvq9c81PgHYzSRGoA5nN7YCdJnwReBbxS0tO2W+2nGrEGYD6RtCYwHfiC\n7ZuXUajD2cPAG2vnbwAe6aXNw5JWAtYCHhuc8IadduYTSXtQ/YNgF9vPD1Jsw1Ff87kGsCVwbfnH\n53rANEl72+7s72B5tBcDbRpwcDk+GPivHtrcBrxaUte+k3cBdw5CbMNRn/Np+yDbG9geBxwDnDda\nk6g29Dmfkl4JXEY1jxcPYmzDyW3AWyRtWObrAKq5ravP9f7Ar5xPgO5Nn/NZHkV9D9jbdt6c01rL\n+bS90Pa6tseV/2/eTDWv/U6iIIlUDLwTgHdLugd4dzlHUoekMwFsL6b6hX+1pLlUy7BnDFG8y7s+\n5zP6pZ35/BCwM3CIpNnlNWFowl0+lT1PRwJXAncBP7Y9X9JXJO1dmn0fWEfSb4FP0/odp6Nam/N5\nMtWK88Xl72T3xDWKNudzwOQrYiIiIiIayopURERERENJpCIiIiIaSiIVERER0VASqYiIiIiGG1Dk\n1AAAABxJREFUkkhFRERENJREKiIiIqKhJFIRERERDf1/oEXQp5+JCB8AAAAASUVORK5CYII=\n",
      "text/plain": [
       "<matplotlib.figure.Figure at 0x7fe28d7f88d0>"
      ]
     },
     "metadata": {},
     "output_type": "display_data"
    }
   ],
   "source": [
    "matplotlib.rcParams['figure.figsize'] = (8.0, 10.0)\n",
    "imp_coef.plot(kind = \"barh\")\n",
    "plt.title(\"Coefficients in the Ridge Model\")"
   ]
  },
  {
   "cell_type": "markdown",
   "metadata": {},
   "source": [
    "### Lasso"
   ]
  },
  {
   "cell_type": "code",
   "execution_count": 16,
   "metadata": {},
   "outputs": [
    {
     "data": {
      "text/plain": [
       "0.1231442109097743"
      ]
     },
     "execution_count": 16,
     "metadata": {},
     "output_type": "execute_result"
    }
   ],
   "source": [
    "model_lasso = LassoCV(alphas = [1, 0.1, 0.001, 0.0005]).fit(X_train, y)\n",
    "rmse_cv(model_lasso).mean()"
   ]
  },
  {
   "cell_type": "markdown",
   "metadata": {},
   "source": [
    "Lasso regression: rmsle ~0.123\n",
    "This is better then ridge."
   ]
  },
  {
   "cell_type": "code",
   "execution_count": 17,
   "metadata": {},
   "outputs": [
    {
     "name": "stdout",
     "output_type": "stream",
     "text": [
      "Lasso picked 110 variables and eliminated the other 178 variables\n"
     ]
    }
   ],
   "source": [
    "coef = pd.Series(model_lasso.coef_, index = X_train.columns)\n",
    "print(\"Lasso picked \" + str(sum(coef != 0)) + \" variables and eliminated the other \" +  str(sum(coef == 0)) + \" variables\")"
   ]
  },
  {
   "cell_type": "code",
   "execution_count": 18,
   "metadata": {
    "collapsed": true
   },
   "outputs": [],
   "source": [
    "imp_coef = pd.concat([coef.sort_values().head(10),\n",
    "                     coef.sort_values().tail(10)])"
   ]
  },
  {
   "cell_type": "code",
   "execution_count": 19,
   "metadata": {},
   "outputs": [
    {
     "data": {
      "text/plain": [
       "<matplotlib.text.Text at 0x7fe28c953358>"
      ]
     },
     "execution_count": 19,
     "metadata": {},
     "output_type": "execute_result"
    },
    {
     "data": {
      "image/png": "iVBORw0KGgoAAAANSUhEUgAAAk0AAAJOCAYAAACqbjP2AAAABHNCSVQICAgIfAhkiAAAAAlwSFlz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\n4wAAAAVJREFUB1KkXKJvD2fQAAAAAElFTkSuQmCC\n",
      "text/plain": [
       "<matplotlib.figure.Figure at 0x7fe28c9d0080>"
      ]
     },
     "metadata": {},
     "output_type": "display_data"
    }
   ],
   "source": [
    "matplotlib.rcParams['figure.figsize'] = (8.0, 10.0)\n",
    "imp_coef.plot(kind = \"barh\")\n",
    "plt.title(\"Coefficients in the Lasso Model\")"
   ]
  },
  {
   "cell_type": "code",
   "execution_count": 20,
   "metadata": {},
   "outputs": [
    {
     "data": {
      "text/plain": [
       "<matplotlib.axes._subplots.AxesSubplot at 0x7fe28c9d5748>"
      ]
     },
     "execution_count": 20,
     "metadata": {},
     "output_type": "execute_result"
    },
    {
     "data": {
      "image/png": "iVBORw0KGgoAAAANSUhEUgAAAY0AAAF3CAYAAABZrheuAAAABHNCSVQICAgIfAhkiAAAAAlwSFlz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\nnDTMzKwwJw0zMyvMScPMzAr7AyzVSKlYdAWXAAAAAElFTkSuQmCC\n",
      "text/plain": [
       "<matplotlib.figure.Figure at 0x7fe28c8ea2b0>"
      ]
     },
     "metadata": {},
     "output_type": "display_data"
    }
   ],
   "source": [
    "#let's look at the residuals as well:\n",
    "matplotlib.rcParams['figure.figsize'] = (6.0, 6.0)\n",
    "\n",
    "preds = pd.DataFrame({\"preds\":model_lasso.predict(X_train), \"true\":y})\n",
    "preds[\"residuals\"] = preds[\"true\"] - preds[\"preds\"]\n",
    "preds.plot(x = \"preds\", y = \"residuals\",kind = \"scatter\")"
   ]
  },
  {
   "cell_type": "markdown",
   "metadata": {},
   "source": [
    "### xboost model"
   ]
  },
  {
   "cell_type": "code",
   "execution_count": 21,
   "metadata": {},
   "outputs": [],
   "source": [
    "import xgboost as xgb"
   ]
  },
  {
   "cell_type": "code",
   "execution_count": 22,
   "metadata": {
    "collapsed": true
   },
   "outputs": [],
   "source": [
    "dtrain = xgb.DMatrix(X_train, label = y)\n",
    "dtest = xgb.DMatrix(X_test)\n",
    "\n",
    "params = {\"max_depth\":2, \"eta\":0.1}\n",
    "model = xgb.cv(params, dtrain,  num_boost_round=500, early_stopping_rounds=100)"
   ]
  },
  {
   "cell_type": "code",
   "execution_count": 23,
   "metadata": {},
   "outputs": [
    {
     "data": {
      "text/plain": [
       "<matplotlib.axes._subplots.AxesSubplot at 0x7fe28c7fad68>"
=======
      "text/plain": [
       "Index(['Id', 'MSSubClass', 'MSZoning', 'LotFrontage', 'LotArea', 'Street',\n",
       "       'Alley', 'LotShape', 'LandContour', 'Utilities', 'LotConfig',\n",
       "       'LandSlope', 'Neighborhood', 'Condition1', 'Condition2', 'BldgType',\n",
       "       'HouseStyle', 'OverallQual', 'OverallCond', 'YearBuilt', 'YearRemodAdd',\n",
       "       'RoofStyle', 'RoofMatl', 'Exterior1st', 'Exterior2nd', 'MasVnrType',\n",
       "       'MasVnrArea', 'ExterQual', 'ExterCond', 'Foundation', 'BsmtQual',\n",
       "       'BsmtCond', 'BsmtExposure', 'BsmtFinType1', 'BsmtFinSF1',\n",
       "       'BsmtFinType2', 'BsmtFinSF2', 'BsmtUnfSF', 'TotalBsmtSF', 'Heating',\n",
       "       'HeatingQC', 'CentralAir', 'Electrical', '1stFlrSF', '2ndFlrSF',\n",
       "       'LowQualFinSF', 'GrLivArea', 'BsmtFullBath', 'BsmtHalfBath', 'FullBath',\n",
       "       'HalfBath', 'BedroomAbvGr', 'KitchenAbvGr', 'KitchenQual',\n",
       "       'TotRmsAbvGrd', 'Functional', 'Fireplaces', 'FireplaceQu', 'GarageType',\n",
       "       'GarageYrBlt', 'GarageFinish', 'GarageCars', 'GarageArea', 'GarageQual',\n",
       "       'GarageCond', 'PavedDrive', 'WoodDeckSF', 'OpenPorchSF',\n",
       "       'EnclosedPorch', '3SsnPorch', 'ScreenPorch', 'PoolArea', 'PoolQC',\n",
       "       'Fence', 'MiscFeature', 'MiscVal', 'MoSold', 'YrSold', 'SaleType',\n",
       "       'SaleCondition', 'SalePrice'],\n",
       "      dtype='object')"
>>>>>>> master
      ]
     },
     "execution_count": 23,
     "metadata": {},
     "output_type": "execute_result"
    },
    {
     "data": {
      "image/png": "iVBORw0KGgoAAAANSUhEUgAAAXcAAAFpCAYAAABnHGgVAAAABHNCSVQICAgIfAhkiAAAAAlwSFlz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\nkMJdRKQEKdxFRErQ/wfCb4ifuviyKwAAAABJRU5ErkJggg==\n",
      "text/plain": [
       "<matplotlib.figure.Figure at 0x7fe28c8610b8>"
      ]
     },
     "metadata": {},
     "output_type": "display_data"
    }
   ],
   "source": [
<<<<<<< HEAD
    "model.loc[30:,[\"test-rmse-mean\", \"train-rmse-mean\"]].plot()"
=======
    "train_data.columns"
   ]
  },
  {
   "cell_type": "markdown",
   "metadata": {},
   "source": [
    "# Linear regression on sales price and Lotarea"
   ]
  },
  {
   "cell_type": "code",
   "execution_count": 4,
   "metadata": {
    "collapsed": true
   },
   "outputs": [],
   "source": [
    "lotArea = train_data.iloc[:, [0,4]] # this will be our independent variable\n",
    "salePrice = train_data.iloc[:, [0, -1]] # this will be our dependent variable"
   ]
  },
  {
   "cell_type": "code",
   "execution_count": 5,
   "metadata": {
    "scrolled": true
   },
   "outputs": [
    {
     "data": {
      "text/plain": [
       "LinearRegression(copy_X=True, fit_intercept=True, n_jobs=1, normalize=False)"
      ]
     },
     "execution_count": 5,
     "metadata": {},
     "output_type": "execute_result"
    }
   ],
   "source": [
    "# linear regression\n",
    "regressor = LinearRegression()\n",
    "regressor.fit(lotArea, salePrice)"
   ]
  },
  {
   "cell_type": "code",
   "execution_count": 6,
   "metadata": {},
   "outputs": [
    {
     "data": {
      "image/png": "iVBORw0KGgoAAAANSUhEUgAAAZsAAAEWCAYAAACwtjr+AAAABHNCSVQICAgIfAhkiAAAAAlwSFlz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\n/wfvAj/bu31CggAAAABJRU5ErkJggg==\n",
      "text/plain": [
       "<matplotlib.figure.Figure at 0x114567160>"
      ]
     },
     "metadata": {},
     "output_type": "display_data"
    }
   ],
   "source": [
    "# visualize\n",
    "plt.scatter(lotArea, salePrice, color='red') # plot all the points\n",
    "plt.plot(lotArea, regressor.predict(lotArea), color='blue') # plot the regression line\n",
    "plt.title('Sales Price vs Lot Area')\n",
    "plt.xlabel('Lot Area')\n",
    "plt.ylabel('Sale Price')\n",
    "plt.show()"
   ]
  },
  {
   "cell_type": "markdown",
   "metadata": {},
   "source": [
    "# Year built vs Sales prices"
   ]
  },
  {
   "cell_type": "code",
   "execution_count": 7,
   "metadata": {
    "collapsed": true
   },
   "outputs": [],
   "source": [
    "yearBuilt = train_data.iloc[:, [0,19]]\n",
    "salePrice = train_data.iloc[:, [0, -1]]"
   ]
  },
  {
   "cell_type": "code",
   "execution_count": 8,
   "metadata": {
    "collapsed": true,
    "scrolled": false
   },
   "outputs": [],
   "source": [
    "# will determine how old house is by currentYear(2017) - yearBuilt\n",
    "houseAge = []\n",
    "yearBuiltMatrix = yearBuilt.as_matrix()\n",
    "for row in range(len(yearBuiltMatrix)):\n",
    "    houseAge.append([yearBuiltMatrix[row,0],2017 - yearBuiltMatrix[row,1]])"
   ]
  },
  {
   "cell_type": "code",
   "execution_count": 9,
   "metadata": {
    "scrolled": true
   },
   "outputs": [
    {
     "data": {
      "image/png": "iVBORw0KGgoAAAANSUhEUgAAAZsAAAEWCAYAAACwtjr+AAAABHNCSVQICAgIfAhkiAAAAAlwSFlz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\n",
      "text/plain": [
       "<matplotlib.figure.Figure at 0x1177aaac8>"
      ]
     },
     "metadata": {},
     "output_type": "display_data"
    }
   ],
   "source": [
    "# visualize\n",
    "plt.scatter(houseAge, salePrice, color='red')\n",
    "plt.title('Age of house vs Sale Price')\n",
    "plt.xlabel('Age')\n",
    "plt.ylabel('Sale Price')\n",
    "plt.xlim([0, 165])\n",
    "plt.show()"
   ]
  },
  {
   "cell_type": "markdown",
   "metadata": {},
   "source": [
    "# Multiple Regression"
   ]
  },
  {
   "cell_type": "markdown",
   "metadata": {},
   "source": [
    "### Data preprocessing"
   ]
  },
  {
   "cell_type": "code",
   "execution_count": 10,
   "metadata": {
    "collapsed": true
   },
   "outputs": [],
   "source": [
    "# break train_data into dependent and independent columns\n",
    "ind_dframe = train_data.iloc[:, 1:-1] # all the columns except sale price and ID\n",
    "dep_dframe = train_data.iloc[:, -1] # sale price\n",
    "\n",
    "# skew data\n",
    "numeric_features = ind_dframe.dtypes[ind_dframe.dtypes != \"object\"].index\n",
    "\n",
    "skewed_features = ind_dframe[numeric_features].apply(lambda x: skew(x.dropna()))\n",
    "skewed_features = skewed_features[skewed_features > 0.75]\n",
    "skewed_features = skewed_features.index\n",
    "\n",
    "ind_dframe[skewed_features] = np.log1p(ind_dframe[skewed_features])\n",
    "dep_dframe = np.log1p(dep_dframe)\n",
    "\n",
    "# get dummies\n",
    "ind_dframe = pd.get_dummies(ind_dframe)\n",
    "\n",
    "# replave NA with the column mean\n",
    "# NOTE: Might need to replace NA case-by-case\n",
    "ind_dframe = ind_dframe.fillna(ind_dframe.mean())\n",
    "\n",
    "# values of the data frame\n",
    "ind = ind_dframe.values\n",
    "dep = dep_dframe.values\n",
    "\n",
    "# split into test and train sets\n",
    "ind_train, ind_test, dep_train, dep_test = train_test_split(ind, dep, test_size = 0.3, random_state = 0)"
   ]
  },
  {
   "cell_type": "markdown",
   "metadata": {},
   "source": [
    "### Model"
   ]
  },
  {
   "cell_type": "code",
   "execution_count": 11,
   "metadata": {
    "collapsed": true
   },
   "outputs": [],
   "source": [
    "regressor = LinearRegression()\n",
    "regressor.fit(ind_train, dep_train)\n",
    "\n",
    "sale_predictions = regressor.predict(ind_test)"
   ]
  },
  {
   "cell_type": "markdown",
   "metadata": {},
   "source": [
    "### Prediction"
   ]
  },
  {
   "cell_type": "markdown",
   "metadata": {},
   "source": [
    "Now that the model has been fitted with out data we will calculate the average difference between the train and test data."
   ]
  },
  {
   "cell_type": "code",
   "execution_count": 12,
   "metadata": {
    "scrolled": true
   },
   "outputs": [],
   "source": [
    "data_difference = []\n",
    "\n",
    "for index in range(len(dep_test)):\n",
    "    data_difference.append(abs(dep_test[index] - sale_predictions[index]))\n"
   ]
  },
  {
   "cell_type": "markdown",
   "metadata": {},
   "source": [
    "* Max difference"
   ]
  },
  {
   "cell_type": "code",
   "execution_count": 13,
   "metadata": {},
   "outputs": [
    {
     "data": {
      "text/plain": [
       "5.2421353544323122"
      ]
     },
     "execution_count": 13,
     "metadata": {},
     "output_type": "execute_result"
    }
   ],
   "source": [
    "np.amax(data_difference)"
   ]
  },
  {
   "cell_type": "markdown",
   "metadata": {},
   "source": [
    "* Min difference"
   ]
  },
  {
   "cell_type": "code",
   "execution_count": 14,
   "metadata": {},
   "outputs": [
    {
     "data": {
      "text/plain": [
       "0.00077992713137930991"
      ]
     },
     "execution_count": 14,
     "metadata": {},
     "output_type": "execute_result"
    }
   ],
   "source": [
    "np.amin(data_difference)"
   ]
  },
  {
   "cell_type": "markdown",
   "metadata": {},
   "source": [
    "* Average"
   ]
  },
  {
   "cell_type": "code",
   "execution_count": 15,
   "metadata": {},
   "outputs": [
    {
     "data": {
      "text/plain": [
       "0.11847508061104556"
      ]
     },
     "execution_count": 15,
     "metadata": {},
     "output_type": "execute_result"
    }
   ],
   "source": [
    "np.mean(data_difference)"
   ]
  },
  {
   "cell_type": "markdown",
   "metadata": {},
   "source": [
    "### Findings"
   ]
  },
  {
   "cell_type": "code",
   "execution_count": 16,
   "metadata": {
    "collapsed": true
   },
   "outputs": [],
   "source": [
    "# getting all coefficients\n",
    "coef = pd.Series(regressor.coef_, index = ind_dframe.columns)\n",
    "\n",
    "# gettings signifigant coefficients\n",
    "sig_coef = pd.concat([coef.sort_values().head(10), coef.sort_values().tail(10)])"
   ]
  },
  {
   "cell_type": "code",
   "execution_count": 17,
   "metadata": {
    "scrolled": false
   },
   "outputs": [
    {
     "data": {
      "text/plain": [
       "<matplotlib.text.Text at 0x1177c7f28>"
      ]
     },
     "execution_count": 17,
     "metadata": {},
     "output_type": "execute_result"
    },
    {
     "data": {
      "image/png": "iVBORw0KGgoAAAANSUhEUgAAAkMAAAJOCAYAAAC0pwNFAAAABHNCSVQICAgIfAhkiAAAAAlwSFlz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\n",
      "text/plain": [
       "<matplotlib.figure.Figure at 0x1178db7f0>"
      ]
     },
     "metadata": {},
     "output_type": "display_data"
    }
   ],
   "source": [
    "# graphing signifigant coefficients\n",
    "matplotlib.rcParams['figure.figsize'] = (8.0, 10.0)\n",
    "sig_coef.plot(kind = \"barh\")\n",
    "plt.title(\"Coefficients in Multiple Regression Model\")"
>>>>>>> master
   ]
  },
  {
   "cell_type": "code",
   "execution_count": null,
   "metadata": {
    "collapsed": true
   },
   "outputs": [],
   "source": []
  }
 ],
 "metadata": {
  "kernelspec": {
   "display_name": "Python 3",
   "language": "python",
   "name": "python3"
  },
  "language_info": {
   "codemirror_mode": {
    "name": "ipython",
    "version": 3
   },
   "file_extension": ".py",
   "mimetype": "text/x-python",
   "name": "python",
   "nbconvert_exporter": "python",
   "pygments_lexer": "ipython3",
   "version": "3.6.2"
  }
 },
 "nbformat": 4,
 "nbformat_minor": 2
}
